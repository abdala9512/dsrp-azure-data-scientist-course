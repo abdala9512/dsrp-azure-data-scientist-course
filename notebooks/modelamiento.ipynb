{
  "cells": [
    {
      "cell_type": "markdown",
      "source": [
        "# Clase 9: Modelamiento\n",
        "## DP-100 Azure Data Scientist / DSRP\n",
        "## Clase 23 Septiembre\n",
        "\n",
        "### Dataset Utilizado: Hotel Booking\n",
        "\n",
        "https://www.kaggle.com/code/touba7/hotel-booking"
      ],
      "metadata": {
        "nteract": {
          "transient": {
            "deleting": false
          }
        }
      }
    },
    {
      "cell_type": "code",
      "source": [
        "import pandas as pd\n",
        "import mlflow\n",
        "\n",
        "\n",
        "from azure.ai.ml import MLClient\n",
        "from azure.identity import DefaultAzureCredential\n",
        "\n",
        "from sklearn.model_selection import train_test_split, GridSearchCV, RandomizedSearchCV\n",
        "from sklearn.linear_model import LogisticRegression\n",
        "from sklearn.ensemble import RandomForestClassifier, GradientBoostingClassifier\n",
        "from sklearn.dummy import DummyClassifier\n",
        "from sklearn.neighbors import KNeighborsClassifier\n",
        "\n",
        "from sklearn.metrics import (\n",
        "    accuracy_score, \n",
        "    precision_score, \n",
        "    recall_score, \n",
        "    f1_score, \n",
        "    classification_report, \n",
        "    roc_auc_score, \n",
        "    confusion_matrix\n",
        ")\n",
        "\n",
        "from xgboost import XGBClassifier\n",
        "from lightgbm import LGBMClassifier\n",
        "\n",
        "from hyperopt import fmin, hp\n",
        "from loguru import logger\n",
        "\n",
        "\n",
        "\n",
        "# CREDENCIALES AZURE\n",
        "ml_client = MLClient.from_config(credential=DefaultAzureCredential())\n",
        "# METADATA ASSET\n",
        "data_asset = ml_client.data.get(\"gold-booking-dsrp\", version=\"2\")\n"
      ],
      "outputs": [
        {
          "output_type": "stream",
          "name": "stderr",
          "text": "Found the config file in: /config.json\n"
        }
      ],
      "execution_count": 1,
      "metadata": {
        "jupyter": {
          "source_hidden": false,
          "outputs_hidden": false
        },
        "nteract": {
          "transient": {
            "deleting": false
          }
        },
        "gather": {
          "logged": 1727144178976
        }
      }
    },
    {
      "cell_type": "code",
      "source": [
        "modeling_dataframe = pd.read_csv(data_asset.path)"
      ],
      "outputs": [],
      "execution_count": 2,
      "metadata": {
        "jupyter": {
          "source_hidden": false,
          "outputs_hidden": false
        },
        "nteract": {
          "transient": {
            "deleting": false
          }
        },
        "gather": {
          "logged": 1727144181565
        }
      }
    },
    {
      "cell_type": "markdown",
      "source": [
        "## Preparación de los datos"
      ],
      "metadata": {
        "nteract": {
          "transient": {
            "deleting": false
          }
        }
      }
    },
    {
      "cell_type": "code",
      "source": [
        "TARGET_COLUMN = \"is_canceled\"\n",
        "\n",
        "X = modeling_dataframe.drop(TARGET_COLUMN, axis=1)\n",
        "y = modeling_dataframe[TARGET_COLUMN]\n",
        "\n",
        "X_train, X_test, y_train, y_test = train_test_split(X, y, test_size=0.2, random_state=1000)"
      ],
      "outputs": [],
      "execution_count": 3,
      "metadata": {
        "jupyter": {
          "source_hidden": false,
          "outputs_hidden": false
        },
        "nteract": {
          "transient": {
            "deleting": false
          }
        },
        "gather": {
          "logged": 1727144181725
        }
      }
    },
    {
      "cell_type": "code",
      "source": [
        "X_train"
      ],
      "outputs": [
        {
          "output_type": "execute_result",
          "execution_count": 4,
          "data": {
            "text/plain": "        lead_time  arrival_date_week_number  arrival_date_day_of_month  \\\n89468       189.0                      21.0                       19.0   \n54838       386.0                      31.0                       28.0   \n62385       552.0                       2.0                       12.0   \n101395       18.0                      46.0                        7.0   \n103342       87.0                      51.0                       17.0   \n...           ...                       ...                        ...   \n113915       51.0                      23.0                        9.0   \n3776          5.0                       2.0                        4.0   \n71751        80.0                      28.0                       11.0   \n70231       139.0                      24.0                       12.0   \n107955        8.0                      11.0                       17.0   \n\n        stays_in_weekend_nights  stays_in_week_nights  adults  children  \\\n89468                       0.0                   3.0     2.0       0.0   \n54838                       0.0                   1.0     1.0       0.0   \n62385                       0.0                   2.0     2.0       0.0   \n101395                      1.0                   3.0     2.0       0.0   \n103342                      2.0                   1.0     2.0       0.0   \n...                         ...                   ...     ...       ...   \n113915                      2.0                   3.0     2.0       0.0   \n3776                        1.0                   3.0     1.0       0.0   \n71751                       0.0                   4.0     3.0       0.0   \n70231                       1.0                   1.0     2.0       0.0   \n107955                      1.0                   2.0     2.0       1.0   \n\n        babies  is_repeated_guest  previous_cancellations  ...  \\\n89468      0.0                0.0                     0.0  ...   \n54838      0.0                0.0                     0.0  ...   \n62385      0.0                0.0                     0.0  ...   \n101395     0.0                0.0                     0.0  ...   \n103342     0.0                0.0                     0.0  ...   \n...        ...                ...                     ...  ...   \n113915     0.0                0.0                     0.0  ...   \n3776       0.0                0.0                     0.0  ...   \n71751      0.0                0.0                     0.0  ...   \n70231      0.0                0.0                     0.0  ...   \n107955     0.0                0.0                     0.0  ...   \n\n        reserved_room_type_H  reserved_room_type_L  reserved_room_type_P  \\\n89468                    0.0                   0.0                   0.0   \n54838                    0.0                   0.0                   0.0   \n62385                    0.0                   0.0                   0.0   \n101395                   0.0                   0.0                   0.0   \n103342                   0.0                   0.0                   0.0   \n...                      ...                   ...                   ...   \n113915                   0.0                   0.0                   0.0   \n3776                     0.0                   0.0                   0.0   \n71751                    0.0                   0.0                   0.0   \n70231                    0.0                   0.0                   0.0   \n107955                   0.0                   0.0                   0.0   \n\n        deposit_type_No Deposit  deposit_type_Non Refund  \\\n89468                       1.0                      0.0   \n54838                       0.0                      1.0   \n62385                       0.0                      1.0   \n101395                      1.0                      0.0   \n103342                      1.0                      0.0   \n...                         ...                      ...   \n113915                      1.0                      0.0   \n3776                        1.0                      0.0   \n71751                       1.0                      0.0   \n70231                       0.0                      1.0   \n107955                      1.0                      0.0   \n\n        deposit_type_Refundable  customer_type_Contract  customer_type_Group  \\\n89468                       0.0                     0.0                  0.0   \n54838                       0.0                     0.0                  0.0   \n62385                       0.0                     0.0                  0.0   \n101395                      0.0                     0.0                  0.0   \n103342                      0.0                     0.0                  0.0   \n...                         ...                     ...                  ...   \n113915                      0.0                     0.0                  0.0   \n3776                        0.0                     0.0                  0.0   \n71751                       0.0                     0.0                  0.0   \n70231                       0.0                     0.0                  0.0   \n107955                      0.0                     0.0                  0.0   \n\n        customer_type_Transient  customer_type_Transient-Party  \n89468                       0.0                            1.0  \n54838                       1.0                            0.0  \n62385                       1.0                            0.0  \n101395                      1.0                            0.0  \n103342                      1.0                            0.0  \n...                         ...                            ...  \n113915                      1.0                            0.0  \n3776                        0.0                            1.0  \n71751                       1.0                            0.0  \n70231                       1.0                            0.0  \n107955                      1.0                            0.0  \n\n[95512 rows x 68 columns]",
            "text/html": "<div>\n<style scoped>\n    .dataframe tbody tr th:only-of-type {\n        vertical-align: middle;\n    }\n\n    .dataframe tbody tr th {\n        vertical-align: top;\n    }\n\n    .dataframe thead th {\n        text-align: right;\n    }\n</style>\n<table border=\"1\" class=\"dataframe\">\n  <thead>\n    <tr style=\"text-align: right;\">\n      <th></th>\n      <th>lead_time</th>\n      <th>arrival_date_week_number</th>\n      <th>arrival_date_day_of_month</th>\n      <th>stays_in_weekend_nights</th>\n      <th>stays_in_week_nights</th>\n      <th>adults</th>\n      <th>children</th>\n      <th>babies</th>\n      <th>is_repeated_guest</th>\n      <th>previous_cancellations</th>\n      <th>...</th>\n      <th>reserved_room_type_H</th>\n      <th>reserved_room_type_L</th>\n      <th>reserved_room_type_P</th>\n      <th>deposit_type_No Deposit</th>\n      <th>deposit_type_Non Refund</th>\n      <th>deposit_type_Refundable</th>\n      <th>customer_type_Contract</th>\n      <th>customer_type_Group</th>\n      <th>customer_type_Transient</th>\n      <th>customer_type_Transient-Party</th>\n    </tr>\n  </thead>\n  <tbody>\n    <tr>\n      <th>89468</th>\n      <td>189.0</td>\n      <td>21.0</td>\n      <td>19.0</td>\n      <td>0.0</td>\n      <td>3.0</td>\n      <td>2.0</td>\n      <td>0.0</td>\n      <td>0.0</td>\n      <td>0.0</td>\n      <td>0.0</td>\n      <td>...</td>\n      <td>0.0</td>\n      <td>0.0</td>\n      <td>0.0</td>\n      <td>1.0</td>\n      <td>0.0</td>\n      <td>0.0</td>\n      <td>0.0</td>\n      <td>0.0</td>\n      <td>0.0</td>\n      <td>1.0</td>\n    </tr>\n    <tr>\n      <th>54838</th>\n      <td>386.0</td>\n      <td>31.0</td>\n      <td>28.0</td>\n      <td>0.0</td>\n      <td>1.0</td>\n      <td>1.0</td>\n      <td>0.0</td>\n      <td>0.0</td>\n      <td>0.0</td>\n      <td>0.0</td>\n      <td>...</td>\n      <td>0.0</td>\n      <td>0.0</td>\n      <td>0.0</td>\n      <td>0.0</td>\n      <td>1.0</td>\n      <td>0.0</td>\n      <td>0.0</td>\n      <td>0.0</td>\n      <td>1.0</td>\n      <td>0.0</td>\n    </tr>\n    <tr>\n      <th>62385</th>\n      <td>552.0</td>\n      <td>2.0</td>\n      <td>12.0</td>\n      <td>0.0</td>\n      <td>2.0</td>\n      <td>2.0</td>\n      <td>0.0</td>\n      <td>0.0</td>\n      <td>0.0</td>\n      <td>0.0</td>\n      <td>...</td>\n      <td>0.0</td>\n      <td>0.0</td>\n      <td>0.0</td>\n      <td>0.0</td>\n      <td>1.0</td>\n      <td>0.0</td>\n      <td>0.0</td>\n      <td>0.0</td>\n      <td>1.0</td>\n      <td>0.0</td>\n    </tr>\n    <tr>\n      <th>101395</th>\n      <td>18.0</td>\n      <td>46.0</td>\n      <td>7.0</td>\n      <td>1.0</td>\n      <td>3.0</td>\n      <td>2.0</td>\n      <td>0.0</td>\n      <td>0.0</td>\n      <td>0.0</td>\n      <td>0.0</td>\n      <td>...</td>\n      <td>0.0</td>\n      <td>0.0</td>\n      <td>0.0</td>\n      <td>1.0</td>\n      <td>0.0</td>\n      <td>0.0</td>\n      <td>0.0</td>\n      <td>0.0</td>\n      <td>1.0</td>\n      <td>0.0</td>\n    </tr>\n    <tr>\n      <th>103342</th>\n      <td>87.0</td>\n      <td>51.0</td>\n      <td>17.0</td>\n      <td>2.0</td>\n      <td>1.0</td>\n      <td>2.0</td>\n      <td>0.0</td>\n      <td>0.0</td>\n      <td>0.0</td>\n      <td>0.0</td>\n      <td>...</td>\n      <td>0.0</td>\n      <td>0.0</td>\n      <td>0.0</td>\n      <td>1.0</td>\n      <td>0.0</td>\n      <td>0.0</td>\n      <td>0.0</td>\n      <td>0.0</td>\n      <td>1.0</td>\n      <td>0.0</td>\n    </tr>\n    <tr>\n      <th>...</th>\n      <td>...</td>\n      <td>...</td>\n      <td>...</td>\n      <td>...</td>\n      <td>...</td>\n      <td>...</td>\n      <td>...</td>\n      <td>...</td>\n      <td>...</td>\n      <td>...</td>\n      <td>...</td>\n      <td>...</td>\n      <td>...</td>\n      <td>...</td>\n      <td>...</td>\n      <td>...</td>\n      <td>...</td>\n      <td>...</td>\n      <td>...</td>\n      <td>...</td>\n      <td>...</td>\n    </tr>\n    <tr>\n      <th>113915</th>\n      <td>51.0</td>\n      <td>23.0</td>\n      <td>9.0</td>\n      <td>2.0</td>\n      <td>3.0</td>\n      <td>2.0</td>\n      <td>0.0</td>\n      <td>0.0</td>\n      <td>0.0</td>\n      <td>0.0</td>\n      <td>...</td>\n      <td>0.0</td>\n      <td>0.0</td>\n      <td>0.0</td>\n      <td>1.0</td>\n      <td>0.0</td>\n      <td>0.0</td>\n      <td>0.0</td>\n      <td>0.0</td>\n      <td>1.0</td>\n      <td>0.0</td>\n    </tr>\n    <tr>\n      <th>3776</th>\n      <td>5.0</td>\n      <td>2.0</td>\n      <td>4.0</td>\n      <td>1.0</td>\n      <td>3.0</td>\n      <td>1.0</td>\n      <td>0.0</td>\n      <td>0.0</td>\n      <td>0.0</td>\n      <td>0.0</td>\n      <td>...</td>\n      <td>0.0</td>\n      <td>0.0</td>\n      <td>0.0</td>\n      <td>1.0</td>\n      <td>0.0</td>\n      <td>0.0</td>\n      <td>0.0</td>\n      <td>0.0</td>\n      <td>0.0</td>\n      <td>1.0</td>\n    </tr>\n    <tr>\n      <th>71751</th>\n      <td>80.0</td>\n      <td>28.0</td>\n      <td>11.0</td>\n      <td>0.0</td>\n      <td>4.0</td>\n      <td>3.0</td>\n      <td>0.0</td>\n      <td>0.0</td>\n      <td>0.0</td>\n      <td>0.0</td>\n      <td>...</td>\n      <td>0.0</td>\n      <td>0.0</td>\n      <td>0.0</td>\n      <td>1.0</td>\n      <td>0.0</td>\n      <td>0.0</td>\n      <td>0.0</td>\n      <td>0.0</td>\n      <td>1.0</td>\n      <td>0.0</td>\n    </tr>\n    <tr>\n      <th>70231</th>\n      <td>139.0</td>\n      <td>24.0</td>\n      <td>12.0</td>\n      <td>1.0</td>\n      <td>1.0</td>\n      <td>2.0</td>\n      <td>0.0</td>\n      <td>0.0</td>\n      <td>0.0</td>\n      <td>0.0</td>\n      <td>...</td>\n      <td>0.0</td>\n      <td>0.0</td>\n      <td>0.0</td>\n      <td>0.0</td>\n      <td>1.0</td>\n      <td>0.0</td>\n      <td>0.0</td>\n      <td>0.0</td>\n      <td>1.0</td>\n      <td>0.0</td>\n    </tr>\n    <tr>\n      <th>107955</th>\n      <td>8.0</td>\n      <td>11.0</td>\n      <td>17.0</td>\n      <td>1.0</td>\n      <td>2.0</td>\n      <td>2.0</td>\n      <td>1.0</td>\n      <td>0.0</td>\n      <td>0.0</td>\n      <td>0.0</td>\n      <td>...</td>\n      <td>0.0</td>\n      <td>0.0</td>\n      <td>0.0</td>\n      <td>1.0</td>\n      <td>0.0</td>\n      <td>0.0</td>\n      <td>0.0</td>\n      <td>0.0</td>\n      <td>1.0</td>\n      <td>0.0</td>\n    </tr>\n  </tbody>\n</table>\n<p>95512 rows × 68 columns</p>\n</div>"
          },
          "metadata": {}
        }
      ],
      "execution_count": 4,
      "metadata": {
        "jupyter": {
          "source_hidden": false,
          "outputs_hidden": false
        },
        "nteract": {
          "transient": {
            "deleting": false
          }
        },
        "gather": {
          "logged": 1727144181865
        }
      }
    },
    {
      "cell_type": "code",
      "source": [
        "X_test"
      ],
      "outputs": [
        {
          "output_type": "execute_result",
          "execution_count": 5,
          "data": {
            "text/plain": "        lead_time  arrival_date_week_number  arrival_date_day_of_month  \\\n110695      221.0                      17.0                       28.0   \n74453       304.0                      34.0                       17.0   \n94193       301.0                      31.0                       30.0   \n1387         30.0                      35.0                       28.0   \n7654         29.0                      34.0                       18.0   \n...           ...                       ...                        ...   \n101240        1.0                      45.0                        5.0   \n54272        49.0                      29.0                       11.0   \n27544        70.0                      35.0                       26.0   \n13809         7.0                      38.0                       13.0   \n65035        95.0                      12.0                       23.0   \n\n        stays_in_weekend_nights  stays_in_week_nights  adults  children  \\\n110695                      1.0                   2.0     1.0       0.0   \n74453                       1.0                   1.0     2.0       0.0   \n94193                       1.0                   1.0     2.0       0.0   \n1387                        0.0                   1.0     2.0       0.0   \n7654                        2.0                   5.0     2.0       0.0   \n...                         ...                   ...     ...       ...   \n101240                      2.0                   2.0     2.0       0.0   \n54272                       1.0                   0.0     2.0       0.0   \n27544                       2.0                   5.0     2.0       0.0   \n13809                       0.0                   2.0     1.0       0.0   \n65035                       0.0                   1.0     2.0       0.0   \n\n        babies  is_repeated_guest  previous_cancellations  ...  \\\n110695     0.0                0.0                     0.0  ...   \n74453      0.0                0.0                     1.0  ...   \n94193      0.0                0.0                     0.0  ...   \n1387       0.0                0.0                     0.0  ...   \n7654       0.0                0.0                     0.0  ...   \n...        ...                ...                     ...  ...   \n101240     0.0                0.0                     0.0  ...   \n54272      0.0                0.0                     0.0  ...   \n27544      1.0                0.0                     0.0  ...   \n13809      0.0                0.0                     0.0  ...   \n65035      0.0                0.0                     0.0  ...   \n\n        reserved_room_type_H  reserved_room_type_L  reserved_room_type_P  \\\n110695                   0.0                   0.0                   0.0   \n74453                    0.0                   0.0                   0.0   \n94193                    0.0                   0.0                   0.0   \n1387                     0.0                   0.0                   0.0   \n7654                     0.0                   0.0                   0.0   \n...                      ...                   ...                   ...   \n101240                   0.0                   0.0                   0.0   \n54272                    0.0                   0.0                   0.0   \n27544                    0.0                   0.0                   0.0   \n13809                    0.0                   0.0                   0.0   \n65035                    0.0                   0.0                   0.0   \n\n        deposit_type_No Deposit  deposit_type_Non Refund  \\\n110695                      1.0                      0.0   \n74453                       0.0                      1.0   \n94193                       1.0                      0.0   \n1387                        1.0                      0.0   \n7654                        1.0                      0.0   \n...                         ...                      ...   \n101240                      1.0                      0.0   \n54272                       1.0                      0.0   \n27544                       1.0                      0.0   \n13809                       1.0                      0.0   \n65035                       1.0                      0.0   \n\n        deposit_type_Refundable  customer_type_Contract  customer_type_Group  \\\n110695                      0.0                     0.0                  0.0   \n74453                       0.0                     1.0                  0.0   \n94193                       0.0                     0.0                  0.0   \n1387                        0.0                     0.0                  0.0   \n7654                        0.0                     0.0                  0.0   \n...                         ...                     ...                  ...   \n101240                      0.0                     0.0                  0.0   \n54272                       0.0                     0.0                  0.0   \n27544                       0.0                     0.0                  0.0   \n13809                       0.0                     0.0                  0.0   \n65035                       0.0                     0.0                  0.0   \n\n        customer_type_Transient  customer_type_Transient-Party  \n110695                      1.0                            0.0  \n74453                       0.0                            0.0  \n94193                       0.0                            1.0  \n1387                        1.0                            0.0  \n7654                        1.0                            0.0  \n...                         ...                            ...  \n101240                      1.0                            0.0  \n54272                       1.0                            0.0  \n27544                       1.0                            0.0  \n13809                       1.0                            0.0  \n65035                       1.0                            0.0  \n\n[23878 rows x 68 columns]",
            "text/html": "<div>\n<style scoped>\n    .dataframe tbody tr th:only-of-type {\n        vertical-align: middle;\n    }\n\n    .dataframe tbody tr th {\n        vertical-align: top;\n    }\n\n    .dataframe thead th {\n        text-align: right;\n    }\n</style>\n<table border=\"1\" class=\"dataframe\">\n  <thead>\n    <tr style=\"text-align: right;\">\n      <th></th>\n      <th>lead_time</th>\n      <th>arrival_date_week_number</th>\n      <th>arrival_date_day_of_month</th>\n      <th>stays_in_weekend_nights</th>\n      <th>stays_in_week_nights</th>\n      <th>adults</th>\n      <th>children</th>\n      <th>babies</th>\n      <th>is_repeated_guest</th>\n      <th>previous_cancellations</th>\n      <th>...</th>\n      <th>reserved_room_type_H</th>\n      <th>reserved_room_type_L</th>\n      <th>reserved_room_type_P</th>\n      <th>deposit_type_No Deposit</th>\n      <th>deposit_type_Non Refund</th>\n      <th>deposit_type_Refundable</th>\n      <th>customer_type_Contract</th>\n      <th>customer_type_Group</th>\n      <th>customer_type_Transient</th>\n      <th>customer_type_Transient-Party</th>\n    </tr>\n  </thead>\n  <tbody>\n    <tr>\n      <th>110695</th>\n      <td>221.0</td>\n      <td>17.0</td>\n      <td>28.0</td>\n      <td>1.0</td>\n      <td>2.0</td>\n      <td>1.0</td>\n      <td>0.0</td>\n      <td>0.0</td>\n      <td>0.0</td>\n      <td>0.0</td>\n      <td>...</td>\n      <td>0.0</td>\n      <td>0.0</td>\n      <td>0.0</td>\n      <td>1.0</td>\n      <td>0.0</td>\n      <td>0.0</td>\n      <td>0.0</td>\n      <td>0.0</td>\n      <td>1.0</td>\n      <td>0.0</td>\n    </tr>\n    <tr>\n      <th>74453</th>\n      <td>304.0</td>\n      <td>34.0</td>\n      <td>17.0</td>\n      <td>1.0</td>\n      <td>1.0</td>\n      <td>2.0</td>\n      <td>0.0</td>\n      <td>0.0</td>\n      <td>0.0</td>\n      <td>1.0</td>\n      <td>...</td>\n      <td>0.0</td>\n      <td>0.0</td>\n      <td>0.0</td>\n      <td>0.0</td>\n      <td>1.0</td>\n      <td>0.0</td>\n      <td>1.0</td>\n      <td>0.0</td>\n      <td>0.0</td>\n      <td>0.0</td>\n    </tr>\n    <tr>\n      <th>94193</th>\n      <td>301.0</td>\n      <td>31.0</td>\n      <td>30.0</td>\n      <td>1.0</td>\n      <td>1.0</td>\n      <td>2.0</td>\n      <td>0.0</td>\n      <td>0.0</td>\n      <td>0.0</td>\n      <td>0.0</td>\n      <td>...</td>\n      <td>0.0</td>\n      <td>0.0</td>\n      <td>0.0</td>\n      <td>1.0</td>\n      <td>0.0</td>\n      <td>0.0</td>\n      <td>0.0</td>\n      <td>0.0</td>\n      <td>0.0</td>\n      <td>1.0</td>\n    </tr>\n    <tr>\n      <th>1387</th>\n      <td>30.0</td>\n      <td>35.0</td>\n      <td>28.0</td>\n      <td>0.0</td>\n      <td>1.0</td>\n      <td>2.0</td>\n      <td>0.0</td>\n      <td>0.0</td>\n      <td>0.0</td>\n      <td>0.0</td>\n      <td>...</td>\n      <td>0.0</td>\n      <td>0.0</td>\n      <td>0.0</td>\n      <td>1.0</td>\n      <td>0.0</td>\n      <td>0.0</td>\n      <td>0.0</td>\n      <td>0.0</td>\n      <td>1.0</td>\n      <td>0.0</td>\n    </tr>\n    <tr>\n      <th>7654</th>\n      <td>29.0</td>\n      <td>34.0</td>\n      <td>18.0</td>\n      <td>2.0</td>\n      <td>5.0</td>\n      <td>2.0</td>\n      <td>0.0</td>\n      <td>0.0</td>\n      <td>0.0</td>\n      <td>0.0</td>\n      <td>...</td>\n      <td>0.0</td>\n      <td>0.0</td>\n      <td>0.0</td>\n      <td>1.0</td>\n      <td>0.0</td>\n      <td>0.0</td>\n      <td>0.0</td>\n      <td>0.0</td>\n      <td>1.0</td>\n      <td>0.0</td>\n    </tr>\n    <tr>\n      <th>...</th>\n      <td>...</td>\n      <td>...</td>\n      <td>...</td>\n      <td>...</td>\n      <td>...</td>\n      <td>...</td>\n      <td>...</td>\n      <td>...</td>\n      <td>...</td>\n      <td>...</td>\n      <td>...</td>\n      <td>...</td>\n      <td>...</td>\n      <td>...</td>\n      <td>...</td>\n      <td>...</td>\n      <td>...</td>\n      <td>...</td>\n      <td>...</td>\n      <td>...</td>\n      <td>...</td>\n    </tr>\n    <tr>\n      <th>101240</th>\n      <td>1.0</td>\n      <td>45.0</td>\n      <td>5.0</td>\n      <td>2.0</td>\n      <td>2.0</td>\n      <td>2.0</td>\n      <td>0.0</td>\n      <td>0.0</td>\n      <td>0.0</td>\n      <td>0.0</td>\n      <td>...</td>\n      <td>0.0</td>\n      <td>0.0</td>\n      <td>0.0</td>\n      <td>1.0</td>\n      <td>0.0</td>\n      <td>0.0</td>\n      <td>0.0</td>\n      <td>0.0</td>\n      <td>1.0</td>\n      <td>0.0</td>\n    </tr>\n    <tr>\n      <th>54272</th>\n      <td>49.0</td>\n      <td>29.0</td>\n      <td>11.0</td>\n      <td>1.0</td>\n      <td>0.0</td>\n      <td>2.0</td>\n      <td>0.0</td>\n      <td>0.0</td>\n      <td>0.0</td>\n      <td>0.0</td>\n      <td>...</td>\n      <td>0.0</td>\n      <td>0.0</td>\n      <td>0.0</td>\n      <td>1.0</td>\n      <td>0.0</td>\n      <td>0.0</td>\n      <td>0.0</td>\n      <td>0.0</td>\n      <td>1.0</td>\n      <td>0.0</td>\n    </tr>\n    <tr>\n      <th>27544</th>\n      <td>70.0</td>\n      <td>35.0</td>\n      <td>26.0</td>\n      <td>2.0</td>\n      <td>5.0</td>\n      <td>2.0</td>\n      <td>0.0</td>\n      <td>1.0</td>\n      <td>0.0</td>\n      <td>0.0</td>\n      <td>...</td>\n      <td>0.0</td>\n      <td>0.0</td>\n      <td>0.0</td>\n      <td>1.0</td>\n      <td>0.0</td>\n      <td>0.0</td>\n      <td>0.0</td>\n      <td>0.0</td>\n      <td>1.0</td>\n      <td>0.0</td>\n    </tr>\n    <tr>\n      <th>13809</th>\n      <td>7.0</td>\n      <td>38.0</td>\n      <td>13.0</td>\n      <td>0.0</td>\n      <td>2.0</td>\n      <td>1.0</td>\n      <td>0.0</td>\n      <td>0.0</td>\n      <td>0.0</td>\n      <td>0.0</td>\n      <td>...</td>\n      <td>0.0</td>\n      <td>0.0</td>\n      <td>0.0</td>\n      <td>1.0</td>\n      <td>0.0</td>\n      <td>0.0</td>\n      <td>0.0</td>\n      <td>0.0</td>\n      <td>1.0</td>\n      <td>0.0</td>\n    </tr>\n    <tr>\n      <th>65035</th>\n      <td>95.0</td>\n      <td>12.0</td>\n      <td>23.0</td>\n      <td>0.0</td>\n      <td>1.0</td>\n      <td>2.0</td>\n      <td>0.0</td>\n      <td>0.0</td>\n      <td>0.0</td>\n      <td>0.0</td>\n      <td>...</td>\n      <td>0.0</td>\n      <td>0.0</td>\n      <td>0.0</td>\n      <td>1.0</td>\n      <td>0.0</td>\n      <td>0.0</td>\n      <td>0.0</td>\n      <td>0.0</td>\n      <td>1.0</td>\n      <td>0.0</td>\n    </tr>\n  </tbody>\n</table>\n<p>23878 rows × 68 columns</p>\n</div>"
          },
          "metadata": {}
        }
      ],
      "execution_count": 5,
      "metadata": {
        "jupyter": {
          "source_hidden": false,
          "outputs_hidden": false
        },
        "nteract": {
          "transient": {
            "deleting": false
          }
        },
        "gather": {
          "logged": 1727144182009
        }
      }
    },
    {
      "cell_type": "markdown",
      "source": [
        "# Modelamiento"
      ],
      "metadata": {
        "nteract": {
          "transient": {
            "deleting": false
          }
        }
      }
    },
    {
      "cell_type": "code",
      "source": [
        "import mlflow\n",
        "from azureml.core import Workspace\n",
        "\n",
        "EXPERIMENT_NAME = \"DSRP - Booking Cancellation Prediction 2024\"\n",
        "\n",
        "ws = Workspace.from_config()\n",
        "mlflow.set_tracking_uri(ws.get_mlflow_tracking_uri())\n",
        "\n",
        "mlflow.create_experiment(EXPERIMENT_NAME)\n",
        "mlflow.set_experiment(EXPERIMENT_NAME)"
      ],
      "outputs": [
        {
          "output_type": "execute_result",
          "execution_count": 10,
          "data": {
            "text/plain": "<Experiment: artifact_location='', creation_time=1727144276340, experiment_id='198d9690-6de9-4f7f-bde2-99cc70cb1836', last_update_time=None, lifecycle_stage='active', name='DSRP - Booking Cancellation Prediction 2024', tags={}>"
          },
          "metadata": {}
        }
      ],
      "execution_count": 10,
      "metadata": {
        "jupyter": {
          "source_hidden": false,
          "outputs_hidden": false
        },
        "nteract": {
          "transient": {
            "deleting": false
          }
        },
        "gather": {
          "logged": 1727144342593
        }
      }
    },
    {
      "cell_type": "markdown",
      "source": [
        "# Baseline"
      ],
      "metadata": {
        "nteract": {
          "transient": {
            "deleting": false
          }
        }
      }
    },
    {
      "cell_type": "code",
      "source": [
        "# 1. INSTANCIAR EL ALGORITMO\n",
        "# 2. EJECUTAR EL METODO TRAIN\n",
        "# 3. EJECUTAR EL METODO PREDICT\n",
        "# 4. CALCULAR METRICAS EN EL DATASET DE SET\n",
        "\n",
        "with mlflow.start_run(run_name=\"Dummy Baseline\"):\n",
        "\n",
        "    dummy_params = {\n",
        "        \"strategy\":\"uniform\"\n",
        "    }\n",
        "\n",
        "    dummy_classifier = DummyClassifier(**dummy_params)\n",
        "    dummy_classifier.fit(X_train, y_train)\n",
        "\n",
        "    mlflow.log_params(dummy_params)\n",
        "\n",
        "    dummy_predictions = dummy_classifier.predict(X_test)\n",
        "\n",
        "    metrics = {\n",
        "        \"accuracy_score\": accuracy_score(y_test, dummy_predictions),\n",
        "        \"recall_score\": recall_score(y_test, dummy_predictions),\n",
        "        \"precision_score\":precision_score(y_test, dummy_predictions),\n",
        "        \"f1_score\": f1_score(y_test, dummy_predictions)\n",
        "    }\n",
        "\n",
        "    mlflow.log_metrics(\n",
        "        metrics\n",
        "    )\n",
        "\n",
        "    logger.info(f\"Accuracy: {metrics['accuracy_score']}\")\n",
        "    logger.info(f\"Recall: {metrics['recall_score']}\")\n",
        "    logger.info(f\"Precision: {metrics['precision_scoe']}\")\n",
        "    logger.info(f\"F1-Score: {metrics['f1_score']}\")"
      ],
      "outputs": [
        {
          "output_type": "stream",
          "name": "stderr",
          "text": "\u001b[32m2024-09-24 02:27:44.811\u001b[0m | \u001b[1mINFO    \u001b[0m | \u001b[36m__main__\u001b[0m:\u001b[36m<module>\u001b[0m:\u001b[36m30\u001b[0m - \u001b[1mAccuracy: 0.5039366781137449\u001b[0m\n\u001b[32m2024-09-24 02:27:44.812\u001b[0m | \u001b[1mINFO    \u001b[0m | \u001b[36m__main__\u001b[0m:\u001b[36m<module>\u001b[0m:\u001b[36m31\u001b[0m - \u001b[1mRecall: 0.5009078529278257\u001b[0m\n\u001b[32m2024-09-24 02:27:44.813\u001b[0m | \u001b[1mINFO    \u001b[0m | \u001b[36m__main__\u001b[0m:\u001b[36m<module>\u001b[0m:\u001b[36m32\u001b[0m - \u001b[1mPrecision: 0.37214400134895875\u001b[0m\n\u001b[32m2024-09-24 02:27:44.814\u001b[0m | \u001b[1mINFO    \u001b[0m | \u001b[36m__main__\u001b[0m:\u001b[36m<module>\u001b[0m:\u001b[36m33\u001b[0m - \u001b[1mF1-Score: 0.42703042615972525\u001b[0m\n2024/09/24 02:27:44 INFO mlflow.tracking._tracking_service.client: 🏃 View run Dummy Baseline at: https://eastus.api.azureml.ms/mlflow/v2.0/subscriptions/0f61d6bf-ab3d-4df7-a666-edaf42eff57c/resourceGroups/aml-course-dp100-2024/providers/Microsoft.MachineLearningServices/workspaces/dsrp-aml-dp100/#/experiments/198d9690-6de9-4f7f-bde2-99cc70cb1836/runs/50eb643a-09b7-4cf0-b638-b4a25e21a204.\n2024/09/24 02:27:44 INFO mlflow.tracking._tracking_service.client: 🧪 View experiment at: https://eastus.api.azureml.ms/mlflow/v2.0/subscriptions/0f61d6bf-ab3d-4df7-a666-edaf42eff57c/resourceGroups/aml-course-dp100-2024/providers/Microsoft.MachineLearningServices/workspaces/dsrp-aml-dp100/#/experiments/198d9690-6de9-4f7f-bde2-99cc70cb1836.\n"
        }
      ],
      "execution_count": 14,
      "metadata": {
        "jupyter": {
          "source_hidden": false,
          "outputs_hidden": false
        },
        "nteract": {
          "transient": {
            "deleting": false
          }
        },
        "gather": {
          "logged": 1727144866519
        }
      }
    },
    {
      "cell_type": "markdown",
      "source": [
        "# Regresión Logística"
      ],
      "metadata": {
        "nteract": {
          "transient": {
            "deleting": false
          }
        }
      }
    },
    {
      "cell_type": "code",
      "source": [
        "\n",
        "with mlflow.start_run(run_name=\"Regresión Logística\"):\n",
        "\n",
        "    logreg_classifier = LogisticRegression()\n",
        "    logreg_classifier.fit(X_train, y_train)\n",
        "\n",
        "    logreg_predictions = logreg_classifier.predict(X_test)\n",
        "\n",
        "    metrics = {\n",
        "        \"accuracy_score\": accuracy_score(y_test, logreg_predictions),\n",
        "        \"recall_score\": recall_score(y_test, logreg_predictions),\n",
        "        \"precision_score\":precision_score(y_test, logreg_predictions),\n",
        "        \"f1_score\": f1_score(y_test, logreg_predictions)\n",
        "    }\n",
        "\n",
        "    mlflow.log_metrics(\n",
        "        metrics\n",
        "    )\n",
        "\n",
        "    logger.info(f\"Accuracy: {accuracy_score(y_test, logreg_predictions)}\")\n",
        "    logger.info(f\"Recall: {recall_score(y_test, logreg_predictions)}\")\n",
        "    logger.info(f\"Precision: {precision_score(y_test, logreg_predictions)}\")\n",
        "    logger.info(f\"F1-Score: {f1_score(y_test, logreg_predictions)}\")\n",
        "    print(confusion_matrix(y_test, logreg_predictions))\n",
        "    print(\n",
        "        classification_report(y_test, logreg_predictions)\n",
        "    )"
      ],
      "outputs": [
        {
          "output_type": "stream",
          "name": "stderr",
          "text": "/anaconda/envs/dsrp-mlmodeling/lib/python3.9/site-packages/sklearn/linear_model/_logistic.py:469: ConvergenceWarning: lbfgs failed to converge (status=1):\nSTOP: TOTAL NO. of ITERATIONS REACHED LIMIT.\n\nIncrease the number of iterations (max_iter) or scale the data as shown in:\n    https://scikit-learn.org/stable/modules/preprocessing.html\nPlease also refer to the documentation for alternative solver options:\n    https://scikit-learn.org/stable/modules/linear_model.html#logistic-regression\n  n_iter_i = _check_optimize_result(\n\u001b[32m2024-09-24 02:30:40.411\u001b[0m | \u001b[1mINFO    \u001b[0m | \u001b[36m__main__\u001b[0m:\u001b[36m<module>\u001b[0m:\u001b[36m19\u001b[0m - \u001b[1mAccuracy: 0.8043387218359996\u001b[0m\n\u001b[32m2024-09-24 02:30:40.427\u001b[0m | \u001b[1mINFO    \u001b[0m | \u001b[36m__main__\u001b[0m:\u001b[36m<module>\u001b[0m:\u001b[36m20\u001b[0m - \u001b[1mRecall: 0.6129142078983205\u001b[0m\n\u001b[32m2024-09-24 02:30:40.442\u001b[0m | \u001b[1mINFO    \u001b[0m | \u001b[36m__main__\u001b[0m:\u001b[36m<module>\u001b[0m:\u001b[36m21\u001b[0m - \u001b[1mPrecision: 0.8107175022515761\u001b[0m\n\u001b[32m2024-09-24 02:30:40.457\u001b[0m | \u001b[1mINFO    \u001b[0m | \u001b[36m__main__\u001b[0m:\u001b[36m<module>\u001b[0m:\u001b[36m22\u001b[0m - \u001b[1mF1-Score: 0.69807418896213\u001b[0m\n2024/09/24 02:30:40 INFO mlflow.tracking._tracking_service.client: 🏃 View run Regresión Logística at: https://eastus.api.azureml.ms/mlflow/v2.0/subscriptions/0f61d6bf-ab3d-4df7-a666-edaf42eff57c/resourceGroups/aml-course-dp100-2024/providers/Microsoft.MachineLearningServices/workspaces/dsrp-aml-dp100/#/experiments/198d9690-6de9-4f7f-bde2-99cc70cb1836/runs/1cc6ccfa-73bc-4e5b-a090-7c5be3685b4c.\n2024/09/24 02:30:40 INFO mlflow.tracking._tracking_service.client: 🧪 View experiment at: https://eastus.api.azureml.ms/mlflow/v2.0/subscriptions/0f61d6bf-ab3d-4df7-a666-edaf42eff57c/resourceGroups/aml-course-dp100-2024/providers/Microsoft.MachineLearningServices/workspaces/dsrp-aml-dp100/#/experiments/198d9690-6de9-4f7f-bde2-99cc70cb1836.\n"
        },
        {
          "output_type": "stream",
          "name": "stdout",
          "text": "[[13805  1261]\n [ 3411  5401]]\n              precision    recall  f1-score   support\n\n         0.0       0.80      0.92      0.86     15066\n         1.0       0.81      0.61      0.70      8812\n\n    accuracy                           0.80     23878\n   macro avg       0.81      0.76      0.78     23878\nweighted avg       0.81      0.80      0.80     23878\n\n"
        }
      ],
      "execution_count": 15,
      "metadata": {
        "jupyter": {
          "source_hidden": false,
          "outputs_hidden": false
        },
        "nteract": {
          "transient": {
            "deleting": false
          }
        },
        "gather": {
          "logged": 1727145042540
        }
      }
    },
    {
      "cell_type": "markdown",
      "source": [
        "## Vecino más cercano - KNN"
      ],
      "metadata": {
        "nteract": {
          "transient": {
            "deleting": false
          }
        }
      }
    },
    {
      "cell_type": "code",
      "source": [
        "\n",
        "with mlflow.start_run(run_name=\"KNN\"): \n",
        "\n",
        "    knn_params = {\n",
        "        \"n_neighbors\": 5\n",
        "    }\n",
        "\n",
        "    knn_classifier = KNeighborsClassifier(**knn_params)\n",
        "    knn_classifier.fit(X_train, y_train)\n",
        "\n",
        "    knn_predictions = knn_classifier.predict(X_test)\n",
        "    \n",
        "    mlflow.log_params(knn_params)\n",
        "\n",
        "    metrics = {\n",
        "        \"accuracy_score\": accuracy_score(y_test, knn_predictions),\n",
        "        \"recall_score\": recall_score(y_test, knn_predictions),\n",
        "        \"precision_score\":precision_score(y_test, knn_predictions),\n",
        "        \"f1_score\": f1_score(y_test, knn_predictions)\n",
        "    }\n",
        "\n",
        "    mlflow.log_metrics(\n",
        "        metrics\n",
        "    )\n",
        "\n",
        "    logger.info(f\"Accuracy: {accuracy_score(y_test, knn_predictions)}\")\n",
        "    logger.info(f\"Recall: {recall_score(y_test, knn_predictions)}\")\n",
        "    logger.info(f\"Precision: {precision_score(y_test, knn_predictions)}\")\n",
        "    logger.info(f\"F1-Score: {f1_score(y_test, knn_predictions)}\")\n",
        "    print(confusion_matrix(y_test, knn_predictions))\n",
        "    print(\n",
        "        classification_report(y_test, knn_predictions)\n",
        "    )"
      ],
      "outputs": [
        {
          "output_type": "stream",
          "name": "stderr",
          "text": "\u001b[32m2024-09-24 02:33:09.364\u001b[0m | \u001b[1mINFO    \u001b[0m | \u001b[36m__main__\u001b[0m:\u001b[36m<module>\u001b[0m:\u001b[36m25\u001b[0m - \u001b[1mAccuracy: 0.7725940195996315\u001b[0m\n\u001b[32m2024-09-24 02:33:09.380\u001b[0m | \u001b[1mINFO    \u001b[0m | \u001b[36m__main__\u001b[0m:\u001b[36m<module>\u001b[0m:\u001b[36m26\u001b[0m - \u001b[1mRecall: 0.6334543803903767\u001b[0m\n\u001b[32m2024-09-24 02:33:09.396\u001b[0m | \u001b[1mINFO    \u001b[0m | \u001b[36m__main__\u001b[0m:\u001b[36m<module>\u001b[0m:\u001b[36m27\u001b[0m - \u001b[1mPrecision: 0.717296324852223\u001b[0m\n\u001b[32m2024-09-24 02:33:09.412\u001b[0m | \u001b[1mINFO    \u001b[0m | \u001b[36m__main__\u001b[0m:\u001b[36m<module>\u001b[0m:\u001b[36m28\u001b[0m - \u001b[1mF1-Score: 0.672773291551163\u001b[0m\n2024/09/24 02:33:09 INFO mlflow.tracking._tracking_service.client: 🏃 View run KNN at: https://eastus.api.azureml.ms/mlflow/v2.0/subscriptions/0f61d6bf-ab3d-4df7-a666-edaf42eff57c/resourceGroups/aml-course-dp100-2024/providers/Microsoft.MachineLearningServices/workspaces/dsrp-aml-dp100/#/experiments/198d9690-6de9-4f7f-bde2-99cc70cb1836/runs/33d8ba11-7402-4ddb-8e23-c8571b04843f.\n2024/09/24 02:33:09 INFO mlflow.tracking._tracking_service.client: 🧪 View experiment at: https://eastus.api.azureml.ms/mlflow/v2.0/subscriptions/0f61d6bf-ab3d-4df7-a666-edaf42eff57c/resourceGroups/aml-course-dp100-2024/providers/Microsoft.MachineLearningServices/workspaces/dsrp-aml-dp100/#/experiments/198d9690-6de9-4f7f-bde2-99cc70cb1836.\n"
        },
        {
          "output_type": "stream",
          "name": "stdout",
          "text": "[[12866  2200]\n [ 3230  5582]]\n              precision    recall  f1-score   support\n\n         0.0       0.80      0.85      0.83     15066\n         1.0       0.72      0.63      0.67      8812\n\n    accuracy                           0.77     23878\n   macro avg       0.76      0.74      0.75     23878\nweighted avg       0.77      0.77      0.77     23878\n\n"
        }
      ],
      "execution_count": 16,
      "metadata": {
        "jupyter": {
          "source_hidden": false,
          "outputs_hidden": false
        },
        "nteract": {
          "transient": {
            "deleting": false
          }
        },
        "gather": {
          "logged": 1727145190981
        }
      }
    },
    {
      "cell_type": "markdown",
      "source": [
        "# Random Forest"
      ],
      "metadata": {
        "nteract": {
          "transient": {
            "deleting": false
          }
        }
      }
    },
    {
      "cell_type": "code",
      "source": [
        "\n",
        "with mlflow.start_run(run_name=\"Random Forest\"): \n",
        "\n",
        "    rf_params = {\n",
        "        \"n_estimators\": 300,\n",
        "        \"max_depth\": 3\n",
        "\n",
        "    }\n",
        " \n",
        "    rf_classifier = RandomForestClassifier(\n",
        "       **rf_params\n",
        "    )\n",
        "    rf_classifier.fit(X_train, y_train)\n",
        "\n",
        "    mlflow.log_params(rf_params)\n",
        "\n",
        "    rf_predictions = rf_classifier.predict(X_test)\n",
        "\n",
        "    metrics = {\n",
        "        \"accuracy_score\": accuracy_score(y_test, rf_predictions),\n",
        "        \"recall_score\": recall_score(y_test, rf_predictions),\n",
        "        \"precision_score\":precision_score(y_test, rf_predictions),\n",
        "        \"f1_score\": f1_score(y_test, rf_predictions)\n",
        "    }\n",
        "\n",
        "    mlflow.log_metrics(\n",
        "        metrics\n",
        "    )\n",
        "\n",
        "    logger.info(f\"Accuracy: {accuracy_score(y_test, rf_predictions)}\")\n",
        "    logger.info(f\"Recall: {recall_score(y_test, rf_predictions)}\")\n",
        "    logger.info(f\"Precision: {precision_score(y_test, rf_predictions)}\")\n",
        "    logger.info(f\"F1-Score: {f1_score(y_test, rf_predictions)}\")\n",
        "    print(confusion_matrix(y_test, rf_predictions))\n",
        "    print(\n",
        "        classification_report(y_test, rf_predictions)\n",
        "    )"
      ],
      "outputs": [
        {
          "output_type": "stream",
          "name": "stderr",
          "text": "\u001b[32m2024-09-24 02:40:28.509\u001b[0m | \u001b[1mINFO    \u001b[0m | \u001b[36m__main__\u001b[0m:\u001b[36m<module>\u001b[0m:\u001b[36m29\u001b[0m - \u001b[1mAccuracy: 0.7630454811960801\u001b[0m\n\u001b[32m2024-09-24 02:40:28.534\u001b[0m | \u001b[1mINFO    \u001b[0m | \u001b[36m__main__\u001b[0m:\u001b[36m<module>\u001b[0m:\u001b[36m30\u001b[0m - \u001b[1mRecall: 0.3600771674988652\u001b[0m\n\u001b[32m2024-09-24 02:40:28.549\u001b[0m | \u001b[1mINFO    \u001b[0m | \u001b[36m__main__\u001b[0m:\u001b[36m<module>\u001b[0m:\u001b[36m31\u001b[0m - \u001b[1mPrecision: 0.9940476190476191\u001b[0m\n\u001b[32m2024-09-24 02:40:28.567\u001b[0m | \u001b[1mINFO    \u001b[0m | \u001b[36m__main__\u001b[0m:\u001b[36m<module>\u001b[0m:\u001b[36m32\u001b[0m - \u001b[1mF1-Score: 0.5286571142952349\u001b[0m\n2024/09/24 02:40:28 INFO mlflow.tracking._tracking_service.client: 🏃 View run Random Forest at: https://eastus.api.azureml.ms/mlflow/v2.0/subscriptions/0f61d6bf-ab3d-4df7-a666-edaf42eff57c/resourceGroups/aml-course-dp100-2024/providers/Microsoft.MachineLearningServices/workspaces/dsrp-aml-dp100/#/experiments/198d9690-6de9-4f7f-bde2-99cc70cb1836/runs/c831df97-076f-4888-b8c4-2c6dd89c49d6.\n2024/09/24 02:40:28 INFO mlflow.tracking._tracking_service.client: 🧪 View experiment at: https://eastus.api.azureml.ms/mlflow/v2.0/subscriptions/0f61d6bf-ab3d-4df7-a666-edaf42eff57c/resourceGroups/aml-course-dp100-2024/providers/Microsoft.MachineLearningServices/workspaces/dsrp-aml-dp100/#/experiments/198d9690-6de9-4f7f-bde2-99cc70cb1836.\n"
        },
        {
          "output_type": "stream",
          "name": "stdout",
          "text": "[[15047    19]\n [ 5639  3173]]\n              precision    recall  f1-score   support\n\n         0.0       0.73      1.00      0.84     15066\n         1.0       0.99      0.36      0.53      8812\n\n    accuracy                           0.76     23878\n   macro avg       0.86      0.68      0.69     23878\nweighted avg       0.83      0.76      0.73     23878\n\n"
        }
      ],
      "execution_count": 17,
      "metadata": {
        "jupyter": {
          "source_hidden": false,
          "outputs_hidden": false
        },
        "nteract": {
          "transient": {
            "deleting": false
          }
        },
        "gather": {
          "logged": 1727145630497
        }
      }
    },
    {
      "cell_type": "markdown",
      "source": [
        "# Gradient Boosting Machine"
      ],
      "metadata": {
        "nteract": {
          "transient": {
            "deleting": false
          }
        }
      }
    },
    {
      "cell_type": "code",
      "source": [
        "\n",
        "with mlflow.start_run(run_name=\"Gradient Boosting Machine\"): \n",
        "\n",
        "    gbm_classifier = GradientBoostingClassifier()\n",
        "    gbm_classifier.fit(X_train, y_train)\n",
        "\n",
        "    gbm_predictions = gbm_classifier.predict(X_test)\n",
        "\n",
        "    metrics = {\n",
        "        \"accuracy_score\": accuracy_score(y_test, gbm_predictions),\n",
        "        \"recall_score\": recall_score(y_test, gbm_predictions),\n",
        "        \"precision_score\":precision_score(y_test, gbm_predictions),\n",
        "        \"f1_score\": f1_score(y_test, gbm_predictions)\n",
        "    }\n",
        "\n",
        "    mlflow.log_metrics(\n",
        "        metrics\n",
        "    )\n",
        "\n",
        "    logger.info(f\"Accuracy: {accuracy_score(y_test, gbm_predictions)}\")\n",
        "    logger.info(f\"Recall: {recall_score(y_test, gbm_predictions)}\")\n",
        "    logger.info(f\"Precision: {precision_score(y_test, gbm_predictions)}\")\n",
        "    logger.info(f\"F1-Score: {f1_score(y_test, gbm_predictions)}\")\n",
        "    print(confusion_matrix(y_test, gbm_predictions))\n",
        "    print(\n",
        "        classification_report(y_test, gbm_predictions)\n",
        "    )"
      ],
      "outputs": [
        {
          "output_type": "stream",
          "name": "stderr",
          "text": "\u001b[32m2024-09-24 02:40:53.891\u001b[0m | \u001b[1mINFO    \u001b[0m | \u001b[36m__main__\u001b[0m:\u001b[36m<module>\u001b[0m:\u001b[36m19\u001b[0m - \u001b[1mAccuracy: 0.8215093391406315\u001b[0m\n\u001b[32m2024-09-24 02:40:53.909\u001b[0m | \u001b[1mINFO    \u001b[0m | \u001b[36m__main__\u001b[0m:\u001b[36m<module>\u001b[0m:\u001b[36m20\u001b[0m - \u001b[1mRecall: 0.6235814798002723\u001b[0m\n\u001b[32m2024-09-24 02:40:53.927\u001b[0m | \u001b[1mINFO    \u001b[0m | \u001b[36m__main__\u001b[0m:\u001b[36m<module>\u001b[0m:\u001b[36m21\u001b[0m - \u001b[1mPrecision: 0.8532608695652174\u001b[0m\n\u001b[32m2024-09-24 02:40:53.944\u001b[0m | \u001b[1mINFO    \u001b[0m | \u001b[36m__main__\u001b[0m:\u001b[36m<module>\u001b[0m:\u001b[36m22\u001b[0m - \u001b[1mF1-Score: 0.7205612378704432\u001b[0m\n2024/09/24 02:40:54 INFO mlflow.tracking._tracking_service.client: 🏃 View run Gradient Boosting Machine at: https://eastus.api.azureml.ms/mlflow/v2.0/subscriptions/0f61d6bf-ab3d-4df7-a666-edaf42eff57c/resourceGroups/aml-course-dp100-2024/providers/Microsoft.MachineLearningServices/workspaces/dsrp-aml-dp100/#/experiments/198d9690-6de9-4f7f-bde2-99cc70cb1836/runs/bfa3ba17-dab6-498e-90e0-4293a2a53894.\n2024/09/24 02:40:54 INFO mlflow.tracking._tracking_service.client: 🧪 View experiment at: https://eastus.api.azureml.ms/mlflow/v2.0/subscriptions/0f61d6bf-ab3d-4df7-a666-edaf42eff57c/resourceGroups/aml-course-dp100-2024/providers/Microsoft.MachineLearningServices/workspaces/dsrp-aml-dp100/#/experiments/198d9690-6de9-4f7f-bde2-99cc70cb1836.\n"
        },
        {
          "output_type": "stream",
          "name": "stdout",
          "text": "[[14121   945]\n [ 3317  5495]]\n              precision    recall  f1-score   support\n\n         0.0       0.81      0.94      0.87     15066\n         1.0       0.85      0.62      0.72      8812\n\n    accuracy                           0.82     23878\n   macro avg       0.83      0.78      0.79     23878\nweighted avg       0.83      0.82      0.81     23878\n\n"
        }
      ],
      "execution_count": 18,
      "metadata": {
        "jupyter": {
          "source_hidden": false,
          "outputs_hidden": false
        },
        "nteract": {
          "transient": {
            "deleting": false
          }
        },
        "gather": {
          "logged": 1727145655691
        }
      }
    },
    {
      "cell_type": "markdown",
      "source": [
        "# XGboost"
      ],
      "metadata": {
        "nteract": {
          "transient": {
            "deleting": false
          }
        }
      }
    },
    {
      "cell_type": "code",
      "source": [
        "\n",
        "\n",
        "with mlflow.start_run(run_name=\"XGboost\"): \n",
        "    xgb_classifier = XGBClassifier()\n",
        "    xgb_classifier.fit(X_train, y_train)\n",
        "\n",
        "    xgb_predictions = xgb_classifier.predict(X_test)\n",
        "\n",
        "    metrics = {\n",
        "        \"accuracy_score\": accuracy_score(y_test, xgb_predictions),\n",
        "        \"recall_score\": recall_score(y_test, xgb_predictions),\n",
        "        \"precision_score\":precision_score(y_test, xgb_predictions),\n",
        "        \"f1_score\": f1_score(y_test, xgb_predictions)\n",
        "    }\n",
        "\n",
        "    mlflow.log_metrics(\n",
        "        metrics\n",
        "    )\n",
        "\n",
        "    logger.info(f\"Accuracy: {accuracy_score(y_test, xgb_predictions)}\")\n",
        "    logger.info(f\"Recall: {recall_score(y_test, xgb_predictions)}\")\n",
        "    logger.info(f\"Precision: {precision_score(y_test, xgb_predictions)}\")\n",
        "    logger.info(f\"F1-Score: {f1_score(y_test, xgb_predictions)}\")\n",
        "    print(confusion_matrix(y_test, xgb_predictions))\n",
        "    print(\n",
        "        classification_report(y_test, xgb_predictions)\n",
        "    )"
      ],
      "outputs": [
        {
          "output_type": "stream",
          "name": "stderr",
          "text": "\u001b[32m2024-09-24 02:41:06.059\u001b[0m | \u001b[1mINFO    \u001b[0m | \u001b[36m__main__\u001b[0m:\u001b[36m<module>\u001b[0m:\u001b[36m18\u001b[0m - \u001b[1mAccuracy: 0.8512019432113243\u001b[0m\n\u001b[32m2024-09-24 02:41:06.075\u001b[0m | \u001b[1mINFO    \u001b[0m | \u001b[36m__main__\u001b[0m:\u001b[36m<module>\u001b[0m:\u001b[36m19\u001b[0m - \u001b[1mRecall: 0.7291193826600091\u001b[0m\n\u001b[32m2024-09-24 02:41:06.108\u001b[0m | \u001b[1mINFO    \u001b[0m | \u001b[36m__main__\u001b[0m:\u001b[36m<module>\u001b[0m:\u001b[36m20\u001b[0m - \u001b[1mPrecision: 0.8463970491371361\u001b[0m\n\u001b[32m2024-09-24 02:41:06.139\u001b[0m | \u001b[1mINFO    \u001b[0m | \u001b[36m__main__\u001b[0m:\u001b[36m<module>\u001b[0m:\u001b[36m21\u001b[0m - \u001b[1mF1-Score: 0.7833932817167591\u001b[0m\n2024/09/24 02:41:06 INFO mlflow.tracking._tracking_service.client: 🏃 View run XGboost at: https://eastus.api.azureml.ms/mlflow/v2.0/subscriptions/0f61d6bf-ab3d-4df7-a666-edaf42eff57c/resourceGroups/aml-course-dp100-2024/providers/Microsoft.MachineLearningServices/workspaces/dsrp-aml-dp100/#/experiments/198d9690-6de9-4f7f-bde2-99cc70cb1836/runs/5f3c1dce-743e-4c5a-8b0b-b6b2073d977a.\n2024/09/24 02:41:06 INFO mlflow.tracking._tracking_service.client: 🧪 View experiment at: https://eastus.api.azureml.ms/mlflow/v2.0/subscriptions/0f61d6bf-ab3d-4df7-a666-edaf42eff57c/resourceGroups/aml-course-dp100-2024/providers/Microsoft.MachineLearningServices/workspaces/dsrp-aml-dp100/#/experiments/198d9690-6de9-4f7f-bde2-99cc70cb1836.\n"
        },
        {
          "output_type": "stream",
          "name": "stdout",
          "text": "[[13900  1166]\n [ 2387  6425]]\n              precision    recall  f1-score   support\n\n         0.0       0.85      0.92      0.89     15066\n         1.0       0.85      0.73      0.78      8812\n\n    accuracy                           0.85     23878\n   macro avg       0.85      0.83      0.84     23878\nweighted avg       0.85      0.85      0.85     23878\n\n"
        }
      ],
      "execution_count": 19,
      "metadata": {
        "jupyter": {
          "source_hidden": false,
          "outputs_hidden": false
        },
        "nteract": {
          "transient": {
            "deleting": false
          }
        },
        "gather": {
          "logged": 1727145668127
        }
      }
    },
    {
      "cell_type": "markdown",
      "source": [
        "## LightGBM"
      ],
      "metadata": {
        "nteract": {
          "transient": {
            "deleting": false
          }
        }
      }
    },
    {
      "cell_type": "code",
      "source": [
        "with mlflow.start_run(run_name=\"LGBM\"): \n",
        "\n",
        "    lgbm_classifier = LGBMClassifier()\n",
        "    lgbm_classifier.fit(X_train, y_train)\n",
        "\n",
        "    lgbm_predictions = lgbm_classifier.predict(X_test)\n",
        "\n",
        "    metrics = {\n",
        "        \"accuracy_score\": accuracy_score(y_test, lgbm_predictions),\n",
        "        \"recall_score\": recall_score(y_test, lgbm_predictions),\n",
        "        \"precision_score\":precision_score(y_test, lgbm_predictions),\n",
        "        \"f1_score\": f1_score(y_test, lgbm_predictions)\n",
        "    }\n",
        "\n",
        "    mlflow.log_metrics(\n",
        "        metrics\n",
        "    )\n",
        "\n",
        "    logger.info(f\"Accuracy: {accuracy_score(y_test, lgbm_predictions)}\")\n",
        "    logger.info(f\"Recall: {recall_score(y_test, lgbm_predictions)}\")\n",
        "    logger.info(f\"Precision: {precision_score(y_test, lgbm_predictions)}\")\n",
        "    logger.info(f\"F1-Score: {f1_score(y_test, lgbm_predictions)}\")\n",
        "    print(confusion_matrix(y_test, lgbm_predictions))\n",
        "    print(\n",
        "        classification_report(y_test, lgbm_predictions)\n",
        "    )"
      ],
      "outputs": [
        {
          "output_type": "stream",
          "name": "stdout",
          "text": "[LightGBM] [Warning] Found whitespace in feature_names, replace with underlines\n[LightGBM] [Info] Number of positive: 35412, number of negative: 60100\n[LightGBM] [Info] Auto-choosing row-wise multi-threading, the overhead of testing was 0.041556 seconds.\nYou can set `force_row_wise=true` to remove the overhead.\nAnd if memory is not enough, you can set `force_col_wise=true`.\n[LightGBM] [Info] Total Bins 936\n[LightGBM] [Info] Number of data points in the train set: 95512, number of used features: 64\n[LightGBM] [Info] [binary:BoostFromScore]: pavg=0.370760 -> initscore=-0.528959\n[LightGBM] [Info] Start training from score -0.528959\n[[14025  1041]\n [ 2613  6199]]\n              precision    recall  f1-score   support\n\n         0.0       0.84      0.93      0.88     15066\n         1.0       0.86      0.70      0.77      8812\n\n    accuracy                           0.85     23878\n   macro avg       0.85      0.82      0.83     23878\nweighted avg       0.85      0.85      0.84     23878\n\n"
        },
        {
          "output_type": "stream",
          "name": "stderr",
          "text": "\u001b[32m2024-09-24 02:41:09.779\u001b[0m | \u001b[1mINFO    \u001b[0m | \u001b[36m__main__\u001b[0m:\u001b[36m<module>\u001b[0m:\u001b[36m19\u001b[0m - \u001b[1mAccuracy: 0.8469721082167686\u001b[0m\n\u001b[32m2024-09-24 02:41:09.795\u001b[0m | \u001b[1mINFO    \u001b[0m | \u001b[36m__main__\u001b[0m:\u001b[36m<module>\u001b[0m:\u001b[36m20\u001b[0m - \u001b[1mRecall: 0.7034725374489332\u001b[0m\n\u001b[32m2024-09-24 02:41:09.811\u001b[0m | \u001b[1mINFO    \u001b[0m | \u001b[36m__main__\u001b[0m:\u001b[36m<module>\u001b[0m:\u001b[36m21\u001b[0m - \u001b[1mPrecision: 0.8562154696132597\u001b[0m\n\u001b[32m2024-09-24 02:41:09.827\u001b[0m | \u001b[1mINFO    \u001b[0m | \u001b[36m__main__\u001b[0m:\u001b[36m<module>\u001b[0m:\u001b[36m22\u001b[0m - \u001b[1mF1-Score: 0.7723648143533516\u001b[0m\n2024/09/24 02:41:10 INFO mlflow.tracking._tracking_service.client: 🏃 View run LGBM at: https://eastus.api.azureml.ms/mlflow/v2.0/subscriptions/0f61d6bf-ab3d-4df7-a666-edaf42eff57c/resourceGroups/aml-course-dp100-2024/providers/Microsoft.MachineLearningServices/workspaces/dsrp-aml-dp100/#/experiments/198d9690-6de9-4f7f-bde2-99cc70cb1836/runs/ebc45cb1-5c14-4a43-a5f7-1048cf4be90b.\n2024/09/24 02:41:10 INFO mlflow.tracking._tracking_service.client: 🧪 View experiment at: https://eastus.api.azureml.ms/mlflow/v2.0/subscriptions/0f61d6bf-ab3d-4df7-a666-edaf42eff57c/resourceGroups/aml-course-dp100-2024/providers/Microsoft.MachineLearningServices/workspaces/dsrp-aml-dp100/#/experiments/198d9690-6de9-4f7f-bde2-99cc70cb1836.\n"
        }
      ],
      "execution_count": 20,
      "metadata": {
        "jupyter": {
          "source_hidden": false,
          "outputs_hidden": false
        },
        "nteract": {
          "transient": {
            "deleting": false
          }
        },
        "gather": {
          "logged": 1727145671500
        }
      }
    },
    {
      "cell_type": "markdown",
      "source": [
        "#"
      ],
      "metadata": {
        "nteract": {
          "transient": {
            "deleting": false
          }
        }
      }
    }
  ],
  "metadata": {
    "kernelspec": {
      "name": "dsrp-mlmodeling",
      "language": "python",
      "display_name": "Python Machine Learning Workloads DSRP"
    },
    "language_info": {
      "name": "python",
      "version": "3.9.19",
      "mimetype": "text/x-python",
      "codemirror_mode": {
        "name": "ipython",
        "version": 3
      },
      "pygments_lexer": "ipython3",
      "nbconvert_exporter": "python",
      "file_extension": ".py"
    },
    "microsoft": {
      "ms_spell_check": {
        "ms_spell_check_language": "en"
      },
      "host": {
        "AzureML": {
          "notebookHasBeenCompleted": true
        }
      }
    },
    "kernel_info": {
      "name": "dsrp-mlmodeling"
    },
    "nteract": {
      "version": "nteract-front-end@1.0.0"
    }
  },
  "nbformat": 4,
  "nbformat_minor": 2
}