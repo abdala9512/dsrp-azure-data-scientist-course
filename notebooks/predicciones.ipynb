{
  "cells": [
    {
      "cell_type": "markdown",
      "source": [
        "\n",
        "# Clase 12: Predicciones\n",
        "## DP-100 Azure Data Scientist / DSRP\n",
        "## Clase 2 Octubre\n",
        "\n",
        "### Dataset Utilizado: Hotel Booking\n",
        "\n",
        "https://www.kaggle.com/code/touba7/hotel-booking"
      ],
      "metadata": {
        "nteract": {
          "transient": {
            "deleting": false
          }
        }
      }
    },
    {
      "cell_type": "code",
      "source": [
        "from azure.ai.ml import MLClient, Input\n",
        "from azure.identity import DefaultAzureCredential\n",
        "from azure.ai.ml.entities import Model\n",
        "from azure.ai.ml.constants import AssetTypes\n",
        "\n",
        "MODEL_NAME = \"dsrp-booking-model\"\n",
        "\n",
        "ml_client = MLClient.from_config(credential=DefaultAzureCredential())\n",
        "\n",
        "model = ml_client.models.get(name=MODEL_NAME, label=\"latest\")\n",
        "model"
      ],
      "outputs": [
        {
          "output_type": "stream",
          "name": "stderr",
          "text": "Found the config file in: /config.json\n"
        },
        {
          "output_type": "execute_result",
          "execution_count": 17,
          "data": {
            "text/plain": "Model({'job_name': 'dsrp-machine-learning-job-6', 'intellectual_property': None, 'is_anonymous': False, 'auto_increment_version': False, 'auto_delete_setting': None, 'name': 'dsrp-booking-model', 'description': None, 'tags': {'alias': 'CHAMPION'}, 'properties': {}, 'print_as_yaml': False, 'id': '/subscriptions/0f61d6bf-ab3d-4df7-a666-edaf42eff57c/resourceGroups/aml-course-dp100-2024/providers/Microsoft.MachineLearningServices/workspaces/dsrp-aml-dp100/models/dsrp-booking-model/versions/2', 'Resource__source_path': '', 'base_path': '/mnt/batch/tasks/shared/LS_root/mounts/clusters/test1-dsrp-compute/code/Users/miguel.arquez12/dsrp-azure-data-scientist-course/notebooks', 'creation_context': <azure.ai.ml.entities._system_data.SystemData object at 0x7fb33d1d72e0>, 'serialize': <msrest.serialization.Serializer object at 0x7fb33d1d7790>, 'version': '2', 'latest_version': None, 'path': 'azureml://subscriptions/0f61d6bf-ab3d-4df7-a666-edaf42eff57c/resourceGroups/aml-course-dp100-2024/workspaces/dsrp-aml-dp100/datastores/workspaceartifactstore/paths/ExperimentRun/dcid.dsrp-machine-learning-job-6/model', 'datastore': None, 'utc_time_created': None, 'flavors': {'python_function': {'model_path': 'model.pkl', 'predict_fn': 'predict', 'loader_module': 'mlflow.sklearn', 'python_version': '3.10.14', 'env': '{\\n  \"conda\": \"conda.yaml\",\\n  \"virtualenv\": \"python_env.yaml\"\\n}'}, 'sklearn': {'pickled_model': 'model.pkl', 'sklearn_version': '1.5.2', 'serialization_format': 'cloudpickle', 'code': ''}}, 'arm_type': 'model_version', 'type': 'mlflow_model', 'stage': 'Development'})"
          },
          "metadata": {}
        }
      ],
      "execution_count": 17,
      "metadata": {
        "gather": {
          "logged": 1728870151354
        }
      }
    },
    {
      "cell_type": "markdown",
      "source": [
        "# 1. Batch Deployment"
      ],
      "metadata": {
        "nteract": {
          "transient": {
            "deleting": false
          }
        }
      }
    },
    {
      "cell_type": "code",
      "source": [
        "import uuid\n",
        "\n",
        "from azure.ai.ml.entities import (\n",
        "    BatchEndpoint,\n",
        "    ModelBatchDeployment,\n",
        "    ModelBatchDeploymentSettings,\n",
        "    Model,\n",
        "    AmlCompute,\n",
        "    Data,\n",
        "    BatchRetrySettings,\n",
        "    CodeConfiguration,\n",
        "    Environment,\n",
        ")\n",
        "from azure.ai.ml.constants import AssetTypes, BatchDeploymentOutputAction\n",
        "\n",
        "\n",
        "batch_endpoint_name = f\"b-booking-endpoint-\" + str(uuid.uuid4())[:8]\n",
        "endpoint = BatchEndpoint(\n",
        "    name=batch_endpoint_name,\n",
        "    description=\"Modelo de prediccion de cancelaciones\",\n",
        ")\n",
        "\n",
        "ml_client.batch_endpoints.begin_create_or_update(endpoint).result()"
      ],
      "outputs": [
        {
          "output_type": "execute_result",
          "execution_count": 26,
          "data": {
            "text/plain": "BatchEndpoint({'scoring_uri': 'https://b-booking-endpoint-f2b8e991.eastus.inference.ml.azure.com/jobs', 'openapi_uri': None, 'provisioning_state': 'Succeeded', 'name': 'b-booking-endpoint-f2b8e991', 'description': 'Modelo de prediccion de cancelaciones', 'tags': {}, 'properties': {'BatchEndpointCreationApiVersion': '2023-10-01', 'azureml.onlineendpointid': '/subscriptions/0f61d6bf-ab3d-4df7-a666-edaf42eff57c/resourceGroups/aml-course-dp100-2024/providers/Microsoft.MachineLearningServices/workspaces/dsrp-aml-dp100/batchEndpoints/b-booking-endpoint-f2b8e991'}, 'print_as_yaml': False, 'id': '/subscriptions/0f61d6bf-ab3d-4df7-a666-edaf42eff57c/resourceGroups/aml-course-dp100-2024/providers/Microsoft.MachineLearningServices/workspaces/dsrp-aml-dp100/batchEndpoints/b-booking-endpoint-f2b8e991', 'Resource__source_path': '', 'base_path': '/mnt/batch/tasks/shared/LS_root/mounts/clusters/test1-dsrp-compute/code/Users/miguel.arquez12/dsrp-azure-data-scientist-course/notebooks', 'creation_context': None, 'serialize': <msrest.serialization.Serializer object at 0x7fb33c5be920>, 'auth_mode': 'aad_token', 'location': 'eastus', 'defaults': <azure.ai.ml._restclient.v2023_10_01.models._models_py3.BatchEndpointDefaults object at 0x7fb33c5bdd80>})"
          },
          "metadata": {}
        }
      ],
      "execution_count": 26,
      "metadata": {
        "jupyter": {
          "source_hidden": false,
          "outputs_hidden": false
        },
        "nteract": {
          "transient": {
            "deleting": false
          }
        },
        "gather": {
          "logged": 1728871009999
        }
      }
    },
    {
      "cell_type": "markdown",
      "source": [
        "### Compute cluster"
      ],
      "metadata": {
        "nteract": {
          "transient": {
            "deleting": false
          }
        }
      }
    },
    {
      "cell_type": "code",
      "source": [
        "compute_name = \"dsrp-cluster\"\n",
        "if not any(filter(lambda m: m.name == compute_name, ml_client.compute.list())):\n",
        "    compute_cluster = AmlCompute(\n",
        "        name=compute_name, description=\"amlcompute\", min_instances=0, max_instances=1,\n",
        "        size=\"Standard_D1\"\n",
        "    )\n",
        "    ml_client.begin_create_or_update(compute_cluster).result()"
      ],
      "outputs": [],
      "execution_count": 15,
      "metadata": {
        "jupyter": {
          "source_hidden": false,
          "outputs_hidden": false
        },
        "nteract": {
          "transient": {
            "deleting": false
          }
        },
        "gather": {
          "logged": 1728870068342
        }
      }
    },
    {
      "cell_type": "markdown",
      "source": [
        "### Deployment"
      ],
      "metadata": {
        "nteract": {
          "transient": {
            "deleting": false
          }
        }
      }
    },
    {
      "cell_type": "code",
      "source": [
        "deployment = ModelBatchDeployment(\n",
        "    name=\"booking-dsp\",\n",
        "    description=\"DSRP predicciones de cancelaciones de hoteles\",\n",
        "    endpoint_name=endpoint.name,\n",
        "    model=model,\n",
        "    compute=compute_name,\n",
        "    settings=ModelBatchDeploymentSettings(\n",
        "        instance_count=1,\n",
        "        max_concurrency_per_instance=2,\n",
        "        mini_batch_size=10,\n",
        "        output_action=BatchDeploymentOutputAction.APPEND_ROW,\n",
        "        output_file_name=\"predictions.csv\",\n",
        "        retry_settings=BatchRetrySettings(max_retries=3, timeout=300),\n",
        "        logging_level=\"info\",\n",
        "    ),\n",
        ")\n",
        "\n",
        "ml_client.batch_deployments.begin_create_or_update(deployment).result()"
      ],
      "outputs": [
        {
          "output_type": "execute_result",
          "execution_count": 32,
          "data": {
            "text/plain": "BatchDeployment({'provisioning_state': 'Succeeded', 'endpoint_name': 'b-booking-endpoint-f2b8e991', 'type': None, 'name': 'booking-dsp', 'description': 'DSRP predicciones de cancelaciones de hoteles', 'tags': {}, 'properties': {}, 'print_as_yaml': False, 'id': '/subscriptions/0f61d6bf-ab3d-4df7-a666-edaf42eff57c/resourceGroups/aml-course-dp100-2024/providers/Microsoft.MachineLearningServices/workspaces/dsrp-aml-dp100/batchEndpoints/b-booking-endpoint-f2b8e991/deployments/booking-dsp', 'Resource__source_path': '', 'base_path': '/mnt/batch/tasks/shared/LS_root/mounts/clusters/test1-dsrp-compute/code/Users/miguel.arquez12/dsrp-azure-data-scientist-course/notebooks', 'creation_context': <azure.ai.ml.entities._system_data.SystemData object at 0x7fb33c5bf130>, 'serialize': <msrest.serialization.Serializer object at 0x7fb33c5bf400>, 'model': '/subscriptions/0f61d6bf-ab3d-4df7-a666-edaf42eff57c/resourceGroups/aml-course-dp100-2024/providers/Microsoft.MachineLearningServices/workspaces/dsrp-aml-dp100/models/dsrp-booking-model/versions/2', 'code_configuration': None, 'environment': None, 'environment_variables': {}, 'compute': '/subscriptions/0f61d6bf-ab3d-4df7-a666-edaf42eff57c/resourceGroups/aml-course-dp100-2024/providers/Microsoft.MachineLearningServices/workspaces/dsrp-aml-dp100/computes/dsrp-cluster', 'resources': {'instance_count': 1, 'properties': {}}, 'output_action': 'append_row', 'output_file_name': 'predictions.csv', 'error_threshold': -1, 'retry_settings': <azure.ai.ml.entities._deployment.deployment_settings.BatchRetrySettings object at 0x7fb33d1b6950>, 'logging_level': 'Info', 'mini_batch_size': 10, 'max_concurrency_per_instance': 2})"
          },
          "metadata": {}
        }
      ],
      "execution_count": 32,
      "metadata": {
        "jupyter": {
          "source_hidden": false,
          "outputs_hidden": false
        },
        "nteract": {
          "transient": {
            "deleting": false
          }
        },
        "gather": {
          "logged": 1728871309246
        }
      }
    },
    {
      "cell_type": "markdown",
      "source": [
        "### Prueba de Batch deployment"
      ],
      "metadata": {
        "nteract": {
          "transient": {
            "deleting": false
          }
        }
      }
    },
    {
      "cell_type": "code",
      "source": [
        "data_asset = ml_client.data.get(\"gold-booking-dsrp\", version=\"2\")\n",
        "data_asset"
      ],
      "outputs": [
        {
          "output_type": "execute_result",
          "execution_count": 22,
          "data": {
            "text/plain": "Data({'path': 'azureml://subscriptions/0f61d6bf-ab3d-4df7-a666-edaf42eff57c/resourcegroups/aml-course-dp100-2024/workspaces/dsrp-aml-dp100/datastores/workspaceblobstore/paths/LocalUpload/655f680f08ec61bf09b93086507db61b/feature_engineering_data_PROCESSED.csv', 'skip_validation': False, 'mltable_schema_url': None, 'referenced_uris': None, 'type': 'uri_file', 'is_anonymous': False, 'auto_increment_version': False, 'auto_delete_setting': None, 'name': 'gold-booking-dsrp', 'description': 'Tabla Final Feature Engineering', 'tags': {}, 'properties': {}, 'print_as_yaml': False, 'id': '/subscriptions/0f61d6bf-ab3d-4df7-a666-edaf42eff57c/resourceGroups/aml-course-dp100-2024/providers/Microsoft.MachineLearningServices/workspaces/dsrp-aml-dp100/data/gold-booking-dsrp/versions/2', 'Resource__source_path': '', 'base_path': '/mnt/batch/tasks/shared/LS_root/mounts/clusters/test1-dsrp-compute/code/Users/miguel.arquez12/dsrp-azure-data-scientist-course/notebooks', 'creation_context': <azure.ai.ml.entities._system_data.SystemData object at 0x7fb33d1d4dc0>, 'serialize': <msrest.serialization.Serializer object at 0x7fb33d1d4e20>, 'version': '2', 'latest_version': None, 'datastore': None})"
          },
          "metadata": {}
        }
      ],
      "execution_count": 22,
      "metadata": {
        "jupyter": {
          "source_hidden": false,
          "outputs_hidden": false
        },
        "nteract": {
          "transient": {
            "deleting": false
          }
        },
        "gather": {
          "logged": 1728870862704
        }
      }
    },
    {
      "cell_type": "code",
      "source": [
        "input = Input(type=AssetTypes.URI_FILE, path=data_asset.id)\n",
        "job = ml_client.batch_endpoints.invoke(\n",
        "    deployment_name=deployment.name, endpoint_name=endpoint.name, input=input\n",
        ")"
      ],
      "outputs": [],
      "execution_count": 33,
      "metadata": {
        "jupyter": {
          "source_hidden": false,
          "outputs_hidden": false
        },
        "nteract": {
          "transient": {
            "deleting": false
          }
        },
        "gather": {
          "logged": 1728871390247
        }
      }
    },
    {
      "cell_type": "code",
      "source": [
        "scoring_job = list(ml_client.jobs.list(parent_job_name=job.name))[0]\n",
        "scoring_job"
      ],
      "outputs": [
        {
          "output_type": "execute_result",
          "execution_count": 35,
          "data": {
            "text/plain": "_BaseJob({'type': 'base', 'status': 'Completed', 'log_files': None, 'name': '294a67f1-a865-4214-9744-90142e4cead7', 'description': None, 'tags': {'azureml.nodeid': '75ed009c', 'azureml.pipeline': 'batchjob-58f2b884-9002-4c2d-a156-8e293a74813c', '_aml_system_ComputeTargetStatus': '{\"AllocationState\":\"steady\",\"PreparingNodeCount\":0,\"RunningNodeCount\":0,\"CurrentNodeCount\":0}'}, 'properties': {'azureml.deploymentname': 'booking-dsp', 'azureml.endpointname': 'b-booking-endpoint-f2b8e991', 'azureml.pipelineid': 'f0486c85-8b0d-4be9-83ab-27aa16fdb6be', 'ContentSnapshotId': '231a5dde-d96d-4799-8f51-74801415d243', 'StepType': 'PythonScriptStep', 'ComputeTargetType': 'AmlCompute', 'azureml.moduleid': '75ed009c-03be-4dd3-b394-0c0cbfaa183f', 'azureml.moduleFamilyId': '3c4d4022-6c59-4c41-bb48-37b85aad2c2d', 'azureml.moduleName': 'BatchScoring', 'azureml.runsource': 'azureml.StepRun', 'azureml.nodeid': '75ed009c', 'azureml.pipelinerunid': 'batchjob-58f2b884-9002-4c2d-a156-8e293a74813c', 'azureml.pipeline': 'batchjob-58f2b884-9002-4c2d-a156-8e293a74813c', 'azureml.rootpipelinerunid': 'batchjob-58f2b884-9002-4c2d-a156-8e293a74813c', 'azureml.pipelineComponent': 'masterescloud', 'azureml.prsdriver.version': 'v1', 'azureml.prsdriver.snapshotcreator': 'collie', 'azureml.parallelrunstep': 'true', 'azureml.prs.passcollie': 'true', 'azureml.collieComponent': 'collie-eastus', 'CollieRunType': 'Collie.ParentRun', 'azureml.collieJobType': 'Legacy', '_azureml.ComputeTargetType': 'amlctrain', '_azureml.ClusterName': 'dsrp-cluster', 'ProcessInfoFile': 'azureml-logs/process_info.json', 'ProcessStatusFile': 'azureml-logs/process_status.json'}, 'print_as_yaml': False, 'id': '/subscriptions/0f61d6bf-ab3d-4df7-a666-edaf42eff57c/resourceGroups/aml-course-dp100-2024/providers/Microsoft.MachineLearningServices/workspaces/dsrp-aml-dp100/jobs/294a67f1-a865-4214-9744-90142e4cead7', 'Resource__source_path': '', 'base_path': '/mnt/batch/tasks/shared/LS_root/mounts/clusters/test1-dsrp-compute/code/Users/miguel.arquez12/dsrp-azure-data-scientist-course/notebooks', 'creation_context': <azure.ai.ml.entities._system_data.SystemData object at 0x7fb33c3673a0>, 'serialize': <msrest.serialization.Serializer object at 0x7fb33c24e080>, 'display_name': 'gray_tree_726dxpcx', 'experiment_name': '21a5a163-82e6-4c9c-8601-20e1938e6f1a', 'compute': 'dsrp-cluster', 'services': {}})",
            "text/html": "<table style=\"width:100%\"><tr><th>Experiment</th><th>Name</th><th>Type</th><th>Status</th><th>Details Page</th></tr><tr><td>21a5a163-82e6-4c9c-8601-20e1938e6f1a</td><td>294a67f1-a865-4214-9744-90142e4cead7</td><td>base</td><td>Completed</td><td><a href=\"https://ml.azure.com/runs/294a67f1-a865-4214-9744-90142e4cead7?wsid=/subscriptions/0f61d6bf-ab3d-4df7-a666-edaf42eff57c/resourcegroups/aml-course-dp100-2024/workspaces/dsrp-aml-dp100\" target=\"_blank\" rel=\"noopener\">Link to Azure Machine Learning studio</a></td></tr></table>"
          },
          "metadata": {}
        }
      ],
      "execution_count": 35,
      "metadata": {
        "jupyter": {
          "source_hidden": false,
          "outputs_hidden": false
        },
        "nteract": {
          "transient": {
            "deleting": false
          }
        },
        "gather": {
          "logged": 1728872592882
        }
      }
    },
    {
      "cell_type": "code",
      "source": [
        "ml_client.jobs.download(name=scoring_job.name, download_path=\".\", output_name=\"score\")"
      ],
      "outputs": [
        {
          "output_type": "stream",
          "name": "stderr",
          "text": "Downloading artifact azureml://datastores/workspaceblobstore/paths/azureml/294a67f1-a865-4214-9744-90142e4cead7/score/ to named-outputs/score\n"
        }
      ],
      "execution_count": 36,
      "metadata": {
        "jupyter": {
          "source_hidden": false,
          "outputs_hidden": false
        },
        "nteract": {
          "transient": {
            "deleting": false
          }
        },
        "gather": {
          "logged": 1728872631157
        }
      }
    },
    {
      "cell_type": "code",
      "source": [
        "import pandas as pd\n",
        "\n",
        "score = pd.read_csv(\n",
        "    \"named-outputs/score/predictions.csv\", names=[\"row\", \"prediction\", \"file\"]\n",
        ")\n",
        "score"
      ],
      "outputs": [
        {
          "output_type": "execute_result",
          "execution_count": 40,
          "data": {
            "text/plain": "           row  prediction                                    file\n0            0           1  feature_engineering_data_PROCESSED.csv\n1            1           1  feature_engineering_data_PROCESSED.csv\n2            2           0  feature_engineering_data_PROCESSED.csv\n3            3           1  feature_engineering_data_PROCESSED.csv\n4            4           1  feature_engineering_data_PROCESSED.csv\n...        ...         ...                                     ...\n119385  119385           1  feature_engineering_data_PROCESSED.csv\n119386  119386           1  feature_engineering_data_PROCESSED.csv\n119387  119387           0  feature_engineering_data_PROCESSED.csv\n119388  119388           1  feature_engineering_data_PROCESSED.csv\n119389  119389           1  feature_engineering_data_PROCESSED.csv\n\n[119390 rows x 3 columns]",
            "text/html": "<div>\n<style scoped>\n    .dataframe tbody tr th:only-of-type {\n        vertical-align: middle;\n    }\n\n    .dataframe tbody tr th {\n        vertical-align: top;\n    }\n\n    .dataframe thead th {\n        text-align: right;\n    }\n</style>\n<table border=\"1\" class=\"dataframe\">\n  <thead>\n    <tr style=\"text-align: right;\">\n      <th></th>\n      <th>row</th>\n      <th>prediction</th>\n      <th>file</th>\n    </tr>\n  </thead>\n  <tbody>\n    <tr>\n      <th>0</th>\n      <td>0</td>\n      <td>1</td>\n      <td>feature_engineering_data_PROCESSED.csv</td>\n    </tr>\n    <tr>\n      <th>1</th>\n      <td>1</td>\n      <td>1</td>\n      <td>feature_engineering_data_PROCESSED.csv</td>\n    </tr>\n    <tr>\n      <th>2</th>\n      <td>2</td>\n      <td>0</td>\n      <td>feature_engineering_data_PROCESSED.csv</td>\n    </tr>\n    <tr>\n      <th>3</th>\n      <td>3</td>\n      <td>1</td>\n      <td>feature_engineering_data_PROCESSED.csv</td>\n    </tr>\n    <tr>\n      <th>4</th>\n      <td>4</td>\n      <td>1</td>\n      <td>feature_engineering_data_PROCESSED.csv</td>\n    </tr>\n    <tr>\n      <th>...</th>\n      <td>...</td>\n      <td>...</td>\n      <td>...</td>\n    </tr>\n    <tr>\n      <th>119385</th>\n      <td>119385</td>\n      <td>1</td>\n      <td>feature_engineering_data_PROCESSED.csv</td>\n    </tr>\n    <tr>\n      <th>119386</th>\n      <td>119386</td>\n      <td>1</td>\n      <td>feature_engineering_data_PROCESSED.csv</td>\n    </tr>\n    <tr>\n      <th>119387</th>\n      <td>119387</td>\n      <td>0</td>\n      <td>feature_engineering_data_PROCESSED.csv</td>\n    </tr>\n    <tr>\n      <th>119388</th>\n      <td>119388</td>\n      <td>1</td>\n      <td>feature_engineering_data_PROCESSED.csv</td>\n    </tr>\n    <tr>\n      <th>119389</th>\n      <td>119389</td>\n      <td>1</td>\n      <td>feature_engineering_data_PROCESSED.csv</td>\n    </tr>\n  </tbody>\n</table>\n<p>119390 rows × 3 columns</p>\n</div>"
          },
          "metadata": {}
        }
      ],
      "execution_count": 40,
      "metadata": {
        "jupyter": {
          "source_hidden": false,
          "outputs_hidden": false
        },
        "nteract": {
          "transient": {
            "deleting": false
          }
        },
        "gather": {
          "logged": 1728872672989
        }
      }
    },
    {
      "cell_type": "markdown",
      "source": [
        "# 2. Online Deployment"
      ],
      "metadata": {
        "nteract": {
          "transient": {
            "deleting": false
          }
        }
      }
    },
    {
      "cell_type": "code",
      "source": [
        "# import required libraries\n",
        "from azure.ai.ml import MLClient\n",
        "from azure.ai.ml.entities import (\n",
        "    ManagedOnlineEndpoint,\n",
        "    ManagedOnlineDeployment,\n",
        "    Model,\n",
        ")\n"
      ],
      "outputs": [],
      "execution_count": 41,
      "metadata": {
        "jupyter": {
          "source_hidden": false,
          "outputs_hidden": false
        },
        "nteract": {
          "transient": {
            "deleting": false
          }
        },
        "gather": {
          "logged": 1728872811995
        }
      }
    },
    {
      "cell_type": "code",
      "source": [
        "# Creating a unique endpoint name with current datetime to avoid conflicts\n",
        "import datetime\n",
        "\n",
        "online_endpoint_name = \"endpoint-\" + datetime.datetime.now().strftime(\"%m%d%H%M%f\")\n",
        "\n",
        "# create an online endpoint\n",
        "endpoint = ManagedOnlineEndpoint(\n",
        "    name=online_endpoint_name,\n",
        "    description=\"this is a sample online endpoint for mlflow model\",\n",
        "    auth_mode=\"key\",\n",
        "    tags={\"foo\": \"bar\"},\n",
        ")\n",
        "ml_client.begin_create_or_update(endpoint).result()\n"
      ],
      "outputs": [
        {
          "output_type": "execute_result",
          "execution_count": 43,
          "data": {
            "text/plain": "ManagedOnlineEndpoint({'public_network_access': 'Enabled', 'provisioning_state': 'Succeeded', 'scoring_uri': 'https://endpoint-10140227990523.eastus.inference.ml.azure.com/score', 'openapi_uri': 'https://endpoint-10140227990523.eastus.inference.ml.azure.com/swagger.json', 'name': 'endpoint-10140227990523', 'description': 'this is a sample online endpoint for mlflow model', 'tags': {'foo': 'bar'}, 'properties': {'createdBy': 'miguel arquez abdala', 'createdAt': '2024-10-14T02:27:31.947663+0000', 'lastModifiedAt': '2024-10-14T02:27:31.947663+0000', 'azureml.onlineendpointid': '/subscriptions/0f61d6bf-ab3d-4df7-a666-edaf42eff57c/resourcegroups/aml-course-dp100-2024/providers/microsoft.machinelearningservices/workspaces/dsrp-aml-dp100/onlineendpoints/endpoint-10140227990523', 'AzureAsyncOperationUri': 'https://management.azure.com/subscriptions/0f61d6bf-ab3d-4df7-a666-edaf42eff57c/providers/Microsoft.MachineLearningServices/locations/eastus/mfeOperationsStatus/oeidp:4b014ae2-0df9-417b-a95d-74c60a07cf6a:a21cbd78-d5af-4907-b905-79e5a1fd5068?api-version=2022-02-01-preview'}, 'print_as_yaml': False, 'id': '/subscriptions/0f61d6bf-ab3d-4df7-a666-edaf42eff57c/resourceGroups/aml-course-dp100-2024/providers/Microsoft.MachineLearningServices/workspaces/dsrp-aml-dp100/onlineEndpoints/endpoint-10140227990523', 'Resource__source_path': '', 'base_path': '/mnt/batch/tasks/shared/LS_root/mounts/clusters/test1-dsrp-compute/code/Users/miguel.arquez12/dsrp-azure-data-scientist-course/notebooks', 'creation_context': None, 'serialize': <msrest.serialization.Serializer object at 0x7fb31413fbe0>, 'auth_mode': 'key', 'location': 'eastus', 'identity': <azure.ai.ml.entities._credentials.IdentityConfiguration object at 0x7fb33c24ec20>, 'traffic': {}, 'mirror_traffic': {}, 'kind': 'Managed'})"
          },
          "metadata": {}
        }
      ],
      "execution_count": 43,
      "metadata": {
        "jupyter": {
          "source_hidden": false,
          "outputs_hidden": false
        },
        "nteract": {
          "transient": {
            "deleting": false
          }
        },
        "gather": {
          "logged": 1728872913225
        }
      }
    },
    {
      "cell_type": "code",
      "source": [
        "blue_deployment = ManagedOnlineDeployment(\n",
        "    name=\"blue\",\n",
        "    endpoint_name=online_endpoint_name,\n",
        "    model=model,\n",
        "    instance_type=\"Standard_F4s_v2\",\n",
        "    instance_count=1,\n",
        ")\n",
        "ml_client.online_deployments.begin_create_or_update(blue_deployment).result()\n"
      ],
      "outputs": [
        {
          "output_type": "stream",
          "name": "stderr",
          "text": "Check: endpoint endpoint-10140227990523 exists\n"
        },
        {
          "output_type": "stream",
          "name": "stdout",
          "text": ".............................................................................."
        },
        {
          "output_type": "execute_result",
          "execution_count": 44,
          "data": {
            "text/plain": "ManagedOnlineDeployment({'private_network_connection': None, 'package_model': False, 'provisioning_state': 'Succeeded', 'endpoint_name': 'endpoint-10140227990523', 'type': 'Managed', 'name': 'blue', 'description': None, 'tags': {}, 'properties': {'AzureAsyncOperationUri': 'https://management.azure.com/subscriptions/0f61d6bf-ab3d-4df7-a666-edaf42eff57c/providers/Microsoft.MachineLearningServices/locations/eastus/mfeOperationsStatus/odidp:4b014ae2-0df9-417b-a95d-74c60a07cf6a:c4019d6a-399c-43f4-a366-eb37327b56d4?api-version=2023-04-01-preview'}, 'print_as_yaml': False, 'id': '/subscriptions/0f61d6bf-ab3d-4df7-a666-edaf42eff57c/resourceGroups/aml-course-dp100-2024/providers/Microsoft.MachineLearningServices/workspaces/dsrp-aml-dp100/onlineEndpoints/endpoint-10140227990523/deployments/blue', 'Resource__source_path': '', 'base_path': '/mnt/batch/tasks/shared/LS_root/mounts/clusters/test1-dsrp-compute/code/Users/miguel.arquez12/dsrp-azure-data-scientist-course/notebooks', 'creation_context': None, 'serialize': <msrest.serialization.Serializer object at 0x7fb3141bca60>, 'model': '/subscriptions/0f61d6bf-ab3d-4df7-a666-edaf42eff57c/resourceGroups/aml-course-dp100-2024/providers/Microsoft.MachineLearningServices/workspaces/dsrp-aml-dp100/models/dsrp-booking-model/versions/2', 'code_configuration': None, 'environment': '/subscriptions/0f61d6bf-ab3d-4df7-a666-edaf42eff57c/resourceGroups/aml-course-dp100-2024/providers/Microsoft.MachineLearningServices/workspaces/dsrp-aml-dp100/environments/DefaultNcdEnv-mlflow-ubuntu20-04-py38-cpu-inference/versions/20240805v1', 'environment_variables': {'MLFLOW_MODEL_FOLDER': 'model', 'AZUREML_EXTRA_CONDA_YAML_ABS_PATH': '/var/azureml-app/azureml-models/dsrp-booking-model/2/model/conda.yaml', 'AZUREML_MODEL_DIR': '/var/azureml-app/azureml-models/dsrp-booking-model/2'}, 'app_insights_enabled': False, 'scale_settings': <azure.ai.ml.entities._deployment.scale_settings.DefaultScaleSettings object at 0x7fb31413f1f0>, 'request_settings': <azure.ai.ml.entities._deployment.deployment_settings.OnlineRequestSettings object at 0x7fb31413fd60>, 'liveness_probe': <azure.ai.ml.entities._deployment.deployment_settings.ProbeSettings object at 0x7fb3141bc9d0>, 'readiness_probe': <azure.ai.ml.entities._deployment.deployment_settings.ProbeSettings object at 0x7fb3141bcfd0>, 'instance_count': 1, 'arm_type': 'online_deployment', 'model_mount_path': None, 'instance_type': 'Standard_F4s_v2', 'data_collector': None, 'egress_public_network_access': 'Enabled'})"
          },
          "metadata": {}
        }
      ],
      "execution_count": 44,
      "metadata": {
        "jupyter": {
          "source_hidden": false,
          "outputs_hidden": false
        },
        "nteract": {
          "transient": {
            "deleting": false
          }
        },
        "gather": {
          "logged": 1728873352213
        }
      }
    },
    {
      "cell_type": "markdown",
      "source": [
        "## Test online deployment"
      ],
      "metadata": {
        "nteract": {
          "transient": {
            "deleting": false
          }
        }
      }
    },
    {
      "cell_type": "code",
      "source": [
        "import json\n",
        "import pandas as pd\n",
        "\n",
        "INDEX_TEST = 345\n",
        "\n",
        "\n",
        "data_asset = ml_client.data.get(\"gold-booking-dsrp\", version=\"5\")\n",
        "modeling_dataframe = pd.read_csv(data_asset.path)\n",
        "modeling_dataframe.head()\n",
        "\n",
        "_input_file = {\n",
        "  \"input_data\": {\n",
        "    \"columns\": modeling_dataframe.drop(\"is_canceled\", axis=1).columns.to_list(),\n",
        "    \"data\": [\n",
        "      modeling_dataframe.drop(\"is_canceled\", axis=1).iloc[INDEX_TEST].to_list()\n",
        "    ],\n",
        "    \"index\": [INDEX_TEST]\n",
        "  }\n",
        "}\n",
        "\n",
        "with open('online-deployment-dsrp.json', 'w') as f:\n",
        "    json.dump(_input_file, f)"
      ],
      "outputs": [],
      "execution_count": 71,
      "metadata": {
        "jupyter": {
          "source_hidden": false,
          "outputs_hidden": false
        },
        "nteract": {
          "transient": {
            "deleting": false
          }
        },
        "gather": {
          "logged": 1728874114519
        }
      }
    },
    {
      "cell_type": "code",
      "source": [
        "# test the blue deployment with some sample data\n",
        "ml_client.online_endpoints.invoke(\n",
        "    endpoint_name=online_endpoint_name,\n",
        "    deployment_name=\"blue\",\n",
        "    request_file=\"online-deployment-dsrp.json\",\n",
        ")"
      ],
      "outputs": [
        {
          "output_type": "execute_result",
          "execution_count": 72,
          "data": {
            "text/plain": "'[0]'"
          },
          "metadata": {}
        }
      ],
      "execution_count": 72,
      "metadata": {
        "jupyter": {
          "source_hidden": false,
          "outputs_hidden": false
        },
        "nteract": {
          "transient": {
            "deleting": false
          }
        },
        "gather": {
          "logged": 1728874116207
        }
      }
    },
    {
      "cell_type": "code",
      "source": [
        "import urllib.request\n",
        "import json\n",
        "import os\n",
        "import ssl\n",
        "\n",
        "def allowSelfSignedHttps(allowed):\n",
        "    # bypass the server certificate verification on client side\n",
        "    if allowed and not os.environ.get('PYTHONHTTPSVERIFY', '') and getattr(ssl, '_create_unverified_context', None):\n",
        "        ssl._create_default_https_context = ssl._create_unverified_context\n",
        "\n",
        "allowSelfSignedHttps(True) # this line is needed if you use self-signed certificate in your scoring service.\n",
        "\n",
        "# Request data goes here\n",
        "# The example below assumes JSON formatting which may be updated\n",
        "# depending on the format your endpoint expects.\n",
        "# More information can be found here:\n",
        "# https://docs.microsoft.com/azure/machine-learning/how-to-deploy-advanced-entry-script\n",
        "data = _input_file\n",
        "\n",
        "body = str.encode(json.dumps(data))\n",
        "\n",
        "url = 'https://endpoint-10140227990523.eastus.inference.ml.azure.com/score'\n",
        "# Replace this with the primary/secondary key, AMLToken, or Microsoft Entra ID token for the endpoint\n",
        "api_key = ''\n",
        "if not api_key:\n",
        "    raise Exception(\"A key should be provided to invoke the endpoint\")\n",
        "\n",
        "\n",
        "headers = {'Content-Type':'application/json', 'Authorization':('Bearer '+ api_key)}\n",
        "\n",
        "req = urllib.request.Request(url, body, headers)\n",
        "\n",
        "try:\n",
        "    response = urllib.request.urlopen(req)\n",
        "\n",
        "    result = response.read()\n",
        "    print(result)\n",
        "except urllib.error.HTTPError as error:\n",
        "    print(\"The request failed with status code: \" + str(error.code))\n",
        "\n",
        "    # Print the headers - they include the requert ID and the timestamp, which are useful for debugging the failure\n",
        "    print(error.info())\n",
        "    print(error.read().decode(\"utf8\", 'ignore'))\n"
      ],
      "outputs": [
        {
          "output_type": "stream",
          "name": "stdout",
          "text": "b'[0]'\n"
        }
      ],
      "execution_count": 62,
      "metadata": {
        "jupyter": {
          "source_hidden": false,
          "outputs_hidden": false
        },
        "nteract": {
          "transient": {
            "deleting": false
          }
        },
        "gather": {
          "logged": 1728874002658
        }
      }
    }
  ],
  "metadata": {
    "kernelspec": {
      "name": "python310-sdkv2",
      "language": "python",
      "display_name": "Python 3.10 - SDK v2"
    },
    "language_info": {
      "name": "python",
      "version": "3.10.14",
      "mimetype": "text/x-python",
      "codemirror_mode": {
        "name": "ipython",
        "version": 3
      },
      "pygments_lexer": "ipython3",
      "nbconvert_exporter": "python",
      "file_extension": ".py"
    },
    "microsoft": {
      "ms_spell_check": {
        "ms_spell_check_language": "en"
      },
      "host": {
        "AzureML": {
          "notebookHasBeenCompleted": true
        }
      }
    },
    "kernel_info": {
      "name": "python310-sdkv2"
    },
    "nteract": {
      "version": "nteract-front-end@1.0.0"
    }
  },
  "nbformat": 4,
  "nbformat_minor": 2
}