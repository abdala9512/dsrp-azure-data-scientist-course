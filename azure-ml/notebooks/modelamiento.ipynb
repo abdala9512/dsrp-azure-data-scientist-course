{
  "cells": [
    {
      "cell_type": "markdown",
      "source": [
        "# Clase 9: Modelamiento\n",
        "## DP-100 Azure Data Scientist / DSRP\n",
        "## Clase 23 Septiembre\n",
        "\n",
        "### Dataset Utilizado: Hotel Booking\n",
        "\n",
        "https://www.kaggle.com/code/touba7/hotel-booking"
      ],
      "metadata": {
        "nteract": {
          "transient": {
            "deleting": false
          }
        }
      }
    },
    {
      "cell_type": "code",
      "source": [
        "import pandas as pd\n",
        "import mlflow\n",
        "\n",
        "\n",
        "from azure.ai.ml import MLClient\n",
        "from azure.identity import DefaultAzureCredential\n",
        "\n",
        "from sklearn.model_selection import train_test_split, GridSearchCV, RandomizedSearchCV, cross_val_score\n",
        "from sklearn.linear_model import LogisticRegression\n",
        "from sklearn.ensemble import RandomForestClassifier, GradientBoostingClassifier\n",
        "from sklearn.dummy import DummyClassifier\n",
        "from sklearn.neighbors import KNeighborsClassifier\n",
        "from sklearn.preprocessing import StandardScaler\n",
        "from sklearn.pipeline import Pipeline\n",
        "\n",
        "from sklearn.metrics import (\n",
        "    accuracy_score, \n",
        "    precision_score, \n",
        "    recall_score, \n",
        "    f1_score, \n",
        "    classification_report, \n",
        "    roc_auc_score, \n",
        "    confusion_matrix\n",
        ")\n",
        "\n",
        "from xgboost import XGBClassifier\n",
        "from lightgbm import LGBMClassifier\n",
        "\n",
        "from hyperopt import fmin, hp, tpe, Trials\n",
        "from loguru import logger\n",
        "\n",
        "\n",
        "# CREDENCIALES AZURE\n",
        "ml_client = MLClient.from_config(credential=DefaultAzureCredential())\n",
        "# METADATA ASSET\n",
        "data_asset = ml_client.data.get(\"gold-booking-dsrp\", version=\"2\")\n"
      ],
      "outputs": [
        {
          "output_type": "stream",
          "name": "stderr",
          "text": "Found the config file in: /config.json\n"
        }
      ],
      "execution_count": 56,
      "metadata": {
        "jupyter": {
          "source_hidden": false,
          "outputs_hidden": false
        },
        "nteract": {
          "transient": {
            "deleting": false
          }
        },
        "gather": {
          "logged": 1727317103920
        }
      }
    },
    {
      "cell_type": "code",
      "source": [
        "modeling_dataframe = pd.read_csv(data_asset.path)"
      ],
      "outputs": [],
      "execution_count": 2,
      "metadata": {
        "jupyter": {
          "source_hidden": false,
          "outputs_hidden": false
        },
        "nteract": {
          "transient": {
            "deleting": false
          }
        },
        "gather": {
          "logged": 1727312001850
        }
      }
    },
    {
      "cell_type": "markdown",
      "source": [
        "## Preparación de los datos"
      ],
      "metadata": {
        "nteract": {
          "transient": {
            "deleting": false
          }
        }
      }
    },
    {
      "cell_type": "code",
      "source": [
        "modeling_dataframe = pd.read_csv(data_asset.path)\n",
        "TARGET_COLUMN = \"is_canceled\"\n",
        "\n",
        "X = modeling_dataframe.drop(TARGET_COLUMN, axis=1)\n",
        "y = modeling_dataframe[TARGET_COLUMN]\n",
        "\n",
        "X_train, X_test, y_train, y_test = train_test_split(X, y, test_size=0.2, random_state=1000)"
      ],
      "outputs": [],
      "execution_count": 3,
      "metadata": {
        "jupyter": {
          "source_hidden": false,
          "outputs_hidden": false
        },
        "nteract": {
          "transient": {
            "deleting": false
          }
        },
        "gather": {
          "logged": 1727312002146
        }
      }
    },
    {
      "cell_type": "code",
      "source": [
        "X_train"
      ],
      "outputs": [
        {
          "output_type": "execute_result",
          "execution_count": 4,
          "data": {
            "text/plain": "        lead_time  arrival_date_week_number  arrival_date_day_of_month  \\\n89468       189.0                      21.0                       19.0   \n54838       386.0                      31.0                       28.0   \n62385       552.0                       2.0                       12.0   \n101395       18.0                      46.0                        7.0   \n103342       87.0                      51.0                       17.0   \n...           ...                       ...                        ...   \n113915       51.0                      23.0                        9.0   \n3776          5.0                       2.0                        4.0   \n71751        80.0                      28.0                       11.0   \n70231       139.0                      24.0                       12.0   \n107955        8.0                      11.0                       17.0   \n\n        stays_in_weekend_nights  stays_in_week_nights  adults  children  \\\n89468                       0.0                   3.0     2.0       0.0   \n54838                       0.0                   1.0     1.0       0.0   \n62385                       0.0                   2.0     2.0       0.0   \n101395                      1.0                   3.0     2.0       0.0   \n103342                      2.0                   1.0     2.0       0.0   \n...                         ...                   ...     ...       ...   \n113915                      2.0                   3.0     2.0       0.0   \n3776                        1.0                   3.0     1.0       0.0   \n71751                       0.0                   4.0     3.0       0.0   \n70231                       1.0                   1.0     2.0       0.0   \n107955                      1.0                   2.0     2.0       1.0   \n\n        babies  is_repeated_guest  previous_cancellations  ...  \\\n89468      0.0                0.0                     0.0  ...   \n54838      0.0                0.0                     0.0  ...   \n62385      0.0                0.0                     0.0  ...   \n101395     0.0                0.0                     0.0  ...   \n103342     0.0                0.0                     0.0  ...   \n...        ...                ...                     ...  ...   \n113915     0.0                0.0                     0.0  ...   \n3776       0.0                0.0                     0.0  ...   \n71751      0.0                0.0                     0.0  ...   \n70231      0.0                0.0                     0.0  ...   \n107955     0.0                0.0                     0.0  ...   \n\n        reserved_room_type_H  reserved_room_type_L  reserved_room_type_P  \\\n89468                    0.0                   0.0                   0.0   \n54838                    0.0                   0.0                   0.0   \n62385                    0.0                   0.0                   0.0   \n101395                   0.0                   0.0                   0.0   \n103342                   0.0                   0.0                   0.0   \n...                      ...                   ...                   ...   \n113915                   0.0                   0.0                   0.0   \n3776                     0.0                   0.0                   0.0   \n71751                    0.0                   0.0                   0.0   \n70231                    0.0                   0.0                   0.0   \n107955                   0.0                   0.0                   0.0   \n\n        deposit_type_No Deposit  deposit_type_Non Refund  \\\n89468                       1.0                      0.0   \n54838                       0.0                      1.0   \n62385                       0.0                      1.0   \n101395                      1.0                      0.0   \n103342                      1.0                      0.0   \n...                         ...                      ...   \n113915                      1.0                      0.0   \n3776                        1.0                      0.0   \n71751                       1.0                      0.0   \n70231                       0.0                      1.0   \n107955                      1.0                      0.0   \n\n        deposit_type_Refundable  customer_type_Contract  customer_type_Group  \\\n89468                       0.0                     0.0                  0.0   \n54838                       0.0                     0.0                  0.0   \n62385                       0.0                     0.0                  0.0   \n101395                      0.0                     0.0                  0.0   \n103342                      0.0                     0.0                  0.0   \n...                         ...                     ...                  ...   \n113915                      0.0                     0.0                  0.0   \n3776                        0.0                     0.0                  0.0   \n71751                       0.0                     0.0                  0.0   \n70231                       0.0                     0.0                  0.0   \n107955                      0.0                     0.0                  0.0   \n\n        customer_type_Transient  customer_type_Transient-Party  \n89468                       0.0                            1.0  \n54838                       1.0                            0.0  \n62385                       1.0                            0.0  \n101395                      1.0                            0.0  \n103342                      1.0                            0.0  \n...                         ...                            ...  \n113915                      1.0                            0.0  \n3776                        0.0                            1.0  \n71751                       1.0                            0.0  \n70231                       1.0                            0.0  \n107955                      1.0                            0.0  \n\n[95512 rows x 68 columns]",
            "text/html": "<div>\n<style scoped>\n    .dataframe tbody tr th:only-of-type {\n        vertical-align: middle;\n    }\n\n    .dataframe tbody tr th {\n        vertical-align: top;\n    }\n\n    .dataframe thead th {\n        text-align: right;\n    }\n</style>\n<table border=\"1\" class=\"dataframe\">\n  <thead>\n    <tr style=\"text-align: right;\">\n      <th></th>\n      <th>lead_time</th>\n      <th>arrival_date_week_number</th>\n      <th>arrival_date_day_of_month</th>\n      <th>stays_in_weekend_nights</th>\n      <th>stays_in_week_nights</th>\n      <th>adults</th>\n      <th>children</th>\n      <th>babies</th>\n      <th>is_repeated_guest</th>\n      <th>previous_cancellations</th>\n      <th>...</th>\n      <th>reserved_room_type_H</th>\n      <th>reserved_room_type_L</th>\n      <th>reserved_room_type_P</th>\n      <th>deposit_type_No Deposit</th>\n      <th>deposit_type_Non Refund</th>\n      <th>deposit_type_Refundable</th>\n      <th>customer_type_Contract</th>\n      <th>customer_type_Group</th>\n      <th>customer_type_Transient</th>\n      <th>customer_type_Transient-Party</th>\n    </tr>\n  </thead>\n  <tbody>\n    <tr>\n      <th>89468</th>\n      <td>189.0</td>\n      <td>21.0</td>\n      <td>19.0</td>\n      <td>0.0</td>\n      <td>3.0</td>\n      <td>2.0</td>\n      <td>0.0</td>\n      <td>0.0</td>\n      <td>0.0</td>\n      <td>0.0</td>\n      <td>...</td>\n      <td>0.0</td>\n      <td>0.0</td>\n      <td>0.0</td>\n      <td>1.0</td>\n      <td>0.0</td>\n      <td>0.0</td>\n      <td>0.0</td>\n      <td>0.0</td>\n      <td>0.0</td>\n      <td>1.0</td>\n    </tr>\n    <tr>\n      <th>54838</th>\n      <td>386.0</td>\n      <td>31.0</td>\n      <td>28.0</td>\n      <td>0.0</td>\n      <td>1.0</td>\n      <td>1.0</td>\n      <td>0.0</td>\n      <td>0.0</td>\n      <td>0.0</td>\n      <td>0.0</td>\n      <td>...</td>\n      <td>0.0</td>\n      <td>0.0</td>\n      <td>0.0</td>\n      <td>0.0</td>\n      <td>1.0</td>\n      <td>0.0</td>\n      <td>0.0</td>\n      <td>0.0</td>\n      <td>1.0</td>\n      <td>0.0</td>\n    </tr>\n    <tr>\n      <th>62385</th>\n      <td>552.0</td>\n      <td>2.0</td>\n      <td>12.0</td>\n      <td>0.0</td>\n      <td>2.0</td>\n      <td>2.0</td>\n      <td>0.0</td>\n      <td>0.0</td>\n      <td>0.0</td>\n      <td>0.0</td>\n      <td>...</td>\n      <td>0.0</td>\n      <td>0.0</td>\n      <td>0.0</td>\n      <td>0.0</td>\n      <td>1.0</td>\n      <td>0.0</td>\n      <td>0.0</td>\n      <td>0.0</td>\n      <td>1.0</td>\n      <td>0.0</td>\n    </tr>\n    <tr>\n      <th>101395</th>\n      <td>18.0</td>\n      <td>46.0</td>\n      <td>7.0</td>\n      <td>1.0</td>\n      <td>3.0</td>\n      <td>2.0</td>\n      <td>0.0</td>\n      <td>0.0</td>\n      <td>0.0</td>\n      <td>0.0</td>\n      <td>...</td>\n      <td>0.0</td>\n      <td>0.0</td>\n      <td>0.0</td>\n      <td>1.0</td>\n      <td>0.0</td>\n      <td>0.0</td>\n      <td>0.0</td>\n      <td>0.0</td>\n      <td>1.0</td>\n      <td>0.0</td>\n    </tr>\n    <tr>\n      <th>103342</th>\n      <td>87.0</td>\n      <td>51.0</td>\n      <td>17.0</td>\n      <td>2.0</td>\n      <td>1.0</td>\n      <td>2.0</td>\n      <td>0.0</td>\n      <td>0.0</td>\n      <td>0.0</td>\n      <td>0.0</td>\n      <td>...</td>\n      <td>0.0</td>\n      <td>0.0</td>\n      <td>0.0</td>\n      <td>1.0</td>\n      <td>0.0</td>\n      <td>0.0</td>\n      <td>0.0</td>\n      <td>0.0</td>\n      <td>1.0</td>\n      <td>0.0</td>\n    </tr>\n    <tr>\n      <th>...</th>\n      <td>...</td>\n      <td>...</td>\n      <td>...</td>\n      <td>...</td>\n      <td>...</td>\n      <td>...</td>\n      <td>...</td>\n      <td>...</td>\n      <td>...</td>\n      <td>...</td>\n      <td>...</td>\n      <td>...</td>\n      <td>...</td>\n      <td>...</td>\n      <td>...</td>\n      <td>...</td>\n      <td>...</td>\n      <td>...</td>\n      <td>...</td>\n      <td>...</td>\n      <td>...</td>\n    </tr>\n    <tr>\n      <th>113915</th>\n      <td>51.0</td>\n      <td>23.0</td>\n      <td>9.0</td>\n      <td>2.0</td>\n      <td>3.0</td>\n      <td>2.0</td>\n      <td>0.0</td>\n      <td>0.0</td>\n      <td>0.0</td>\n      <td>0.0</td>\n      <td>...</td>\n      <td>0.0</td>\n      <td>0.0</td>\n      <td>0.0</td>\n      <td>1.0</td>\n      <td>0.0</td>\n      <td>0.0</td>\n      <td>0.0</td>\n      <td>0.0</td>\n      <td>1.0</td>\n      <td>0.0</td>\n    </tr>\n    <tr>\n      <th>3776</th>\n      <td>5.0</td>\n      <td>2.0</td>\n      <td>4.0</td>\n      <td>1.0</td>\n      <td>3.0</td>\n      <td>1.0</td>\n      <td>0.0</td>\n      <td>0.0</td>\n      <td>0.0</td>\n      <td>0.0</td>\n      <td>...</td>\n      <td>0.0</td>\n      <td>0.0</td>\n      <td>0.0</td>\n      <td>1.0</td>\n      <td>0.0</td>\n      <td>0.0</td>\n      <td>0.0</td>\n      <td>0.0</td>\n      <td>0.0</td>\n      <td>1.0</td>\n    </tr>\n    <tr>\n      <th>71751</th>\n      <td>80.0</td>\n      <td>28.0</td>\n      <td>11.0</td>\n      <td>0.0</td>\n      <td>4.0</td>\n      <td>3.0</td>\n      <td>0.0</td>\n      <td>0.0</td>\n      <td>0.0</td>\n      <td>0.0</td>\n      <td>...</td>\n      <td>0.0</td>\n      <td>0.0</td>\n      <td>0.0</td>\n      <td>1.0</td>\n      <td>0.0</td>\n      <td>0.0</td>\n      <td>0.0</td>\n      <td>0.0</td>\n      <td>1.0</td>\n      <td>0.0</td>\n    </tr>\n    <tr>\n      <th>70231</th>\n      <td>139.0</td>\n      <td>24.0</td>\n      <td>12.0</td>\n      <td>1.0</td>\n      <td>1.0</td>\n      <td>2.0</td>\n      <td>0.0</td>\n      <td>0.0</td>\n      <td>0.0</td>\n      <td>0.0</td>\n      <td>...</td>\n      <td>0.0</td>\n      <td>0.0</td>\n      <td>0.0</td>\n      <td>0.0</td>\n      <td>1.0</td>\n      <td>0.0</td>\n      <td>0.0</td>\n      <td>0.0</td>\n      <td>1.0</td>\n      <td>0.0</td>\n    </tr>\n    <tr>\n      <th>107955</th>\n      <td>8.0</td>\n      <td>11.0</td>\n      <td>17.0</td>\n      <td>1.0</td>\n      <td>2.0</td>\n      <td>2.0</td>\n      <td>1.0</td>\n      <td>0.0</td>\n      <td>0.0</td>\n      <td>0.0</td>\n      <td>...</td>\n      <td>0.0</td>\n      <td>0.0</td>\n      <td>0.0</td>\n      <td>1.0</td>\n      <td>0.0</td>\n      <td>0.0</td>\n      <td>0.0</td>\n      <td>0.0</td>\n      <td>1.0</td>\n      <td>0.0</td>\n    </tr>\n  </tbody>\n</table>\n<p>95512 rows × 68 columns</p>\n</div>"
          },
          "metadata": {}
        }
      ],
      "execution_count": 4,
      "metadata": {
        "jupyter": {
          "source_hidden": false,
          "outputs_hidden": false
        },
        "nteract": {
          "transient": {
            "deleting": false
          }
        },
        "gather": {
          "logged": 1727144181865
        }
      }
    },
    {
      "cell_type": "code",
      "source": [
        "X_test"
      ],
      "outputs": [
        {
          "output_type": "execute_result",
          "execution_count": 5,
          "data": {
            "text/plain": "        lead_time  arrival_date_week_number  arrival_date_day_of_month  \\\n110695      221.0                      17.0                       28.0   \n74453       304.0                      34.0                       17.0   \n94193       301.0                      31.0                       30.0   \n1387         30.0                      35.0                       28.0   \n7654         29.0                      34.0                       18.0   \n...           ...                       ...                        ...   \n101240        1.0                      45.0                        5.0   \n54272        49.0                      29.0                       11.0   \n27544        70.0                      35.0                       26.0   \n13809         7.0                      38.0                       13.0   \n65035        95.0                      12.0                       23.0   \n\n        stays_in_weekend_nights  stays_in_week_nights  adults  children  \\\n110695                      1.0                   2.0     1.0       0.0   \n74453                       1.0                   1.0     2.0       0.0   \n94193                       1.0                   1.0     2.0       0.0   \n1387                        0.0                   1.0     2.0       0.0   \n7654                        2.0                   5.0     2.0       0.0   \n...                         ...                   ...     ...       ...   \n101240                      2.0                   2.0     2.0       0.0   \n54272                       1.0                   0.0     2.0       0.0   \n27544                       2.0                   5.0     2.0       0.0   \n13809                       0.0                   2.0     1.0       0.0   \n65035                       0.0                   1.0     2.0       0.0   \n\n        babies  is_repeated_guest  previous_cancellations  ...  \\\n110695     0.0                0.0                     0.0  ...   \n74453      0.0                0.0                     1.0  ...   \n94193      0.0                0.0                     0.0  ...   \n1387       0.0                0.0                     0.0  ...   \n7654       0.0                0.0                     0.0  ...   \n...        ...                ...                     ...  ...   \n101240     0.0                0.0                     0.0  ...   \n54272      0.0                0.0                     0.0  ...   \n27544      1.0                0.0                     0.0  ...   \n13809      0.0                0.0                     0.0  ...   \n65035      0.0                0.0                     0.0  ...   \n\n        reserved_room_type_H  reserved_room_type_L  reserved_room_type_P  \\\n110695                   0.0                   0.0                   0.0   \n74453                    0.0                   0.0                   0.0   \n94193                    0.0                   0.0                   0.0   \n1387                     0.0                   0.0                   0.0   \n7654                     0.0                   0.0                   0.0   \n...                      ...                   ...                   ...   \n101240                   0.0                   0.0                   0.0   \n54272                    0.0                   0.0                   0.0   \n27544                    0.0                   0.0                   0.0   \n13809                    0.0                   0.0                   0.0   \n65035                    0.0                   0.0                   0.0   \n\n        deposit_type_No Deposit  deposit_type_Non Refund  \\\n110695                      1.0                      0.0   \n74453                       0.0                      1.0   \n94193                       1.0                      0.0   \n1387                        1.0                      0.0   \n7654                        1.0                      0.0   \n...                         ...                      ...   \n101240                      1.0                      0.0   \n54272                       1.0                      0.0   \n27544                       1.0                      0.0   \n13809                       1.0                      0.0   \n65035                       1.0                      0.0   \n\n        deposit_type_Refundable  customer_type_Contract  customer_type_Group  \\\n110695                      0.0                     0.0                  0.0   \n74453                       0.0                     1.0                  0.0   \n94193                       0.0                     0.0                  0.0   \n1387                        0.0                     0.0                  0.0   \n7654                        0.0                     0.0                  0.0   \n...                         ...                     ...                  ...   \n101240                      0.0                     0.0                  0.0   \n54272                       0.0                     0.0                  0.0   \n27544                       0.0                     0.0                  0.0   \n13809                       0.0                     0.0                  0.0   \n65035                       0.0                     0.0                  0.0   \n\n        customer_type_Transient  customer_type_Transient-Party  \n110695                      1.0                            0.0  \n74453                       0.0                            0.0  \n94193                       0.0                            1.0  \n1387                        1.0                            0.0  \n7654                        1.0                            0.0  \n...                         ...                            ...  \n101240                      1.0                            0.0  \n54272                       1.0                            0.0  \n27544                       1.0                            0.0  \n13809                       1.0                            0.0  \n65035                       1.0                            0.0  \n\n[23878 rows x 68 columns]",
            "text/html": "<div>\n<style scoped>\n    .dataframe tbody tr th:only-of-type {\n        vertical-align: middle;\n    }\n\n    .dataframe tbody tr th {\n        vertical-align: top;\n    }\n\n    .dataframe thead th {\n        text-align: right;\n    }\n</style>\n<table border=\"1\" class=\"dataframe\">\n  <thead>\n    <tr style=\"text-align: right;\">\n      <th></th>\n      <th>lead_time</th>\n      <th>arrival_date_week_number</th>\n      <th>arrival_date_day_of_month</th>\n      <th>stays_in_weekend_nights</th>\n      <th>stays_in_week_nights</th>\n      <th>adults</th>\n      <th>children</th>\n      <th>babies</th>\n      <th>is_repeated_guest</th>\n      <th>previous_cancellations</th>\n      <th>...</th>\n      <th>reserved_room_type_H</th>\n      <th>reserved_room_type_L</th>\n      <th>reserved_room_type_P</th>\n      <th>deposit_type_No Deposit</th>\n      <th>deposit_type_Non Refund</th>\n      <th>deposit_type_Refundable</th>\n      <th>customer_type_Contract</th>\n      <th>customer_type_Group</th>\n      <th>customer_type_Transient</th>\n      <th>customer_type_Transient-Party</th>\n    </tr>\n  </thead>\n  <tbody>\n    <tr>\n      <th>110695</th>\n      <td>221.0</td>\n      <td>17.0</td>\n      <td>28.0</td>\n      <td>1.0</td>\n      <td>2.0</td>\n      <td>1.0</td>\n      <td>0.0</td>\n      <td>0.0</td>\n      <td>0.0</td>\n      <td>0.0</td>\n      <td>...</td>\n      <td>0.0</td>\n      <td>0.0</td>\n      <td>0.0</td>\n      <td>1.0</td>\n      <td>0.0</td>\n      <td>0.0</td>\n      <td>0.0</td>\n      <td>0.0</td>\n      <td>1.0</td>\n      <td>0.0</td>\n    </tr>\n    <tr>\n      <th>74453</th>\n      <td>304.0</td>\n      <td>34.0</td>\n      <td>17.0</td>\n      <td>1.0</td>\n      <td>1.0</td>\n      <td>2.0</td>\n      <td>0.0</td>\n      <td>0.0</td>\n      <td>0.0</td>\n      <td>1.0</td>\n      <td>...</td>\n      <td>0.0</td>\n      <td>0.0</td>\n      <td>0.0</td>\n      <td>0.0</td>\n      <td>1.0</td>\n      <td>0.0</td>\n      <td>1.0</td>\n      <td>0.0</td>\n      <td>0.0</td>\n      <td>0.0</td>\n    </tr>\n    <tr>\n      <th>94193</th>\n      <td>301.0</td>\n      <td>31.0</td>\n      <td>30.0</td>\n      <td>1.0</td>\n      <td>1.0</td>\n      <td>2.0</td>\n      <td>0.0</td>\n      <td>0.0</td>\n      <td>0.0</td>\n      <td>0.0</td>\n      <td>...</td>\n      <td>0.0</td>\n      <td>0.0</td>\n      <td>0.0</td>\n      <td>1.0</td>\n      <td>0.0</td>\n      <td>0.0</td>\n      <td>0.0</td>\n      <td>0.0</td>\n      <td>0.0</td>\n      <td>1.0</td>\n    </tr>\n    <tr>\n      <th>1387</th>\n      <td>30.0</td>\n      <td>35.0</td>\n      <td>28.0</td>\n      <td>0.0</td>\n      <td>1.0</td>\n      <td>2.0</td>\n      <td>0.0</td>\n      <td>0.0</td>\n      <td>0.0</td>\n      <td>0.0</td>\n      <td>...</td>\n      <td>0.0</td>\n      <td>0.0</td>\n      <td>0.0</td>\n      <td>1.0</td>\n      <td>0.0</td>\n      <td>0.0</td>\n      <td>0.0</td>\n      <td>0.0</td>\n      <td>1.0</td>\n      <td>0.0</td>\n    </tr>\n    <tr>\n      <th>7654</th>\n      <td>29.0</td>\n      <td>34.0</td>\n      <td>18.0</td>\n      <td>2.0</td>\n      <td>5.0</td>\n      <td>2.0</td>\n      <td>0.0</td>\n      <td>0.0</td>\n      <td>0.0</td>\n      <td>0.0</td>\n      <td>...</td>\n      <td>0.0</td>\n      <td>0.0</td>\n      <td>0.0</td>\n      <td>1.0</td>\n      <td>0.0</td>\n      <td>0.0</td>\n      <td>0.0</td>\n      <td>0.0</td>\n      <td>1.0</td>\n      <td>0.0</td>\n    </tr>\n    <tr>\n      <th>...</th>\n      <td>...</td>\n      <td>...</td>\n      <td>...</td>\n      <td>...</td>\n      <td>...</td>\n      <td>...</td>\n      <td>...</td>\n      <td>...</td>\n      <td>...</td>\n      <td>...</td>\n      <td>...</td>\n      <td>...</td>\n      <td>...</td>\n      <td>...</td>\n      <td>...</td>\n      <td>...</td>\n      <td>...</td>\n      <td>...</td>\n      <td>...</td>\n      <td>...</td>\n      <td>...</td>\n    </tr>\n    <tr>\n      <th>101240</th>\n      <td>1.0</td>\n      <td>45.0</td>\n      <td>5.0</td>\n      <td>2.0</td>\n      <td>2.0</td>\n      <td>2.0</td>\n      <td>0.0</td>\n      <td>0.0</td>\n      <td>0.0</td>\n      <td>0.0</td>\n      <td>...</td>\n      <td>0.0</td>\n      <td>0.0</td>\n      <td>0.0</td>\n      <td>1.0</td>\n      <td>0.0</td>\n      <td>0.0</td>\n      <td>0.0</td>\n      <td>0.0</td>\n      <td>1.0</td>\n      <td>0.0</td>\n    </tr>\n    <tr>\n      <th>54272</th>\n      <td>49.0</td>\n      <td>29.0</td>\n      <td>11.0</td>\n      <td>1.0</td>\n      <td>0.0</td>\n      <td>2.0</td>\n      <td>0.0</td>\n      <td>0.0</td>\n      <td>0.0</td>\n      <td>0.0</td>\n      <td>...</td>\n      <td>0.0</td>\n      <td>0.0</td>\n      <td>0.0</td>\n      <td>1.0</td>\n      <td>0.0</td>\n      <td>0.0</td>\n      <td>0.0</td>\n      <td>0.0</td>\n      <td>1.0</td>\n      <td>0.0</td>\n    </tr>\n    <tr>\n      <th>27544</th>\n      <td>70.0</td>\n      <td>35.0</td>\n      <td>26.0</td>\n      <td>2.0</td>\n      <td>5.0</td>\n      <td>2.0</td>\n      <td>0.0</td>\n      <td>1.0</td>\n      <td>0.0</td>\n      <td>0.0</td>\n      <td>...</td>\n      <td>0.0</td>\n      <td>0.0</td>\n      <td>0.0</td>\n      <td>1.0</td>\n      <td>0.0</td>\n      <td>0.0</td>\n      <td>0.0</td>\n      <td>0.0</td>\n      <td>1.0</td>\n      <td>0.0</td>\n    </tr>\n    <tr>\n      <th>13809</th>\n      <td>7.0</td>\n      <td>38.0</td>\n      <td>13.0</td>\n      <td>0.0</td>\n      <td>2.0</td>\n      <td>1.0</td>\n      <td>0.0</td>\n      <td>0.0</td>\n      <td>0.0</td>\n      <td>0.0</td>\n      <td>...</td>\n      <td>0.0</td>\n      <td>0.0</td>\n      <td>0.0</td>\n      <td>1.0</td>\n      <td>0.0</td>\n      <td>0.0</td>\n      <td>0.0</td>\n      <td>0.0</td>\n      <td>1.0</td>\n      <td>0.0</td>\n    </tr>\n    <tr>\n      <th>65035</th>\n      <td>95.0</td>\n      <td>12.0</td>\n      <td>23.0</td>\n      <td>0.0</td>\n      <td>1.0</td>\n      <td>2.0</td>\n      <td>0.0</td>\n      <td>0.0</td>\n      <td>0.0</td>\n      <td>0.0</td>\n      <td>...</td>\n      <td>0.0</td>\n      <td>0.0</td>\n      <td>0.0</td>\n      <td>1.0</td>\n      <td>0.0</td>\n      <td>0.0</td>\n      <td>0.0</td>\n      <td>0.0</td>\n      <td>1.0</td>\n      <td>0.0</td>\n    </tr>\n  </tbody>\n</table>\n<p>23878 rows × 68 columns</p>\n</div>"
          },
          "metadata": {}
        }
      ],
      "execution_count": 5,
      "metadata": {
        "jupyter": {
          "source_hidden": false,
          "outputs_hidden": false
        },
        "nteract": {
          "transient": {
            "deleting": false
          }
        },
        "gather": {
          "logged": 1727144182009
        }
      }
    },
    {
      "cell_type": "markdown",
      "source": [
        "# Modelamiento"
      ],
      "metadata": {
        "nteract": {
          "transient": {
            "deleting": false
          }
        }
      }
    },
    {
      "cell_type": "code",
      "source": [
        "import mlflow\n",
        "from azureml.core import Workspace\n",
        "\n",
        "EXPERIMENT_NAME = \"DSRP - Booking Cancellation Prediction 2024\"\n",
        "\n",
        "ws = Workspace.from_config()\n",
        "mlflow.set_tracking_uri(ws.get_mlflow_tracking_uri())\n",
        "\n",
        "mlflow.create_experiment(EXPERIMENT_NAME)\n",
        "mlflow.set_experiment(EXPERIMENT_NAME)\n",
        "\n",
        "mlflow.autolog()"
      ],
      "outputs": [
        {
          "output_type": "stream",
          "name": "stderr",
          "text": "2024/09/26 00:54:27 INFO mlflow.tracking.fluent: Autologging successfully enabled for lightgbm.\n2024/09/26 00:54:27 INFO mlflow.tracking.fluent: Autologging successfully enabled for xgboost.\n2024/09/26 00:54:27 WARNING mlflow.utils.autologging_utils: MLflow sklearn autologging is known to be compatible with 0.24.1 <= scikit-learn <= 1.5.1, but the installed version is 1.5.2. If you encounter errors during autologging, try upgrading / downgrading scikit-learn to a compatible version, or try upgrading MLflow.\n2024/09/26 00:54:29 INFO mlflow.tracking.fluent: Autologging successfully enabled for sklearn.\n"
        }
      ],
      "execution_count": 7,
      "metadata": {
        "jupyter": {
          "source_hidden": false,
          "outputs_hidden": false
        },
        "nteract": {
          "transient": {
            "deleting": false
          }
        },
        "gather": {
          "logged": 1727312070702
        }
      }
    },
    {
      "cell_type": "code",
      "source": [
        "from typing import Any\n",
        "\n",
        "class MachineLearningProcessor:\n",
        "\n",
        "    def __init__(self, \n",
        "        data: pd.DataFrame, \n",
        "        algorithm: any, \n",
        "        model_name: str, \n",
        "        target:str, \n",
        "        params: dict = None):\n",
        "\n",
        "        self.data = data\n",
        "        self.algorithm = algorithm\n",
        "        self.model_name = model_name\n",
        "        self.target_column = target\n",
        "\n",
        "    def _split_data(self):\n",
        "\n",
        "        X = self.data.drop(self.target_column, axis=1)\n",
        "        y = self.data[self.target_column]\n",
        "        X_train, X_test, y_train, y_test = train_test_split(X, y, test_size=0.2, random_state=1000)\n",
        "\n",
        "        return X_train, X_test, y_train, y_test\n",
        "\n",
        "    def __make_pipeline(self, params: dict = None) -> Pipeline:\n",
        "\n",
        "        if params:\n",
        "            algorithm = self.algorithm(**params)\n",
        "        else:\n",
        "            algorithm = self.algorithm()\n",
        "\n",
        "        _pipeline = Pipeline(steps=[\n",
        "            (\"std_scaling\", StandardScaler()),\n",
        "            (\"classifier\",algorithm )\n",
        "            ]\n",
        "        )\n",
        "\n",
        "        return _pipeline\n",
        "\n",
        "    def optimize_grid_search(self, search_space: dict):\n",
        "\n",
        "        X_train, X_test, y_train, y_test = self._split_data()\n",
        "        _pipeline = self.__make_pipeline()\n",
        "        \n",
        "        optimizer = GridSearchCV(\n",
        "            _pipeline,\n",
        "            param_grid={\n",
        "                f\"classifier__{param}\": space \n",
        "                for param, space in search_space.items()\n",
        "            },\n",
        "            cv=3\n",
        "        )\n",
        "        optimizer.fit(X_train, y_train)\n",
        "        return optimizer.cv_results_\n",
        "\n",
        "    def optimize_random_search(self, search_space: dict):\n",
        "\n",
        "        X_train, X_test, y_train, y_test = self._split_data()\n",
        "        _pipeline = self.__make_pipeline()\n",
        "        \n",
        "        optimizer = RandomizedSearchCV(\n",
        "            _pipeline,\n",
        "            param_distributions={\n",
        "                f\"classifier__{param}\": space \n",
        "                for param, space in search_space.items()\n",
        "            },\n",
        "            random_state=100,\n",
        "            n_iter=5,\n",
        "            cv=3\n",
        "        )\n",
        "        optimizer.fit(X_train, y_train)\n",
        "        return optimizer.best_params_\n",
        "\n",
        "    def optimize_tpe(self, search_space:dict):\n",
        "\n",
        "        def objective(params):\n",
        "            \"\"\"\n",
        "            Entrenar modelo y devolver metrica ML\n",
        "            \"\"\"\n",
        "            X_train, X_test, y_train, y_test = self._split_data()\n",
        "            \n",
        "            _pipeline = self.__make_pipeline(params=params)\n",
        "\n",
        "            _pipeline.fit(X_train, y_train)\n",
        "            predictions = _pipeline.predict(X_test)\n",
        "\n",
        "            return -accuracy_score(y_test, predictions)\n",
        "\n",
        "        trials =Trials()\n",
        "        best = fmin(\n",
        "            fn=objective,\n",
        "            space=search_space,\n",
        "            max_evals=10,\n",
        "            algo=tpe.suggest\n",
        "        )\n",
        "        return best\n",
        "        \n",
        "        \n",
        "\n",
        "    def train(self, params: dict):\n",
        "        \"\"\"\n",
        "        Entrenamiento del model de ML\n",
        "        \"\"\"\n",
        "        mlflow.autolog()\n",
        "        with mlflow.start_run(run_name=self.model_name):\n",
        "\n",
        "            X_train, X_test, y_train, y_test = self._split_data()\n",
        "\n",
        "            _pipeline = self.__make_pipeline(params=params)\n",
        "\n",
        "            _pipeline.fit(X_train, y_train)\n",
        "            predictions = _pipeline.predict(X_test)\n",
        "\n",
        "            metrics = {\n",
        "                \"accuracy_score\": accuracy_score(y_test, predictions),\n",
        "                \"recall_score\": recall_score(y_test, predictions),\n",
        "                \"precision_score\":precision_score(y_test, predictions),\n",
        "                \"f1_score\": f1_score(y_test, predictions)\n",
        "            }\n",
        "\n",
        "            logger.info(f\" {self.model_name} Accuracy: {metrics['accuracy_score']}\")\n",
        "            logger.info(f\" {self.model_name} Recall: {metrics['recall_score']}\")\n",
        "            logger.info(f\" {self.model_name} Precision: {metrics['precision_score']}\")\n",
        "            logger.info(f\" {self.model_name} F1-Score: {metrics['f1_score']}\")\n",
        "\n",
        "            print(confusion_matrix(y_test, predictions))\n",
        "            print(\n",
        "                classification_report(y_test, predictions)\n",
        "            )"
      ],
      "outputs": [],
      "execution_count": 58,
      "metadata": {
        "jupyter": {
          "source_hidden": false,
          "outputs_hidden": false
        },
        "nteract": {
          "transient": {
            "deleting": false
          }
        },
        "gather": {
          "logged": 1727317656820
        }
      }
    },
    {
      "cell_type": "markdown",
      "source": [
        "# Baseline"
      ],
      "metadata": {
        "nteract": {
          "transient": {
            "deleting": false
          }
        }
      }
    },
    {
      "cell_type": "code",
      "source": [
        "dummy_ml_processor = MachineLearningProcessor(\n",
        "    data=modeling_dataframe,\n",
        "    algorithm=DummyClassifier,\n",
        "    model_name=\"Dummy Classifier with MachineLearningProcessor\",\n",
        "    target=TARGET_COLUMN,\n",
        "    params= {\n",
        "        \"strategy\":\"uniform\"\n",
        "    }\n",
        ")\n",
        "dummy_ml_processor.train()"
      ],
      "outputs": [
        {
          "output_type": "stream",
          "name": "stderr",
          "text": "2024/09/26 01:18:24 INFO mlflow.tracking.fluent: Autologging successfully enabled for lightgbm.\n2024/09/26 01:18:24 INFO mlflow.tracking.fluent: Autologging successfully enabled for xgboost.\n2024/09/26 01:18:24 WARNING mlflow.utils.autologging_utils: MLflow sklearn autologging is known to be compatible with 0.24.1 <= scikit-learn <= 1.5.1, but the installed version is 1.5.2. If you encounter errors during autologging, try upgrading / downgrading scikit-learn to a compatible version, or try upgrading MLflow.\n2024/09/26 01:18:25 INFO mlflow.tracking.fluent: Autologging successfully enabled for sklearn.\n2024/09/26 01:18:45 WARNING mlflow.sklearn: Failed to log evaluation dataset information to MLflow Tracking. Reason: BAD_REQUEST: Response: {'Error': {'Code': 'UserError', 'Severity': None, 'Message': 'Cannot log the same dataset with different context', 'MessageFormat': None, 'MessageParameters': None, 'ReferenceCode': None, 'DetailsUri': None, 'Target': None, 'Details': [], 'InnerError': None, 'DebugInfo': None, 'AdditionalInfo': None}, 'Correlation': {'operation': '12b1c0258876330ed99c01df74e14aca', 'request': '264b5600be21ff01'}, 'Environment': 'eastus', 'Location': 'eastus', 'Time': '2024-09-26T01:18:45.3578765+00:00', 'ComponentName': 'mlflow', 'statusCode': 400, 'error_code': 'BAD_REQUEST'}\n\u001b[32m2024-09-26 01:18:45.374\u001b[0m | \u001b[1mINFO    \u001b[0m | \u001b[36m__main__\u001b[0m:\u001b[36mtrain\u001b[0m:\u001b[36m52\u001b[0m - \u001b[1m Dummy Classifier with MachineLearningProcessor Accuracy: 0.4995812044559846\u001b[0m\n\u001b[32m2024-09-26 01:18:45.376\u001b[0m | \u001b[1mINFO    \u001b[0m | \u001b[36m__main__\u001b[0m:\u001b[36mtrain\u001b[0m:\u001b[36m53\u001b[0m - \u001b[1m Dummy Classifier with MachineLearningProcessor Recall: 0.494098955969133\u001b[0m\n\u001b[32m2024-09-26 01:18:45.378\u001b[0m | \u001b[1mINFO    \u001b[0m | \u001b[36m__main__\u001b[0m:\u001b[36mtrain\u001b[0m:\u001b[36m54\u001b[0m - \u001b[1m Dummy Classifier with MachineLearningProcessor Precision: 0.36758125791473195\u001b[0m\n\u001b[32m2024-09-26 01:18:45.379\u001b[0m | \u001b[1mINFO    \u001b[0m | \u001b[36m__main__\u001b[0m:\u001b[36mtrain\u001b[0m:\u001b[36m55\u001b[0m - \u001b[1m Dummy Classifier with MachineLearningProcessor F1-Score: 0.4215520162656727\u001b[0m\n2024/09/26 01:18:45 INFO mlflow.tracking._tracking_service.client: 🏃 View run Dummy Classifier with MachineLearningProcessor at: https://eastus.api.azureml.ms/mlflow/v2.0/subscriptions/0f61d6bf-ab3d-4df7-a666-edaf42eff57c/resourceGroups/aml-course-dp100-2024/providers/Microsoft.MachineLearningServices/workspaces/dsrp-aml-dp100/#/experiments/198d9690-6de9-4f7f-bde2-99cc70cb1836/runs/9e3bbe7c-90c5-4fa6-9b91-eb768aff6ce2.\n2024/09/26 01:18:45 INFO mlflow.tracking._tracking_service.client: 🧪 View experiment at: https://eastus.api.azureml.ms/mlflow/v2.0/subscriptions/0f61d6bf-ab3d-4df7-a666-edaf42eff57c/resourceGroups/aml-course-dp100-2024/providers/Microsoft.MachineLearningServices/workspaces/dsrp-aml-dp100/#/experiments/198d9690-6de9-4f7f-bde2-99cc70cb1836.\n"
        },
        {
          "output_type": "stream",
          "name": "stdout",
          "text": "[[7575 7491]\n [4458 4354]]\n              precision    recall  f1-score   support\n\n         0.0       0.63      0.50      0.56     15066\n         1.0       0.37      0.49      0.42      8812\n\n    accuracy                           0.50     23878\n   macro avg       0.50      0.50      0.49     23878\nweighted avg       0.53      0.50      0.51     23878\n\n"
        }
      ],
      "execution_count": 16,
      "metadata": {
        "jupyter": {
          "source_hidden": false,
          "outputs_hidden": false
        },
        "nteract": {
          "transient": {
            "deleting": false
          }
        },
        "gather": {
          "logged": 1727313527239
        }
      }
    },
    {
      "cell_type": "markdown",
      "source": [
        "# Regresión Logística"
      ],
      "metadata": {
        "nteract": {
          "transient": {
            "deleting": false
          }
        }
      }
    },
    {
      "cell_type": "code",
      "source": [
        "logreg_ml_processor = MachineLearningProcessor(\n",
        "    data=modeling_dataframe,\n",
        "    algorithm=LogisticRegression,\n",
        "    model_name=\"Logistic Regression Classifier with MachineLearningProcessor\",\n",
        "    target=TARGET_COLUMN,\n",
        ")\n",
        "logreg_ml_processor.train()"
      ],
      "outputs": [
        {
          "output_type": "stream",
          "name": "stderr",
          "text": "2024/09/26 01:20:42 INFO mlflow.tracking.fluent: Autologging successfully enabled for lightgbm.\n2024/09/26 01:20:42 INFO mlflow.tracking.fluent: Autologging successfully enabled for xgboost.\n2024/09/26 01:20:42 WARNING mlflow.utils.autologging_utils: MLflow sklearn autologging is known to be compatible with 0.24.1 <= scikit-learn <= 1.5.1, but the installed version is 1.5.2. If you encounter errors during autologging, try upgrading / downgrading scikit-learn to a compatible version, or try upgrading MLflow.\n2024/09/26 01:20:42 INFO mlflow.tracking.fluent: Autologging successfully enabled for sklearn.\n2024/09/26 01:21:03 WARNING mlflow.sklearn: Failed to log evaluation dataset information to MLflow Tracking. Reason: BAD_REQUEST: Response: {'Error': {'Code': 'UserError', 'Severity': None, 'Message': 'Cannot log the same dataset with different context', 'MessageFormat': None, 'MessageParameters': None, 'ReferenceCode': None, 'DetailsUri': None, 'Target': None, 'Details': [], 'InnerError': None, 'DebugInfo': None, 'AdditionalInfo': None}, 'Correlation': {'operation': '92b507140be03831ea77c196e73f40a7', 'request': '167c1007ab2a8ef3'}, 'Environment': 'eastus', 'Location': 'eastus', 'Time': '2024-09-26T01:21:03.584861+00:00', 'ComponentName': 'mlflow', 'statusCode': 400, 'error_code': 'BAD_REQUEST'}\n\u001b[32m2024-09-26 01:21:03.632\u001b[0m | \u001b[1mINFO    \u001b[0m | \u001b[36m__main__\u001b[0m:\u001b[36mtrain\u001b[0m:\u001b[36m52\u001b[0m - \u001b[1m Logistic REgression Classifier with MachineLearningProcessor Accuracy: 0.815813719742022\u001b[0m\n\u001b[32m2024-09-26 01:21:03.633\u001b[0m | \u001b[1mINFO    \u001b[0m | \u001b[36m__main__\u001b[0m:\u001b[36mtrain\u001b[0m:\u001b[36m53\u001b[0m - \u001b[1m Logistic REgression Classifier with MachineLearningProcessor Recall: 0.6295960054471176\u001b[0m\n\u001b[32m2024-09-26 01:21:03.634\u001b[0m | \u001b[1mINFO    \u001b[0m | \u001b[36m__main__\u001b[0m:\u001b[36mtrain\u001b[0m:\u001b[36m54\u001b[0m - \u001b[1m Logistic REgression Classifier with MachineLearningProcessor Precision: 0.8302903322358576\u001b[0m\n\u001b[32m2024-09-26 01:21:03.635\u001b[0m | \u001b[1mINFO    \u001b[0m | \u001b[36m__main__\u001b[0m:\u001b[36mtrain\u001b[0m:\u001b[36m55\u001b[0m - \u001b[1m Logistic REgression Classifier with MachineLearningProcessor F1-Score: 0.7161481863947334\u001b[0m\n2024/09/26 01:21:03 INFO mlflow.tracking._tracking_service.client: 🏃 View run Logistic REgression Classifier with MachineLearningProcessor at: https://eastus.api.azureml.ms/mlflow/v2.0/subscriptions/0f61d6bf-ab3d-4df7-a666-edaf42eff57c/resourceGroups/aml-course-dp100-2024/providers/Microsoft.MachineLearningServices/workspaces/dsrp-aml-dp100/#/experiments/198d9690-6de9-4f7f-bde2-99cc70cb1836/runs/75578efa-80da-4055-8341-7b069eccda53.\n2024/09/26 01:21:03 INFO mlflow.tracking._tracking_service.client: 🧪 View experiment at: https://eastus.api.azureml.ms/mlflow/v2.0/subscriptions/0f61d6bf-ab3d-4df7-a666-edaf42eff57c/resourceGroups/aml-course-dp100-2024/providers/Microsoft.MachineLearningServices/workspaces/dsrp-aml-dp100/#/experiments/198d9690-6de9-4f7f-bde2-99cc70cb1836.\n"
        },
        {
          "output_type": "stream",
          "name": "stdout",
          "text": "[[13932  1134]\n [ 3264  5548]]\n              precision    recall  f1-score   support\n\n         0.0       0.81      0.92      0.86     15066\n         1.0       0.83      0.63      0.72      8812\n\n    accuracy                           0.82     23878\n   macro avg       0.82      0.78      0.79     23878\nweighted avg       0.82      0.82      0.81     23878\n\n"
        }
      ],
      "execution_count": 17,
      "metadata": {
        "jupyter": {
          "source_hidden": false,
          "outputs_hidden": false
        },
        "nteract": {
          "transient": {
            "deleting": false
          }
        },
        "gather": {
          "logged": 1727313665688
        }
      }
    },
    {
      "cell_type": "markdown",
      "source": [
        "## Vecino más cercano - KNN"
      ],
      "metadata": {
        "nteract": {
          "transient": {
            "deleting": false
          }
        }
      }
    },
    {
      "cell_type": "code",
      "source": [
        "knn_ml_processor = MachineLearningProcessor(\n",
        "    data=modeling_dataframe,\n",
        "    algorithm=KNeighborsClassifier,\n",
        "    model_name=\"KNN Classifier with MachineLearningProcessor\",\n",
        "    target=TARGET_COLUMN,\n",
        "    params={\n",
        "        \"n_neighbors\": 5\n",
        "    }\n",
        ")\n",
        "knn_ml_processor.train()"
      ],
      "outputs": [],
      "execution_count": null,
      "metadata": {
        "jupyter": {
          "source_hidden": false,
          "outputs_hidden": false
        },
        "nteract": {
          "transient": {
            "deleting": false
          }
        }
      }
    },
    {
      "cell_type": "markdown",
      "source": [
        "# Random Forest"
      ],
      "metadata": {
        "nteract": {
          "transient": {
            "deleting": false
          }
        }
      }
    },
    {
      "cell_type": "code",
      "source": [
        "rf_ml_processor = MachineLearningProcessor(\n",
        "    data=modeling_dataframe,\n",
        "    algorithm=RandomForestClassifier,\n",
        "    model_name=\"RF Classifier with MachineLearningProcessor\",\n",
        "    target=TARGET_COLUMN,\n",
        "    params={\n",
        "        \"n_estimators\": 300,\n",
        "        \"max_depth\": 3\n",
        "    }\n",
        ")\n",
        "rf_ml_processor.train()"
      ],
      "outputs": [],
      "execution_count": null,
      "metadata": {
        "jupyter": {
          "source_hidden": false,
          "outputs_hidden": false
        },
        "nteract": {
          "transient": {
            "deleting": false
          }
        }
      }
    },
    {
      "cell_type": "markdown",
      "source": [
        "# Gradient Boosting Machine"
      ],
      "metadata": {
        "nteract": {
          "transient": {
            "deleting": false
          }
        }
      }
    },
    {
      "cell_type": "code",
      "source": [
        "gbm_ml_processor = MachineLearningProcessor(\n",
        "    data=modeling_dataframe,\n",
        "    algorithm=GradientBoostingClassifier,\n",
        "    model_name=\"GBM Classifier with MachineLearningProcessor\",\n",
        "    target=TARGET_COLUMN,\n",
        ")\n",
        "gbm_ml_processor.train()"
      ],
      "outputs": [
        {
          "output_type": "stream",
          "name": "stderr",
          "text": "2024/09/26 01:23:25 INFO mlflow.tracking.fluent: Autologging successfully enabled for lightgbm.\n2024/09/26 01:23:25 INFO mlflow.tracking.fluent: Autologging successfully enabled for xgboost.\n2024/09/26 01:23:25 WARNING mlflow.utils.autologging_utils: MLflow sklearn autologging is known to be compatible with 0.24.1 <= scikit-learn <= 1.5.1, but the installed version is 1.5.2. If you encounter errors during autologging, try upgrading / downgrading scikit-learn to a compatible version, or try upgrading MLflow.\n2024/09/26 01:23:25 INFO mlflow.tracking.fluent: Autologging successfully enabled for sklearn.\n2024/09/26 01:24:12 WARNING mlflow.sklearn: Failed to log evaluation dataset information to MLflow Tracking. Reason: BAD_REQUEST: Response: {'Error': {'Code': 'UserError', 'Severity': None, 'Message': 'Cannot log the same dataset with different context', 'MessageFormat': None, 'MessageParameters': None, 'ReferenceCode': None, 'DetailsUri': None, 'Target': None, 'Details': [], 'InnerError': None, 'DebugInfo': None, 'AdditionalInfo': None}, 'Correlation': {'operation': 'ff227fd05701476512994c5c939e9151', 'request': '19ddae43fee5a50f'}, 'Environment': 'eastus', 'Location': 'eastus', 'Time': '2024-09-26T01:24:12.8791674+00:00', 'ComponentName': 'mlflow', 'statusCode': 400, 'error_code': 'BAD_REQUEST'}\n\u001b[32m2024-09-26 01:24:12.900\u001b[0m | \u001b[1mINFO    \u001b[0m | \u001b[36m__main__\u001b[0m:\u001b[36mtrain\u001b[0m:\u001b[36m52\u001b[0m - \u001b[1m GBM Classifier with MachineLearningProcessor Accuracy: 0.8215093391406315\u001b[0m\n\u001b[32m2024-09-26 01:24:12.901\u001b[0m | \u001b[1mINFO    \u001b[0m | \u001b[36m__main__\u001b[0m:\u001b[36mtrain\u001b[0m:\u001b[36m53\u001b[0m - \u001b[1m GBM Classifier with MachineLearningProcessor Recall: 0.6235814798002723\u001b[0m\n\u001b[32m2024-09-26 01:24:12.902\u001b[0m | \u001b[1mINFO    \u001b[0m | \u001b[36m__main__\u001b[0m:\u001b[36mtrain\u001b[0m:\u001b[36m54\u001b[0m - \u001b[1m GBM Classifier with MachineLearningProcessor Precision: 0.8532608695652174\u001b[0m\n\u001b[32m2024-09-26 01:24:12.903\u001b[0m | \u001b[1mINFO    \u001b[0m | \u001b[36m__main__\u001b[0m:\u001b[36mtrain\u001b[0m:\u001b[36m55\u001b[0m - \u001b[1m GBM Classifier with MachineLearningProcessor F1-Score: 0.7205612378704432\u001b[0m\n2024/09/26 01:24:13 INFO mlflow.tracking._tracking_service.client: 🏃 View run GBM Classifier with MachineLearningProcessor at: https://eastus.api.azureml.ms/mlflow/v2.0/subscriptions/0f61d6bf-ab3d-4df7-a666-edaf42eff57c/resourceGroups/aml-course-dp100-2024/providers/Microsoft.MachineLearningServices/workspaces/dsrp-aml-dp100/#/experiments/198d9690-6de9-4f7f-bde2-99cc70cb1836/runs/3be8f2ad-faf5-4193-9d10-3620904d3310.\n2024/09/26 01:24:13 INFO mlflow.tracking._tracking_service.client: 🧪 View experiment at: https://eastus.api.azureml.ms/mlflow/v2.0/subscriptions/0f61d6bf-ab3d-4df7-a666-edaf42eff57c/resourceGroups/aml-course-dp100-2024/providers/Microsoft.MachineLearningServices/workspaces/dsrp-aml-dp100/#/experiments/198d9690-6de9-4f7f-bde2-99cc70cb1836.\n"
        },
        {
          "output_type": "stream",
          "name": "stdout",
          "text": "[[14121   945]\n [ 3317  5495]]\n              precision    recall  f1-score   support\n\n         0.0       0.81      0.94      0.87     15066\n         1.0       0.85      0.62      0.72      8812\n\n    accuracy                           0.82     23878\n   macro avg       0.83      0.78      0.79     23878\nweighted avg       0.83      0.82      0.81     23878\n\n"
        }
      ],
      "execution_count": 18,
      "metadata": {
        "jupyter": {
          "source_hidden": false,
          "outputs_hidden": false
        },
        "nteract": {
          "transient": {
            "deleting": false
          }
        },
        "gather": {
          "logged": 1727313854861
        }
      }
    },
    {
      "cell_type": "markdown",
      "source": [
        "# XGboost\n",
        "\n",
        "Guia hiperpametros XGBoost: https://www.kaggle.com/code/prashant111/a-guide-on-xgboost-hyperparameters-tuning"
      ],
      "metadata": {
        "nteract": {
          "transient": {
            "deleting": false
          }
        }
      }
    },
    {
      "cell_type": "code",
      "source": [
        "xgboost_ml_processor = MachineLearningProcessor(\n",
        "    data=modeling_dataframe,\n",
        "    algorithm=XGBClassifier,\n",
        "    model_name=\"XGBoost Classifier with MachineLearningProcessor\",\n",
        "    target=TARGET_COLUMN,\n",
        ")\n",
        "xgboost_ml_processor.optimize_tpe(\n",
        "    search_space={\n",
        "        \"max_depth\": hp.randint(\"max_depth\", 1, 10),\n",
        "    }\n",
        ")"
      ],
      "outputs": [
        {
          "output_type": "stream",
          "name": "stdout",
          "text": "100%|██████████| 10/10 [04:35<00:00, 27.52s/trial, best loss: -0.8558924533042969]\n"
        },
        {
          "output_type": "stream",
          "name": "stderr",
          "text": "2024/09/26 02:36:53 INFO mlflow.utils.autologging_utils: Created MLflow autologging run with ID '073cf58b-cc80-4874-8109-80b1bbc2d5cb', which will track hyperparameters, performance metrics, model artifacts, and lineage information for the current sklearn workflow\n\n2024/09/26 02:37:19 INFO mlflow.tracking._tracking_service.client: 🏃 View run mighty_kiwi_h9mrqk5g at: https://eastus.api.azureml.ms/mlflow/v2.0/subscriptions/0f61d6bf-ab3d-4df7-a666-edaf42eff57c/resourceGroups/aml-course-dp100-2024/providers/Microsoft.MachineLearningServices/workspaces/dsrp-aml-dp100/#/experiments/198d9690-6de9-4f7f-bde2-99cc70cb1836/runs/073cf58b-cc80-4874-8109-80b1bbc2d5cb.\n\n2024/09/26 02:37:19 INFO mlflow.tracking._tracking_service.client: 🧪 View experiment at: https://eastus.api.azureml.ms/mlflow/v2.0/subscriptions/0f61d6bf-ab3d-4df7-a666-edaf42eff57c/resourceGroups/aml-course-dp100-2024/providers/Microsoft.MachineLearningServices/workspaces/dsrp-aml-dp100/#/experiments/198d9690-6de9-4f7f-bde2-99cc70cb1836.\n\n2024/09/26 02:37:19 WARNING mlflow.utils.autologging_utils: Encountered unexpected error during sklearn autologging: The following failures occurred while performing one or more logging operations: [MlflowException('Failed to perform one or more operations on the run with ID 073cf58b-cc80-4874-8109-80b1bbc2d5cb. Failed operations: [RestException(\"INVALID_PARAMETER_VALUE: Response: {\\'Error\\': {\\'Code\\': \\'ValidationError\\', \\'Severity\\': None, \\'Message\\': \\'No more than 500 characters per params Value. Request contains 2 of greater length.\\', \\'MessageFormat\\': None, \\'MessageParameters\\': None, \\'ReferenceCode\\': None, \\'DetailsUri\\': None, \\'Target\\': None, \\'Details\\': [], \\'InnerError\\': None, \\'DebugInfo\\': None, \\'AdditionalInfo\\': None}, \\'Correlation\\': {\\'operation\\': \\'51d8712e87a87a50a5e5d88a40256dc5\\', \\'request\\': \\'6369c586ac408fe8\\'}, \\'Environment\\': \\'eastus\\', \\'Location\\': \\'eastus\\', \\'Time\\': \\'2024-09-26T02:37:03.0056205+00:00\\', \\'ComponentName\\': \\'mlflow\\', \\'statusCode\\': 400, \\'error_code\\': \\'INVALID_PARAMETER_VALUE\\'}\")]')]\n\n2024/09/26 02:37:19 INFO mlflow.utils.autologging_utils: Created MLflow autologging run with ID 'fb738bbe-5ddc-4306-b3e1-861662db1eba', which will track hyperparameters, performance metrics, model artifacts, and lineage information for the current sklearn workflow\n\n2024/09/26 02:37:45 INFO mlflow.tracking._tracking_service.client: 🏃 View run witty_cord_6phqk0sf at: https://eastus.api.azureml.ms/mlflow/v2.0/subscriptions/0f61d6bf-ab3d-4df7-a666-edaf42eff57c/resourceGroups/aml-course-dp100-2024/providers/Microsoft.MachineLearningServices/workspaces/dsrp-aml-dp100/#/experiments/198d9690-6de9-4f7f-bde2-99cc70cb1836/runs/fb738bbe-5ddc-4306-b3e1-861662db1eba.\n\n2024/09/26 02:37:45 INFO mlflow.tracking._tracking_service.client: 🧪 View experiment at: https://eastus.api.azureml.ms/mlflow/v2.0/subscriptions/0f61d6bf-ab3d-4df7-a666-edaf42eff57c/resourceGroups/aml-course-dp100-2024/providers/Microsoft.MachineLearningServices/workspaces/dsrp-aml-dp100/#/experiments/198d9690-6de9-4f7f-bde2-99cc70cb1836.\n\n2024/09/26 02:37:45 WARNING mlflow.utils.autologging_utils: Encountered unexpected error during sklearn autologging: The following failures occurred while performing one or more logging operations: [MlflowException('Failed to perform one or more operations on the run with ID fb738bbe-5ddc-4306-b3e1-861662db1eba. Failed operations: [RestException(\"INVALID_PARAMETER_VALUE: Response: {\\'Error\\': {\\'Code\\': \\'ValidationError\\', \\'Severity\\': None, \\'Message\\': \\'No more than 500 characters per params Value. Request contains 2 of greater length.\\', \\'MessageFormat\\': None, \\'MessageParameters\\': None, \\'ReferenceCode\\': None, \\'DetailsUri\\': None, \\'Target\\': None, \\'Details\\': [], \\'InnerError\\': None, \\'DebugInfo\\': None, \\'AdditionalInfo\\': None}, \\'Correlation\\': {\\'operation\\': \\'d29de31f3a9e84eb16874f6239425b8e\\', \\'request\\': \\'0a9ca487e7168825\\'}, \\'Environment\\': \\'eastus\\', \\'Location\\': \\'eastus\\', \\'Time\\': \\'2024-09-26T02:37:28.5753405+00:00\\', \\'ComponentName\\': \\'mlflow\\', \\'statusCode\\': 400, \\'error_code\\': \\'INVALID_PARAMETER_VALUE\\'}\")]')]\n\n2024/09/26 02:37:45 INFO mlflow.utils.autologging_utils: Created MLflow autologging run with ID 'c7379033-aef4-4e5a-aabe-f2ccd98a1a5d', which will track hyperparameters, performance metrics, model artifacts, and lineage information for the current sklearn workflow\n\n2024/09/26 02:38:13 INFO mlflow.tracking._tracking_service.client: 🏃 View run khaki_parsnip_ywnzxtkx at: https://eastus.api.azureml.ms/mlflow/v2.0/subscriptions/0f61d6bf-ab3d-4df7-a666-edaf42eff57c/resourceGroups/aml-course-dp100-2024/providers/Microsoft.MachineLearningServices/workspaces/dsrp-aml-dp100/#/experiments/198d9690-6de9-4f7f-bde2-99cc70cb1836/runs/c7379033-aef4-4e5a-aabe-f2ccd98a1a5d.\n\n2024/09/26 02:38:13 INFO mlflow.tracking._tracking_service.client: 🧪 View experiment at: https://eastus.api.azureml.ms/mlflow/v2.0/subscriptions/0f61d6bf-ab3d-4df7-a666-edaf42eff57c/resourceGroups/aml-course-dp100-2024/providers/Microsoft.MachineLearningServices/workspaces/dsrp-aml-dp100/#/experiments/198d9690-6de9-4f7f-bde2-99cc70cb1836.\n\n2024/09/26 02:38:13 WARNING mlflow.utils.autologging_utils: Encountered unexpected error during sklearn autologging: The following failures occurred while performing one or more logging operations: [MlflowException('Failed to perform one or more operations on the run with ID c7379033-aef4-4e5a-aabe-f2ccd98a1a5d. Failed operations: [RestException(\"INVALID_PARAMETER_VALUE: Response: {\\'Error\\': {\\'Code\\': \\'ValidationError\\', \\'Severity\\': None, \\'Message\\': \\'No more than 500 characters per params Value. Request contains 2 of greater length.\\', \\'MessageFormat\\': None, \\'MessageParameters\\': None, \\'ReferenceCode\\': None, \\'DetailsUri\\': None, \\'Target\\': None, \\'Details\\': [], \\'InnerError\\': None, \\'DebugInfo\\': None, \\'AdditionalInfo\\': None}, \\'Correlation\\': {\\'operation\\': \\'d3aa0f451e7ff39da4887ecb320dac6a\\', \\'request\\': \\'02066931e64586da\\'}, \\'Environment\\': \\'eastus\\', \\'Location\\': \\'eastus\\', \\'Time\\': \\'2024-09-26T02:37:54.5654711+00:00\\', \\'ComponentName\\': \\'mlflow\\', \\'statusCode\\': 400, \\'error_code\\': \\'INVALID_PARAMETER_VALUE\\'}\")]')]\n\n2024/09/26 02:38:14 INFO mlflow.utils.autologging_utils: Created MLflow autologging run with ID '32abff28-4a4f-4b8d-9dc4-f203f5f4e737', which will track hyperparameters, performance metrics, model artifacts, and lineage information for the current sklearn workflow\n\n2024/09/26 02:38:41 INFO mlflow.tracking._tracking_service.client: 🏃 View run red_feijoa_8n3d6f6n at: https://eastus.api.azureml.ms/mlflow/v2.0/subscriptions/0f61d6bf-ab3d-4df7-a666-edaf42eff57c/resourceGroups/aml-course-dp100-2024/providers/Microsoft.MachineLearningServices/workspaces/dsrp-aml-dp100/#/experiments/198d9690-6de9-4f7f-bde2-99cc70cb1836/runs/32abff28-4a4f-4b8d-9dc4-f203f5f4e737.\n\n2024/09/26 02:38:41 INFO mlflow.tracking._tracking_service.client: 🧪 View experiment at: https://eastus.api.azureml.ms/mlflow/v2.0/subscriptions/0f61d6bf-ab3d-4df7-a666-edaf42eff57c/resourceGroups/aml-course-dp100-2024/providers/Microsoft.MachineLearningServices/workspaces/dsrp-aml-dp100/#/experiments/198d9690-6de9-4f7f-bde2-99cc70cb1836.\n\n2024/09/26 02:38:41 WARNING mlflow.utils.autologging_utils: Encountered unexpected error during sklearn autologging: The following failures occurred while performing one or more logging operations: [MlflowException('Failed to perform one or more operations on the run with ID 32abff28-4a4f-4b8d-9dc4-f203f5f4e737. Failed operations: [RestException(\"INVALID_PARAMETER_VALUE: Response: {\\'Error\\': {\\'Code\\': \\'ValidationError\\', \\'Severity\\': None, \\'Message\\': \\'No more than 500 characters per params Value. Request contains 2 of greater length.\\', \\'MessageFormat\\': None, \\'MessageParameters\\': None, \\'ReferenceCode\\': None, \\'DetailsUri\\': None, \\'Target\\': None, \\'Details\\': [], \\'InnerError\\': None, \\'DebugInfo\\': None, \\'AdditionalInfo\\': None}, \\'Correlation\\': {\\'operation\\': \\'9df162866e0801ba93b265fe1649f0ec\\', \\'request\\': \\'7f1290b4792a0596\\'}, \\'Environment\\': \\'eastus\\', \\'Location\\': \\'eastus\\', \\'Time\\': \\'2024-09-26T02:38:22.8743832+00:00\\', \\'ComponentName\\': \\'mlflow\\', \\'statusCode\\': 400, \\'error_code\\': \\'INVALID_PARAMETER_VALUE\\'}\")]')]\n\n2024/09/26 02:38:41 INFO mlflow.utils.autologging_utils: Created MLflow autologging run with ID '06fe49da-3bec-4f80-a127-db27cc7a5de9', which will track hyperparameters, performance metrics, model artifacts, and lineage information for the current sklearn workflow\n\n2024/09/26 02:39:08 INFO mlflow.tracking._tracking_service.client: 🏃 View run funny_whale_lx62f705 at: https://eastus.api.azureml.ms/mlflow/v2.0/subscriptions/0f61d6bf-ab3d-4df7-a666-edaf42eff57c/resourceGroups/aml-course-dp100-2024/providers/Microsoft.MachineLearningServices/workspaces/dsrp-aml-dp100/#/experiments/198d9690-6de9-4f7f-bde2-99cc70cb1836/runs/06fe49da-3bec-4f80-a127-db27cc7a5de9.\n\n2024/09/26 02:39:08 INFO mlflow.tracking._tracking_service.client: 🧪 View experiment at: https://eastus.api.azureml.ms/mlflow/v2.0/subscriptions/0f61d6bf-ab3d-4df7-a666-edaf42eff57c/resourceGroups/aml-course-dp100-2024/providers/Microsoft.MachineLearningServices/workspaces/dsrp-aml-dp100/#/experiments/198d9690-6de9-4f7f-bde2-99cc70cb1836.\n\n2024/09/26 02:39:09 WARNING mlflow.utils.autologging_utils: Encountered unexpected error during sklearn autologging: The following failures occurred while performing one or more logging operations: [MlflowException('Failed to perform one or more operations on the run with ID 06fe49da-3bec-4f80-a127-db27cc7a5de9. Failed operations: [RestException(\"INVALID_PARAMETER_VALUE: Response: {\\'Error\\': {\\'Code\\': \\'ValidationError\\', \\'Severity\\': None, \\'Message\\': \\'No more than 500 characters per params Value. Request contains 2 of greater length.\\', \\'MessageFormat\\': None, \\'MessageParameters\\': None, \\'ReferenceCode\\': None, \\'DetailsUri\\': None, \\'Target\\': None, \\'Details\\': [], \\'InnerError\\': None, \\'DebugInfo\\': None, \\'AdditionalInfo\\': None}, \\'Correlation\\': {\\'operation\\': \\'58f9e864c2bece00a6f15b3fb2419a6d\\', \\'request\\': \\'c0977f09236630db\\'}, \\'Environment\\': \\'eastus\\', \\'Location\\': \\'eastus\\', \\'Time\\': \\'2024-09-26T02:38:51.7458227+00:00\\', \\'ComponentName\\': \\'mlflow\\', \\'statusCode\\': 400, \\'error_code\\': \\'INVALID_PARAMETER_VALUE\\'}\")]')]\n\n2024/09/26 02:39:09 INFO mlflow.utils.autologging_utils: Created MLflow autologging run with ID '52673612-d662-4971-946a-916890fb814f', which will track hyperparameters, performance metrics, model artifacts, and lineage information for the current sklearn workflow\n\n2024/09/26 02:39:35 INFO mlflow.tracking._tracking_service.client: 🏃 View run maroon_nose_k8g8mhfx at: https://eastus.api.azureml.ms/mlflow/v2.0/subscriptions/0f61d6bf-ab3d-4df7-a666-edaf42eff57c/resourceGroups/aml-course-dp100-2024/providers/Microsoft.MachineLearningServices/workspaces/dsrp-aml-dp100/#/experiments/198d9690-6de9-4f7f-bde2-99cc70cb1836/runs/52673612-d662-4971-946a-916890fb814f.\n\n2024/09/26 02:39:35 INFO mlflow.tracking._tracking_service.client: 🧪 View experiment at: https://eastus.api.azureml.ms/mlflow/v2.0/subscriptions/0f61d6bf-ab3d-4df7-a666-edaf42eff57c/resourceGroups/aml-course-dp100-2024/providers/Microsoft.MachineLearningServices/workspaces/dsrp-aml-dp100/#/experiments/198d9690-6de9-4f7f-bde2-99cc70cb1836.\n\n2024/09/26 02:39:35 WARNING mlflow.utils.autologging_utils: Encountered unexpected error during sklearn autologging: The following failures occurred while performing one or more logging operations: [MlflowException('Failed to perform one or more operations on the run with ID 52673612-d662-4971-946a-916890fb814f. Failed operations: [RestException(\"INVALID_PARAMETER_VALUE: Response: {\\'Error\\': {\\'Code\\': \\'ValidationError\\', \\'Severity\\': None, \\'Message\\': \\'No more than 500 characters per params Value. Request contains 2 of greater length.\\', \\'MessageFormat\\': None, \\'MessageParameters\\': None, \\'ReferenceCode\\': None, \\'DetailsUri\\': None, \\'Target\\': None, \\'Details\\': [], \\'InnerError\\': None, \\'DebugInfo\\': None, \\'AdditionalInfo\\': None}, \\'Correlation\\': {\\'operation\\': \\'757302063f71f57b9d562caaf3d969d8\\', \\'request\\': \\'ae5ac47a72863661\\'}, \\'Environment\\': \\'eastus\\', \\'Location\\': \\'eastus\\', \\'Time\\': \\'2024-09-26T02:39:18.2612358+00:00\\', \\'ComponentName\\': \\'mlflow\\', \\'statusCode\\': 400, \\'error_code\\': \\'INVALID_PARAMETER_VALUE\\'}\")]')]\n\n2024/09/26 02:39:36 INFO mlflow.utils.autologging_utils: Created MLflow autologging run with ID '8ae3ddff-216c-481f-b57b-7d54a20e4822', which will track hyperparameters, performance metrics, model artifacts, and lineage information for the current sklearn workflow\n\n2024/09/26 02:40:02 INFO mlflow.tracking._tracking_service.client: 🏃 View run sincere_morning_3vtcjv62 at: https://eastus.api.azureml.ms/mlflow/v2.0/subscriptions/0f61d6bf-ab3d-4df7-a666-edaf42eff57c/resourceGroups/aml-course-dp100-2024/providers/Microsoft.MachineLearningServices/workspaces/dsrp-aml-dp100/#/experiments/198d9690-6de9-4f7f-bde2-99cc70cb1836/runs/8ae3ddff-216c-481f-b57b-7d54a20e4822.\n\n2024/09/26 02:40:02 INFO mlflow.tracking._tracking_service.client: 🧪 View experiment at: https://eastus.api.azureml.ms/mlflow/v2.0/subscriptions/0f61d6bf-ab3d-4df7-a666-edaf42eff57c/resourceGroups/aml-course-dp100-2024/providers/Microsoft.MachineLearningServices/workspaces/dsrp-aml-dp100/#/experiments/198d9690-6de9-4f7f-bde2-99cc70cb1836.\n\n2024/09/26 02:40:02 WARNING mlflow.utils.autologging_utils: Encountered unexpected error during sklearn autologging: The following failures occurred while performing one or more logging operations: [MlflowException('Failed to perform one or more operations on the run with ID 8ae3ddff-216c-481f-b57b-7d54a20e4822. Failed operations: [RestException(\"INVALID_PARAMETER_VALUE: Response: {\\'Error\\': {\\'Code\\': \\'ValidationError\\', \\'Severity\\': None, \\'Message\\': \\'No more than 500 characters per params Value. Request contains 2 of greater length.\\', \\'MessageFormat\\': None, \\'MessageParameters\\': None, \\'ReferenceCode\\': None, \\'DetailsUri\\': None, \\'Target\\': None, \\'Details\\': [], \\'InnerError\\': None, \\'DebugInfo\\': None, \\'AdditionalInfo\\': None}, \\'Correlation\\': {\\'operation\\': \\'84bfeb1ab374499a456e37f3c9be00ee\\', \\'request\\': \\'868845cbe3ea771b\\'}, \\'Environment\\': \\'eastus\\', \\'Location\\': \\'eastus\\', \\'Time\\': \\'2024-09-26T02:39:44.8740616+00:00\\', \\'ComponentName\\': \\'mlflow\\', \\'statusCode\\': 400, \\'error_code\\': \\'INVALID_PARAMETER_VALUE\\'}\")]')]\n\n2024/09/26 02:40:03 INFO mlflow.utils.autologging_utils: Created MLflow autologging run with ID '3c45ab7c-9ded-4b15-96e2-3ea7199a02c4', which will track hyperparameters, performance metrics, model artifacts, and lineage information for the current sklearn workflow\n\n2024/09/26 02:40:30 INFO mlflow.tracking._tracking_service.client: 🏃 View run nice_potato_n9tnhvns at: https://eastus.api.azureml.ms/mlflow/v2.0/subscriptions/0f61d6bf-ab3d-4df7-a666-edaf42eff57c/resourceGroups/aml-course-dp100-2024/providers/Microsoft.MachineLearningServices/workspaces/dsrp-aml-dp100/#/experiments/198d9690-6de9-4f7f-bde2-99cc70cb1836/runs/3c45ab7c-9ded-4b15-96e2-3ea7199a02c4.\n\n2024/09/26 02:40:30 INFO mlflow.tracking._tracking_service.client: 🧪 View experiment at: https://eastus.api.azureml.ms/mlflow/v2.0/subscriptions/0f61d6bf-ab3d-4df7-a666-edaf42eff57c/resourceGroups/aml-course-dp100-2024/providers/Microsoft.MachineLearningServices/workspaces/dsrp-aml-dp100/#/experiments/198d9690-6de9-4f7f-bde2-99cc70cb1836.\n\n2024/09/26 02:40:30 WARNING mlflow.utils.autologging_utils: Encountered unexpected error during sklearn autologging: The following failures occurred while performing one or more logging operations: [MlflowException('Failed to perform one or more operations on the run with ID 3c45ab7c-9ded-4b15-96e2-3ea7199a02c4. Failed operations: [RestException(\"INVALID_PARAMETER_VALUE: Response: {\\'Error\\': {\\'Code\\': \\'ValidationError\\', \\'Severity\\': None, \\'Message\\': \\'No more than 500 characters per params Value. Request contains 2 of greater length.\\', \\'MessageFormat\\': None, \\'MessageParameters\\': None, \\'ReferenceCode\\': None, \\'DetailsUri\\': None, \\'Target\\': None, \\'Details\\': [], \\'InnerError\\': None, \\'DebugInfo\\': None, \\'AdditionalInfo\\': None}, \\'Correlation\\': {\\'operation\\': \\'762c5720ee5fb8a2f2f783c0b35d7586\\', \\'request\\': \\'ff27c64ff1c152fd\\'}, \\'Environment\\': \\'eastus\\', \\'Location\\': \\'eastus\\', \\'Time\\': \\'2024-09-26T02:40:11.9093759+00:00\\', \\'ComponentName\\': \\'mlflow\\', \\'statusCode\\': 400, \\'error_code\\': \\'INVALID_PARAMETER_VALUE\\'}\")]')]\n\n2024/09/26 02:40:31 INFO mlflow.utils.autologging_utils: Created MLflow autologging run with ID 'd857dc07-04ba-451f-895a-77b3de253d9a', which will track hyperparameters, performance metrics, model artifacts, and lineage information for the current sklearn workflow\n\n2024/09/26 02:40:59 INFO mlflow.tracking._tracking_service.client: 🏃 View run placid_tail_y5c3hcr9 at: https://eastus.api.azureml.ms/mlflow/v2.0/subscriptions/0f61d6bf-ab3d-4df7-a666-edaf42eff57c/resourceGroups/aml-course-dp100-2024/providers/Microsoft.MachineLearningServices/workspaces/dsrp-aml-dp100/#/experiments/198d9690-6de9-4f7f-bde2-99cc70cb1836/runs/d857dc07-04ba-451f-895a-77b3de253d9a.\n\n2024/09/26 02:40:59 INFO mlflow.tracking._tracking_service.client: 🧪 View experiment at: https://eastus.api.azureml.ms/mlflow/v2.0/subscriptions/0f61d6bf-ab3d-4df7-a666-edaf42eff57c/resourceGroups/aml-course-dp100-2024/providers/Microsoft.MachineLearningServices/workspaces/dsrp-aml-dp100/#/experiments/198d9690-6de9-4f7f-bde2-99cc70cb1836.\n\n2024/09/26 02:41:00 WARNING mlflow.utils.autologging_utils: Encountered unexpected error during sklearn autologging: The following failures occurred while performing one or more logging operations: [MlflowException('Failed to perform one or more operations on the run with ID d857dc07-04ba-451f-895a-77b3de253d9a. Failed operations: [RestException(\"INVALID_PARAMETER_VALUE: Response: {\\'Error\\': {\\'Code\\': \\'ValidationError\\', \\'Severity\\': None, \\'Message\\': \\'No more than 500 characters per params Value. Request contains 2 of greater length.\\', \\'MessageFormat\\': None, \\'MessageParameters\\': None, \\'ReferenceCode\\': None, \\'DetailsUri\\': None, \\'Target\\': None, \\'Details\\': [], \\'InnerError\\': None, \\'DebugInfo\\': None, \\'AdditionalInfo\\': None}, \\'Correlation\\': {\\'operation\\': \\'766156224dc10ebe04518491a96e645b\\', \\'request\\': \\'9da534022e58500c\\'}, \\'Environment\\': \\'eastus\\', \\'Location\\': \\'eastus\\', \\'Time\\': \\'2024-09-26T02:40:40.088013+00:00\\', \\'ComponentName\\': \\'mlflow\\', \\'statusCode\\': 400, \\'error_code\\': \\'INVALID_PARAMETER_VALUE\\'}\")]')]\n\n2024/09/26 02:41:00 INFO mlflow.utils.autologging_utils: Created MLflow autologging run with ID 'a565143e-a4c7-4671-9acf-a782506df917', which will track hyperparameters, performance metrics, model artifacts, and lineage information for the current sklearn workflow\n\n2024/09/26 02:41:28 INFO mlflow.tracking._tracking_service.client: 🏃 View run sweet_yak_mpp5g8ky at: https://eastus.api.azureml.ms/mlflow/v2.0/subscriptions/0f61d6bf-ab3d-4df7-a666-edaf42eff57c/resourceGroups/aml-course-dp100-2024/providers/Microsoft.MachineLearningServices/workspaces/dsrp-aml-dp100/#/experiments/198d9690-6de9-4f7f-bde2-99cc70cb1836/runs/a565143e-a4c7-4671-9acf-a782506df917.\n\n2024/09/26 02:41:28 INFO mlflow.tracking._tracking_service.client: 🧪 View experiment at: https://eastus.api.azureml.ms/mlflow/v2.0/subscriptions/0f61d6bf-ab3d-4df7-a666-edaf42eff57c/resourceGroups/aml-course-dp100-2024/providers/Microsoft.MachineLearningServices/workspaces/dsrp-aml-dp100/#/experiments/198d9690-6de9-4f7f-bde2-99cc70cb1836.\n\n2024/09/26 02:41:28 WARNING mlflow.utils.autologging_utils: Encountered unexpected error during sklearn autologging: The following failures occurred while performing one or more logging operations: [MlflowException('Failed to perform one or more operations on the run with ID a565143e-a4c7-4671-9acf-a782506df917. Failed operations: [RestException(\"INVALID_PARAMETER_VALUE: Response: {\\'Error\\': {\\'Code\\': \\'ValidationError\\', \\'Severity\\': None, \\'Message\\': \\'No more than 500 characters per params Value. Request contains 2 of greater length.\\', \\'MessageFormat\\': None, \\'MessageParameters\\': None, \\'ReferenceCode\\': None, \\'DetailsUri\\': None, \\'Target\\': None, \\'Details\\': [], \\'InnerError\\': None, \\'DebugInfo\\': None, \\'AdditionalInfo\\': None}, \\'Correlation\\': {\\'operation\\': \\'2b7b402ada98cb499bab831775983a55\\', \\'request\\': \\'7dd8dc9567d6e271\\'}, \\'Environment\\': \\'eastus\\', \\'Location\\': \\'eastus\\', \\'Time\\': \\'2024-09-26T02:41:09.2279921+00:00\\', \\'ComponentName\\': \\'mlflow\\', \\'statusCode\\': 400, \\'error_code\\': \\'INVALID_PARAMETER_VALUE\\'}\")]')]\n\n"
        },
        {
          "output_type": "execute_result",
          "execution_count": 63,
          "data": {
            "text/plain": "{'max_depth': 7}"
          },
          "metadata": {}
        }
      ],
      "execution_count": 63,
      "metadata": {
        "jupyter": {
          "source_hidden": false,
          "outputs_hidden": false
        },
        "nteract": {
          "transient": {
            "deleting": false
          }
        },
        "gather": {
          "logged": 1727318490187
        }
      }
    },
    {
      "cell_type": "code",
      "source": [
        "xgboost_ml_processor.train(\n",
        "    params={'max_depth': 7}\n",
        ")"
      ],
      "outputs": [
        {
          "output_type": "stream",
          "name": "stderr",
          "text": "2024/09/26 02:41:40 INFO mlflow.tracking.fluent: Autologging successfully enabled for lightgbm.\n2024/09/26 02:41:40 INFO mlflow.tracking.fluent: Autologging successfully enabled for xgboost.\n2024/09/26 02:41:40 WARNING mlflow.utils.autologging_utils: MLflow sklearn autologging is known to be compatible with 0.24.1 <= scikit-learn <= 1.5.1, but the installed version is 1.5.2. If you encounter errors during autologging, try upgrading / downgrading scikit-learn to a compatible version, or try upgrading MLflow.\n2024/09/26 02:41:41 INFO mlflow.tracking.fluent: Autologging successfully enabled for sklearn.\n2024/09/26 02:42:09 WARNING mlflow.utils.autologging_utils: Encountered unexpected error during sklearn autologging: The following failures occurred while performing one or more logging operations: [MlflowException('Failed to perform one or more operations on the run with ID a5ff9cf5-017f-48d3-b2af-33bfa34a10ec. Failed operations: [RestException(\"INVALID_PARAMETER_VALUE: Response: {\\'Error\\': {\\'Code\\': \\'ValidationError\\', \\'Severity\\': None, \\'Message\\': \\'No more than 500 characters per params Value. Request contains 2 of greater length.\\', \\'MessageFormat\\': None, \\'MessageParameters\\': None, \\'ReferenceCode\\': None, \\'DetailsUri\\': None, \\'Target\\': None, \\'Details\\': [], \\'InnerError\\': None, \\'DebugInfo\\': None, \\'AdditionalInfo\\': None}, \\'Correlation\\': {\\'operation\\': \\'d362369fcc21f07241a47f42fe33dd4d\\', \\'request\\': \\'fa7943f97f9188b1\\'}, \\'Environment\\': \\'eastus\\', \\'Location\\': \\'eastus\\', \\'Time\\': \\'2024-09-26T02:41:50.1328028+00:00\\', \\'ComponentName\\': \\'mlflow\\', \\'statusCode\\': 400, \\'error_code\\': \\'INVALID_PARAMETER_VALUE\\'}\")]')]\n\u001b[32m2024-09-26 02:42:09.767\u001b[0m | \u001b[1mINFO    \u001b[0m | \u001b[36m__main__\u001b[0m:\u001b[36mtrain\u001b[0m:\u001b[36m121\u001b[0m - \u001b[1m XGBoost Classifier with MachineLearningProcessor Accuracy: 0.8558924533042969\u001b[0m\n\u001b[32m2024-09-26 02:42:09.768\u001b[0m | \u001b[1mINFO    \u001b[0m | \u001b[36m__main__\u001b[0m:\u001b[36mtrain\u001b[0m:\u001b[36m122\u001b[0m - \u001b[1m XGBoost Classifier with MachineLearningProcessor Recall: 0.738197911938266\u001b[0m\n\u001b[32m2024-09-26 02:42:09.769\u001b[0m | \u001b[1mINFO    \u001b[0m | \u001b[36m__main__\u001b[0m:\u001b[36mtrain\u001b[0m:\u001b[36m123\u001b[0m - \u001b[1m XGBoost Classifier with MachineLearningProcessor Precision: 0.851551250163634\u001b[0m\n\u001b[32m2024-09-26 02:42:09.772\u001b[0m | \u001b[1mINFO    \u001b[0m | \u001b[36m__main__\u001b[0m:\u001b[36mtrain\u001b[0m:\u001b[36m124\u001b[0m - \u001b[1m XGBoost Classifier with MachineLearningProcessor F1-Score: 0.7908333839888153\u001b[0m\n2024/09/26 02:42:09 INFO mlflow.tracking._tracking_service.client: 🏃 View run XGBoost Classifier with MachineLearningProcessor at: https://eastus.api.azureml.ms/mlflow/v2.0/subscriptions/0f61d6bf-ab3d-4df7-a666-edaf42eff57c/resourceGroups/aml-course-dp100-2024/providers/Microsoft.MachineLearningServices/workspaces/dsrp-aml-dp100/#/experiments/198d9690-6de9-4f7f-bde2-99cc70cb1836/runs/a5ff9cf5-017f-48d3-b2af-33bfa34a10ec.\n2024/09/26 02:42:09 INFO mlflow.tracking._tracking_service.client: 🧪 View experiment at: https://eastus.api.azureml.ms/mlflow/v2.0/subscriptions/0f61d6bf-ab3d-4df7-a666-edaf42eff57c/resourceGroups/aml-course-dp100-2024/providers/Microsoft.MachineLearningServices/workspaces/dsrp-aml-dp100/#/experiments/198d9690-6de9-4f7f-bde2-99cc70cb1836.\n"
        },
        {
          "output_type": "stream",
          "name": "stdout",
          "text": "[[13932  1134]\n [ 2307  6505]]\n              precision    recall  f1-score   support\n\n         0.0       0.86      0.92      0.89     15066\n         1.0       0.85      0.74      0.79      8812\n\n    accuracy                           0.86     23878\n   macro avg       0.85      0.83      0.84     23878\nweighted avg       0.86      0.86      0.85     23878\n\n"
        }
      ],
      "execution_count": 64,
      "metadata": {
        "jupyter": {
          "source_hidden": false,
          "outputs_hidden": false
        },
        "nteract": {
          "transient": {
            "deleting": false
          }
        },
        "gather": {
          "logged": 1727318531775
        }
      }
    },
    {
      "cell_type": "markdown",
      "source": [
        "## LightGBM"
      ],
      "metadata": {
        "nteract": {
          "transient": {
            "deleting": false
          }
        }
      }
    },
    {
      "cell_type": "code",
      "source": [
        "lgbm_ml_processor = MachineLearningProcessor(\n",
        "    data=modeling_dataframe,\n",
        "    algorithm=LGBMClassifier,\n",
        "    model_name=\"LGBM Classifier with MachineLearningProcessor OPTIMIZED\",\n",
        "    target=TARGET_COLUMN,\n",
        ")\n"
      ],
      "outputs": [],
      "execution_count": 59,
      "metadata": {
        "jupyter": {
          "source_hidden": false,
          "outputs_hidden": false
        },
        "nteract": {
          "transient": {
            "deleting": false
          }
        },
        "gather": {
          "logged": 1727317665391
        }
      }
    },
    {
      "cell_type": "code",
      "source": [
        "# OPTIMIZACION DE HIPEPARAMETROS RANDOM SEARCH\n",
        "lgbm_ml_processor.optimize_random_search(\n",
        "    search_space={\n",
        "        \"max_depth\": [i for i in range(100)],\n",
        "        \"min_data_in_leaf\": [100, 500, 200]\n",
        "    }\n",
        ")"
      ],
      "outputs": [],
      "execution_count": null,
      "metadata": {
        "jupyter": {
          "source_hidden": false,
          "outputs_hidden": false
        },
        "nteract": {
          "transient": {
            "deleting": false
          }
        }
      }
    },
    {
      "cell_type": "code",
      "source": [
        "# OPTIMIZACION DE HIPEPARAMETROS HYPEROPT\n",
        "lgbm_ml_processor.optimize_tpe(\n",
        "    search_space={\n",
        "        \"max_depth\": hp.randint(\"max_depth\", 1, 10),\n",
        "    }\n",
        ")"
      ],
      "outputs": [
        {
          "output_type": "stream",
          "name": "stdout",
          "text": "[LightGBM] [Info] Number of positive: 35412, number of negative: 60100\n[LightGBM] [Info] Auto-choosing row-wise multi-threading, the overhead of testing was 0.068179 seconds.\nYou can set `force_row_wise=true` to remove the overhead.\nAnd if memory is not enough, you can set `force_col_wise=true`.\n[LightGBM] [Info] Total Bins 996                      \n[LightGBM] [Info] Number of data points in the train set: 95512, number of used features: 64\n[LightGBM] [Info] [binary:BoostFromScore]: pavg=0.370760 -> initscore=-0.528959\n[LightGBM] [Info] Start training from score -0.528959 \n[LightGBM] [Warning] No further splits with positive gain, best gain: -inf\n[LightGBM] [Warning] No further splits with positive gain, best gain: -inf\n[LightGBM] [Warning] No further splits with positive gain, best gain: -inf\n[LightGBM] [Warning] No further splits with positive gain, best gain: -inf\n[LightGBM] [Warning] No further splits with positive gain, best gain: -inf\n[LightGBM] [Warning] No further splits with positive gain, best gain: -inf\n[LightGBM] [Warning] No further splits with positive gain, best gain: -inf\n[LightGBM] [Warning] No further splits with positive gain, best gain: -inf\n[LightGBM] [Warning] No further splits with positive gain, best gain: -inf\n[LightGBM] [Warning] No further splits with positive gain, best gain: -inf\n[LightGBM] [Warning] No further splits with positive gain, best gain: -inf\n[LightGBM] [Warning] No further splits with positive gain, best gain: -inf\n[LightGBM] [Warning] No further splits with positive gain, best gain: -inf\n[LightGBM] [Warning] No further splits with positive gain, best gain: -inf\n[LightGBM] [Warning] No further splits with positive gain, best gain: -inf\n[LightGBM] [Warning] No further splits with positive gain, best gain: -inf\n[LightGBM] [Warning] No further splits with positive gain, best gain: -inf\n[LightGBM] [Warning] No further splits with positive gain, best gain: -inf\n[LightGBM] [Warning] No further splits with positive gain, best gain: -inf\n[LightGBM] [Warning] No further splits with positive gain, best gain: -inf\n[LightGBM] [Warning] No further splits with positive gain, best gain: -inf\n[LightGBM] [Warning] No further splits with positive gain, best gain: -inf\n[LightGBM] [Warning] No further splits with positive gain, best gain: -inf\n[LightGBM] [Warning] No further splits with positive gain, best gain: -inf\n[LightGBM] [Warning] No further splits with positive gain, best gain: -inf\n[LightGBM] [Warning] No further splits with positive gain, best gain: -inf\n[LightGBM] [Warning] No further splits with positive gain, best gain: -inf\n[LightGBM] [Warning] No further splits with positive gain, best gain: -inf\n[LightGBM] [Warning] No further splits with positive gain, best gain: -inf\n[LightGBM] [Warning] No further splits with positive gain, best gain: -inf\n[LightGBM] [Warning] No further splits with positive gain, best gain: -inf\n[LightGBM] [Warning] No further splits with positive gain, best gain: -inf\n[LightGBM] [Warning] No further splits with positive gain, best gain: -inf\n[LightGBM] [Warning] No further splits with positive gain, best gain: -inf\n[LightGBM] [Warning] No further splits with positive gain, best gain: -inf\n[LightGBM] [Warning] No further splits with positive gain, best gain: -inf\n[LightGBM] [Warning] No further splits with positive gain, best gain: -inf\n[LightGBM] [Warning] No further splits with positive gain, best gain: -inf\n[LightGBM] [Warning] No further splits with positive gain, best gain: -inf\n[LightGBM] [Warning] No further splits with positive gain, best gain: -inf\n[LightGBM] [Warning] No further splits with positive gain, best gain: -inf\n[LightGBM] [Warning] No further splits with positive gain, best gain: -inf\n[LightGBM] [Warning] No further splits with positive gain, best gain: -inf\n[LightGBM] [Warning] No further splits with positive gain, best gain: -inf\n[LightGBM] [Warning] No further splits with positive gain, best gain: -inf\n[LightGBM] [Warning] No further splits with positive gain, best gain: -inf\n[LightGBM] [Warning] No further splits with positive gain, best gain: -inf\n[LightGBM] [Warning] No further splits with positive gain, best gain: -inf\n[LightGBM] [Warning] No further splits with positive gain, best gain: -inf\n[LightGBM] [Warning] No further splits with positive gain, best gain: -inf\n[LightGBM] [Warning] No further splits with positive gain, best gain: -inf\n[LightGBM] [Warning] No further splits with positive gain, best gain: -inf\n[LightGBM] [Warning] No further splits with positive gain, best gain: -inf\n[LightGBM] [Warning] No further splits with positive gain, best gain: -inf\n[LightGBM] [Warning] No further splits with positive gain, best gain: -inf\n[LightGBM] [Warning] No further splits with positive gain, best gain: -inf\n[LightGBM] [Warning] No further splits with positive gain, best gain: -inf\n[LightGBM] [Warning] No further splits with positive gain, best gain: -inf\n[LightGBM] [Warning] No further splits with positive gain, best gain: -inf\n[LightGBM] [Warning] No further splits with positive gain, best gain: -inf\n[LightGBM] [Warning] No further splits with positive gain, best gain: -inf\n[LightGBM] [Warning] No further splits with positive gain, best gain: -inf\n[LightGBM] [Warning] No further splits with positive gain, best gain: -inf\n[LightGBM] [Warning] No further splits with positive gain, best gain: -inf\n[LightGBM] [Warning] No further splits with positive gain, best gain: -inf\n[LightGBM] [Warning] No further splits with positive gain, best gain: -inf\n[LightGBM] [Warning] No further splits with positive gain, best gain: -inf\n[LightGBM] [Warning] No further splits with positive gain, best gain: -inf\n[LightGBM] [Warning] No further splits with positive gain, best gain: -inf\n[LightGBM] [Warning] No further splits with positive gain, best gain: -inf\n[LightGBM] [Warning] No further splits with positive gain, best gain: -inf\n[LightGBM] [Warning] No further splits with positive gain, best gain: -inf\n[LightGBM] [Warning] No further splits with positive gain, best gain: -inf\n[LightGBM] [Warning] No further splits with positive gain, best gain: -inf\n[LightGBM] [Warning] No further splits with positive gain, best gain: -inf\n[LightGBM] [Warning] No further splits with positive gain, best gain: -inf\n[LightGBM] [Warning] No further splits with positive gain, best gain: -inf\n[LightGBM] [Warning] No further splits with positive gain, best gain: -inf\n[LightGBM] [Warning] No further splits with positive gain, best gain: -inf\n[LightGBM] [Warning] No further splits with positive gain, best gain: -inf\n[LightGBM] [Warning] No further splits with positive gain, best gain: -inf\n[LightGBM] [Warning] No further splits with positive gain, best gain: -inf\n[LightGBM] [Warning] No further splits with positive gain, best gain: -inf\n[LightGBM] [Warning] No further splits with positive gain, best gain: -inf\n[LightGBM] [Warning] No further splits with positive gain, best gain: -inf\n[LightGBM] [Warning] No further splits with positive gain, best gain: -inf\n[LightGBM] [Warning] No further splits with positive gain, best gain: -inf\n[LightGBM] [Warning] No further splits with positive gain, best gain: -inf\n[LightGBM] [Warning] No further splits with positive gain, best gain: -inf\n[LightGBM] [Warning] No further splits with positive gain, best gain: -inf\n[LightGBM] [Warning] No further splits with positive gain, best gain: -inf\n[LightGBM] [Warning] No further splits with positive gain, best gain: -inf\n[LightGBM] [Info] Number of positive: 35412, number of negative: 60100            \n[LightGBM] [Info] Auto-choosing row-wise multi-threading, the overhead of testing was 0.056285 seconds.\nYou can set `force_row_wise=true` to remove the overhead.\nAnd if memory is not enough, you can set `force_col_wise=true`.\n[LightGBM] [Info] Total Bins 996                                                  \n[LightGBM] [Info] Number of data points in the train set: 95512, number of used features: 64\n[LightGBM] [Info] [binary:BoostFromScore]: pavg=0.370760 -> initscore=-0.528959   \n[LightGBM] [Info] Start training from score -0.528959                             \n[LightGBM] [Warning] No further splits with positive gain, best gain: -inf        \n[LightGBM] [Warning] No further splits with positive gain, best gain: -inf        \n[LightGBM] [Warning] No further splits with positive gain, best gain: -inf        \n[LightGBM] [Warning] No further splits with positive gain, best gain: -inf        \n[LightGBM] [Warning] No further splits with positive gain, best gain: -inf        \n[LightGBM] [Warning] No further splits with positive gain, best gain: -inf        \n[LightGBM] [Warning] No further splits with positive gain, best gain: -inf        \n[LightGBM] [Warning] No further splits with positive gain, best gain: -inf        \n[LightGBM] [Warning] No further splits with positive gain, best gain: -inf        \n[LightGBM] [Warning] No further splits with positive gain, best gain: -inf        \n[LightGBM] [Warning] No further splits with positive gain, best gain: -inf        \n[LightGBM] [Warning] No further splits with positive gain, best gain: -inf        \n[LightGBM] [Warning] No further splits with positive gain, best gain: -inf        \n[LightGBM] [Warning] No further splits with positive gain, best gain: -inf        \n[LightGBM] [Warning] No further splits with positive gain, best gain: -inf        \n[LightGBM] [Warning] No further splits with positive gain, best gain: -inf        \n[LightGBM] [Warning] No further splits with positive gain, best gain: -inf        \n[LightGBM] [Warning] No further splits with positive gain, best gain: -inf        \n[LightGBM] [Warning] No further splits with positive gain, best gain: -inf        \n[LightGBM] [Warning] No further splits with positive gain, best gain: -inf        \n[LightGBM] [Warning] No further splits with positive gain, best gain: -inf        \n[LightGBM] [Warning] No further splits with positive gain, best gain: -inf        \n[LightGBM] [Warning] No further splits with positive gain, best gain: -inf        \n[LightGBM] [Warning] No further splits with positive gain, best gain: -inf        \n[LightGBM] [Warning] No further splits with positive gain, best gain: -inf        \n[LightGBM] [Warning] No further splits with positive gain, best gain: -inf        \n[LightGBM] [Warning] No further splits with positive gain, best gain: -inf        \n[LightGBM] [Warning] No further splits with positive gain, best gain: -inf        \n[LightGBM] [Warning] No further splits with positive gain, best gain: -inf        \n[LightGBM] [Warning] No further splits with positive gain, best gain: -inf        \n[LightGBM] [Warning] No further splits with positive gain, best gain: -inf        \n[LightGBM] [Warning] No further splits with positive gain, best gain: -inf        \n[LightGBM] [Warning] No further splits with positive gain, best gain: -inf        \n[LightGBM] [Warning] No further splits with positive gain, best gain: -inf        \n[LightGBM] [Warning] No further splits with positive gain, best gain: -inf        \n[LightGBM] [Warning] No further splits with positive gain, best gain: -inf        \n[LightGBM] [Warning] No further splits with positive gain, best gain: -inf        \n[LightGBM] [Warning] No further splits with positive gain, best gain: -inf        \n[LightGBM] [Warning] No further splits with positive gain, best gain: -inf        \n[LightGBM] [Warning] No further splits with positive gain, best gain: -inf        \n[LightGBM] [Warning] No further splits with positive gain, best gain: -inf        \n[LightGBM] [Warning] No further splits with positive gain, best gain: -inf        \n[LightGBM] [Warning] No further splits with positive gain, best gain: -inf        \n[LightGBM] [Warning] No further splits with positive gain, best gain: -inf        \n[LightGBM] [Warning] No further splits with positive gain, best gain: -inf        \n[LightGBM] [Warning] No further splits with positive gain, best gain: -inf        \n[LightGBM] [Warning] No further splits with positive gain, best gain: -inf        \n[LightGBM] [Warning] No further splits with positive gain, best gain: -inf        \n[LightGBM] [Warning] No further splits with positive gain, best gain: -inf        \n[LightGBM] [Warning] No further splits with positive gain, best gain: -inf        \n[LightGBM] [Warning] No further splits with positive gain, best gain: -inf        \n[LightGBM] [Warning] No further splits with positive gain, best gain: -inf        \n[LightGBM] [Warning] No further splits with positive gain, best gain: -inf        \n[LightGBM] [Warning] No further splits with positive gain, best gain: -inf        \n[LightGBM] [Warning] No further splits with positive gain, best gain: -inf        \n[LightGBM] [Warning] No further splits with positive gain, best gain: -inf        \n[LightGBM] [Warning] No further splits with positive gain, best gain: -inf        \n[LightGBM] [Warning] No further splits with positive gain, best gain: -inf        \n[LightGBM] [Warning] No further splits with positive gain, best gain: -inf        \n[LightGBM] [Warning] No further splits with positive gain, best gain: -inf        \n[LightGBM] [Warning] No further splits with positive gain, best gain: -inf        \n[LightGBM] [Warning] No further splits with positive gain, best gain: -inf        \n[LightGBM] [Warning] No further splits with positive gain, best gain: -inf        \n[LightGBM] [Warning] No further splits with positive gain, best gain: -inf        \n[LightGBM] [Warning] No further splits with positive gain, best gain: -inf        \n[LightGBM] [Warning] No further splits with positive gain, best gain: -inf        \n[LightGBM] [Warning] No further splits with positive gain, best gain: -inf        \n[LightGBM] [Warning] No further splits with positive gain, best gain: -inf        \n[LightGBM] [Warning] No further splits with positive gain, best gain: -inf        \n[LightGBM] [Warning] No further splits with positive gain, best gain: -inf        \n[LightGBM] [Warning] No further splits with positive gain, best gain: -inf        \n[LightGBM] [Warning] No further splits with positive gain, best gain: -inf        \n[LightGBM] [Warning] No further splits with positive gain, best gain: -inf        \n[LightGBM] [Warning] No further splits with positive gain, best gain: -inf        \n[LightGBM] [Warning] No further splits with positive gain, best gain: -inf        \n[LightGBM] [Warning] No further splits with positive gain, best gain: -inf        \n[LightGBM] [Warning] No further splits with positive gain, best gain: -inf        \n[LightGBM] [Warning] No further splits with positive gain, best gain: -inf        \n[LightGBM] [Warning] No further splits with positive gain, best gain: -inf        \n[LightGBM] [Warning] No further splits with positive gain, best gain: -inf        \n[LightGBM] [Warning] No further splits with positive gain, best gain: -inf        \n[LightGBM] [Warning] No further splits with positive gain, best gain: -inf        \n[LightGBM] [Warning] No further splits with positive gain, best gain: -inf        \n[LightGBM] [Warning] No further splits with positive gain, best gain: -inf        \n[LightGBM] [Warning] No further splits with positive gain, best gain: -inf        \n[LightGBM] [Warning] No further splits with positive gain, best gain: -inf        \n[LightGBM] [Warning] No further splits with positive gain, best gain: -inf        \n[LightGBM] [Warning] No further splits with positive gain, best gain: -inf        \n[LightGBM] [Warning] No further splits with positive gain, best gain: -inf        \n[LightGBM] [Warning] No further splits with positive gain, best gain: -inf        \n[LightGBM] [Warning] No further splits with positive gain, best gain: -inf        \n[LightGBM] [Warning] No further splits with positive gain, best gain: -inf        \n[LightGBM] [Info] Number of positive: 35412, number of negative: 60100            \n[LightGBM] [Info] Auto-choosing row-wise multi-threading, the overhead of testing was 0.058487 seconds.\nYou can set `force_row_wise=true` to remove the overhead.\nAnd if memory is not enough, you can set `force_col_wise=true`.\n[LightGBM] [Info] Total Bins 996                                                 \n[LightGBM] [Info] Number of data points in the train set: 95512, number of used features: 64\n[LightGBM] [Info] [binary:BoostFromScore]: pavg=0.370760 -> initscore=-0.528959  \n[LightGBM] [Info] Start training from score -0.528959                            \n[LightGBM] [Warning] No further splits with positive gain, best gain: -inf       \n[LightGBM] [Warning] No further splits with positive gain, best gain: -inf       \n[LightGBM] [Warning] No further splits with positive gain, best gain: -inf       \n[LightGBM] [Warning] No further splits with positive gain, best gain: -inf       \n[LightGBM] [Warning] No further splits with positive gain, best gain: -inf       \n[LightGBM] [Warning] No further splits with positive gain, best gain: -inf       \n[LightGBM] [Warning] No further splits with positive gain, best gain: -inf       \n[LightGBM] [Warning] No further splits with positive gain, best gain: -inf       \n[LightGBM] [Warning] No further splits with positive gain, best gain: -inf       \n[LightGBM] [Warning] No further splits with positive gain, best gain: -inf       \n[LightGBM] [Warning] No further splits with positive gain, best gain: -inf       \n[LightGBM] [Warning] No further splits with positive gain, best gain: -inf       \n[LightGBM] [Warning] No further splits with positive gain, best gain: -inf       \n[LightGBM] [Warning] No further splits with positive gain, best gain: -inf       \n[LightGBM] [Warning] No further splits with positive gain, best gain: -inf       \n[LightGBM] [Warning] No further splits with positive gain, best gain: -inf       \n[LightGBM] [Warning] No further splits with positive gain, best gain: -inf       \n[LightGBM] [Warning] No further splits with positive gain, best gain: -inf       \n[LightGBM] [Warning] No further splits with positive gain, best gain: -inf       \n[LightGBM] [Warning] No further splits with positive gain, best gain: -inf       \n[LightGBM] [Warning] No further splits with positive gain, best gain: -inf       \n[LightGBM] [Warning] No further splits with positive gain, best gain: -inf       \n[LightGBM] [Warning] No further splits with positive gain, best gain: -inf       \n[LightGBM] [Warning] No further splits with positive gain, best gain: -inf       \n[LightGBM] [Warning] No further splits with positive gain, best gain: -inf       \n[LightGBM] [Warning] No further splits with positive gain, best gain: -inf       \n[LightGBM] [Warning] No further splits with positive gain, best gain: -inf       \n[LightGBM] [Warning] No further splits with positive gain, best gain: -inf       \n[LightGBM] [Warning] No further splits with positive gain, best gain: -inf       \n[LightGBM] [Warning] No further splits with positive gain, best gain: -inf       \n[LightGBM] [Warning] No further splits with positive gain, best gain: -inf       \n[LightGBM] [Warning] No further splits with positive gain, best gain: -inf       \n[LightGBM] [Warning] No further splits with positive gain, best gain: -inf       \n[LightGBM] [Warning] No further splits with positive gain, best gain: -inf       \n[LightGBM] [Warning] No further splits with positive gain, best gain: -inf       \n[LightGBM] [Warning] No further splits with positive gain, best gain: -inf       \n[LightGBM] [Warning] No further splits with positive gain, best gain: -inf       \n[LightGBM] [Warning] No further splits with positive gain, best gain: -inf       \n[LightGBM] [Warning] No further splits with positive gain, best gain: -inf       \n[LightGBM] [Warning] No further splits with positive gain, best gain: -inf       \n[LightGBM] [Warning] No further splits with positive gain, best gain: -inf       \n[LightGBM] [Warning] No further splits with positive gain, best gain: -inf       \n[LightGBM] [Warning] No further splits with positive gain, best gain: -inf       \n[LightGBM] [Warning] No further splits with positive gain, best gain: -inf       \n[LightGBM] [Warning] No further splits with positive gain, best gain: -inf       \n[LightGBM] [Warning] No further splits with positive gain, best gain: -inf       \n[LightGBM] [Warning] No further splits with positive gain, best gain: -inf       \n[LightGBM] [Warning] No further splits with positive gain, best gain: -inf       \n[LightGBM] [Warning] No further splits with positive gain, best gain: -inf       \n[LightGBM] [Warning] No further splits with positive gain, best gain: -inf       \n[LightGBM] [Warning] No further splits with positive gain, best gain: -inf       \n[LightGBM] [Warning] No further splits with positive gain, best gain: -inf       \n[LightGBM] [Warning] No further splits with positive gain, best gain: -inf       \n[LightGBM] [Warning] No further splits with positive gain, best gain: -inf       \n[LightGBM] [Warning] No further splits with positive gain, best gain: -inf       \n[LightGBM] [Warning] No further splits with positive gain, best gain: -inf       \n[LightGBM] [Warning] No further splits with positive gain, best gain: -inf       \n[LightGBM] [Warning] No further splits with positive gain, best gain: -inf       \n[LightGBM] [Warning] No further splits with positive gain, best gain: -inf       \n[LightGBM] [Warning] No further splits with positive gain, best gain: -inf       \n[LightGBM] [Warning] No further splits with positive gain, best gain: -inf       \n[LightGBM] [Warning] No further splits with positive gain, best gain: -inf       \n[LightGBM] [Warning] No further splits with positive gain, best gain: -inf       \n[LightGBM] [Warning] No further splits with positive gain, best gain: -inf       \n[LightGBM] [Warning] No further splits with positive gain, best gain: -inf       \n[LightGBM] [Warning] No further splits with positive gain, best gain: -inf       \n[LightGBM] [Warning] No further splits with positive gain, best gain: -inf       \n[LightGBM] [Warning] No further splits with positive gain, best gain: -inf       \n[LightGBM] [Warning] No further splits with positive gain, best gain: -inf       \n[LightGBM] [Warning] No further splits with positive gain, best gain: -inf       \n[LightGBM] [Warning] No further splits with positive gain, best gain: -inf       \n[LightGBM] [Warning] No further splits with positive gain, best gain: -inf       \n[LightGBM] [Warning] No further splits with positive gain, best gain: -inf       \n[LightGBM] [Warning] No further splits with positive gain, best gain: -inf       \n[LightGBM] [Warning] No further splits with positive gain, best gain: -inf       \n[LightGBM] [Warning] No further splits with positive gain, best gain: -inf       \n[LightGBM] [Warning] No further splits with positive gain, best gain: -inf       \n[LightGBM] [Warning] No further splits with positive gain, best gain: -inf       \n[LightGBM] [Warning] No further splits with positive gain, best gain: -inf       \n[LightGBM] [Warning] No further splits with positive gain, best gain: -inf       \n[LightGBM] [Warning] No further splits with positive gain, best gain: -inf       \n[LightGBM] [Warning] No further splits with positive gain, best gain: -inf       \n[LightGBM] [Warning] No further splits with positive gain, best gain: -inf       \n[LightGBM] [Warning] No further splits with positive gain, best gain: -inf       \n[LightGBM] [Warning] No further splits with positive gain, best gain: -inf       \n[LightGBM] [Warning] No further splits with positive gain, best gain: -inf       \n[LightGBM] [Warning] No further splits with positive gain, best gain: -inf       \n[LightGBM] [Warning] No further splits with positive gain, best gain: -inf       \n[LightGBM] [Warning] No further splits with positive gain, best gain: -inf       \n[LightGBM] [Warning] No further splits with positive gain, best gain: -inf       \n[LightGBM] [Warning] No further splits with positive gain, best gain: -inf       \n[LightGBM] [Warning] No further splits with positive gain, best gain: -inf       \n[LightGBM] [Warning] No further splits with positive gain, best gain: -inf       \n[LightGBM] [Warning] No further splits with positive gain, best gain: -inf       \n[LightGBM] [Warning] No further splits with positive gain, best gain: -inf       \n[LightGBM] [Warning] No further splits with positive gain, best gain: -inf       \n[LightGBM] [Warning] No further splits with positive gain, best gain: -inf       \n[LightGBM] [Warning] No further splits with positive gain, best gain: -inf       \n[LightGBM] [Warning] No further splits with positive gain, best gain: -inf       \n[LightGBM] [Warning] No further splits with positive gain, best gain: -inf       \n[LightGBM] [Info] Number of positive: 35412, number of negative: 60100           \n[LightGBM] [Info] Auto-choosing row-wise multi-threading, the overhead of testing was 0.057362 seconds.\nYou can set `force_row_wise=true` to remove the overhead.\nAnd if memory is not enough, you can set `force_col_wise=true`.\n[LightGBM] [Info] Total Bins 996                                                 \n[LightGBM] [Info] Number of data points in the train set: 95512, number of used features: 64\n[LightGBM] [Info] [binary:BoostFromScore]: pavg=0.370760 -> initscore=-0.528959  \n[LightGBM] [Info] Start training from score -0.528959                            \n[LightGBM] [Info] Number of positive: 35412, number of negative: 60100           \n[LightGBM] [Info] Auto-choosing row-wise multi-threading, the overhead of testing was 0.056218 seconds.\nYou can set `force_row_wise=true` to remove the overhead.\nAnd if memory is not enough, you can set `force_col_wise=true`.\n[LightGBM] [Info] Total Bins 996                                                 \n[LightGBM] [Info] Number of data points in the train set: 95512, number of used features: 64\n[LightGBM] [Info] [binary:BoostFromScore]: pavg=0.370760 -> initscore=-0.528959  \n[LightGBM] [Info] Start training from score -0.528959                            \n[LightGBM] [Warning] No further splits with positive gain, best gain: -inf       \n[LightGBM] [Info] Number of positive: 35412, number of negative: 60100           \n[LightGBM] [Info] Auto-choosing row-wise multi-threading, the overhead of testing was 0.058175 seconds.\nYou can set `force_row_wise=true` to remove the overhead.\nAnd if memory is not enough, you can set `force_col_wise=true`.\n[LightGBM] [Info] Total Bins 996                                                 \n[LightGBM] [Info] Number of data points in the train set: 95512, number of used features: 64\n[LightGBM] [Info] [binary:BoostFromScore]: pavg=0.370760 -> initscore=-0.528959  \n[LightGBM] [Info] Start training from score -0.528959                            \n[LightGBM] [Warning] No further splits with positive gain, best gain: -inf       \n[LightGBM] [Warning] No further splits with positive gain, best gain: -inf       \n[LightGBM] [Warning] No further splits with positive gain, best gain: -inf       \n[LightGBM] [Warning] No further splits with positive gain, best gain: -inf       \n[LightGBM] [Warning] No further splits with positive gain, best gain: -inf       \n[LightGBM] [Warning] No further splits with positive gain, best gain: -inf       \n[LightGBM] [Warning] No further splits with positive gain, best gain: -inf       \n[LightGBM] [Warning] No further splits with positive gain, best gain: -inf       \n[LightGBM] [Warning] No further splits with positive gain, best gain: -inf       \n[LightGBM] [Warning] No further splits with positive gain, best gain: -inf       \n[LightGBM] [Warning] No further splits with positive gain, best gain: -inf       \n[LightGBM] [Warning] No further splits with positive gain, best gain: -inf       \n[LightGBM] [Warning] No further splits with positive gain, best gain: -inf       \n[LightGBM] [Warning] No further splits with positive gain, best gain: -inf       \n[LightGBM] [Warning] No further splits with positive gain, best gain: -inf       \n[LightGBM] [Warning] No further splits with positive gain, best gain: -inf       \n[LightGBM] [Warning] No further splits with positive gain, best gain: -inf       \n[LightGBM] [Warning] No further splits with positive gain, best gain: -inf       \n[LightGBM] [Warning] No further splits with positive gain, best gain: -inf       \n[LightGBM] [Warning] No further splits with positive gain, best gain: -inf       \n[LightGBM] [Warning] No further splits with positive gain, best gain: -inf       \n[LightGBM] [Warning] No further splits with positive gain, best gain: -inf       \n[LightGBM] [Warning] No further splits with positive gain, best gain: -inf       \n[LightGBM] [Warning] No further splits with positive gain, best gain: -inf       \n[LightGBM] [Warning] No further splits with positive gain, best gain: -inf       \n[LightGBM] [Warning] No further splits with positive gain, best gain: -inf       \n[LightGBM] [Warning] No further splits with positive gain, best gain: -inf       \n[LightGBM] [Warning] No further splits with positive gain, best gain: -inf       \n[LightGBM] [Warning] No further splits with positive gain, best gain: -inf       \n[LightGBM] [Warning] No further splits with positive gain, best gain: -inf       \n[LightGBM] [Warning] No further splits with positive gain, best gain: -inf       \n[LightGBM] [Warning] No further splits with positive gain, best gain: -inf       \n[LightGBM] [Warning] No further splits with positive gain, best gain: -inf       \n[LightGBM] [Warning] No further splits with positive gain, best gain: -inf       \n[LightGBM] [Warning] No further splits with positive gain, best gain: -inf       \n[LightGBM] [Warning] No further splits with positive gain, best gain: -inf       \n[LightGBM] [Warning] No further splits with positive gain, best gain: -inf       \n[LightGBM] [Warning] No further splits with positive gain, best gain: -inf       \n[LightGBM] [Warning] No further splits with positive gain, best gain: -inf       \n[LightGBM] [Warning] No further splits with positive gain, best gain: -inf       \n[LightGBM] [Warning] No further splits with positive gain, best gain: -inf       \n[LightGBM] [Warning] No further splits with positive gain, best gain: -inf       \n[LightGBM] [Warning] No further splits with positive gain, best gain: -inf       \n[LightGBM] [Warning] No further splits with positive gain, best gain: -inf       \n[LightGBM] [Warning] No further splits with positive gain, best gain: -inf       \n[LightGBM] [Warning] No further splits with positive gain, best gain: -inf       \n[LightGBM] [Warning] No further splits with positive gain, best gain: -inf       \n[LightGBM] [Warning] No further splits with positive gain, best gain: -inf       \n[LightGBM] [Warning] No further splits with positive gain, best gain: -inf       \n[LightGBM] [Warning] No further splits with positive gain, best gain: -inf       \n[LightGBM] [Warning] No further splits with positive gain, best gain: -inf       \n[LightGBM] [Warning] No further splits with positive gain, best gain: -inf       \n[LightGBM] [Warning] No further splits with positive gain, best gain: -inf       \n[LightGBM] [Warning] No further splits with positive gain, best gain: -inf       \n[LightGBM] [Warning] No further splits with positive gain, best gain: -inf       \n[LightGBM] [Warning] No further splits with positive gain, best gain: -inf       \n[LightGBM] [Warning] No further splits with positive gain, best gain: -inf       \n[LightGBM] [Warning] No further splits with positive gain, best gain: -inf       \n[LightGBM] [Warning] No further splits with positive gain, best gain: -inf       \n[LightGBM] [Warning] No further splits with positive gain, best gain: -inf       \n[LightGBM] [Warning] No further splits with positive gain, best gain: -inf       \n[LightGBM] [Warning] No further splits with positive gain, best gain: -inf       \n[LightGBM] [Warning] No further splits with positive gain, best gain: -inf       \n[LightGBM] [Warning] No further splits with positive gain, best gain: -inf       \n[LightGBM] [Warning] No further splits with positive gain, best gain: -inf       \n[LightGBM] [Warning] No further splits with positive gain, best gain: -inf       \n[LightGBM] [Warning] No further splits with positive gain, best gain: -inf       \n[LightGBM] [Warning] No further splits with positive gain, best gain: -inf       \n[LightGBM] [Warning] No further splits with positive gain, best gain: -inf       \n[LightGBM] [Warning] No further splits with positive gain, best gain: -inf       \n[LightGBM] [Warning] No further splits with positive gain, best gain: -inf       \n[LightGBM] [Warning] No further splits with positive gain, best gain: -inf       \n[LightGBM] [Warning] No further splits with positive gain, best gain: -inf       \n[LightGBM] [Warning] No further splits with positive gain, best gain: -inf       \n[LightGBM] [Warning] No further splits with positive gain, best gain: -inf       \n[LightGBM] [Warning] No further splits with positive gain, best gain: -inf       \n[LightGBM] [Warning] No further splits with positive gain, best gain: -inf       \n[LightGBM] [Warning] No further splits with positive gain, best gain: -inf       \n[LightGBM] [Warning] No further splits with positive gain, best gain: -inf       \n[LightGBM] [Warning] No further splits with positive gain, best gain: -inf       \n[LightGBM] [Warning] No further splits with positive gain, best gain: -inf       \n[LightGBM] [Warning] No further splits with positive gain, best gain: -inf       \n[LightGBM] [Warning] No further splits with positive gain, best gain: -inf       \n[LightGBM] [Warning] No further splits with positive gain, best gain: -inf       \n[LightGBM] [Warning] No further splits with positive gain, best gain: -inf       \n[LightGBM] [Warning] No further splits with positive gain, best gain: -inf       \n[LightGBM] [Warning] No further splits with positive gain, best gain: -inf       \n[LightGBM] [Warning] No further splits with positive gain, best gain: -inf       \n[LightGBM] [Warning] No further splits with positive gain, best gain: -inf       \n[LightGBM] [Warning] No further splits with positive gain, best gain: -inf       \n[LightGBM] [Warning] No further splits with positive gain, best gain: -inf       \n[LightGBM] [Warning] No further splits with positive gain, best gain: -inf       \n[LightGBM] [Warning] No further splits with positive gain, best gain: -inf       \n[LightGBM] [Warning] No further splits with positive gain, best gain: -inf       \n[LightGBM] [Warning] No further splits with positive gain, best gain: -inf       \n[LightGBM] [Warning] No further splits with positive gain, best gain: -inf       \n[LightGBM] [Warning] No further splits with positive gain, best gain: -inf       \n[LightGBM] [Warning] No further splits with positive gain, best gain: -inf       \n[LightGBM] [Warning] No further splits with positive gain, best gain: -inf       \n[LightGBM] [Warning] No further splits with positive gain, best gain: -inf       \n[LightGBM] [Info] Number of positive: 35412, number of negative: 60100           \n[LightGBM] [Info] Auto-choosing row-wise multi-threading, the overhead of testing was 0.056872 seconds.\nYou can set `force_row_wise=true` to remove the overhead.\nAnd if memory is not enough, you can set `force_col_wise=true`.\n[LightGBM] [Info] Total Bins 996                                                 \n[LightGBM] [Info] Number of data points in the train set: 95512, number of used features: 64\n[LightGBM] [Info] [binary:BoostFromScore]: pavg=0.370760 -> initscore=-0.528959  \n[LightGBM] [Info] Start training from score -0.528959                            \n[LightGBM] [Info] Number of positive: 35412, number of negative: 60100           \n[LightGBM] [Info] Auto-choosing row-wise multi-threading, the overhead of testing was 0.062104 seconds.\nYou can set `force_row_wise=true` to remove the overhead.\nAnd if memory is not enough, you can set `force_col_wise=true`.\n[LightGBM] [Info] Total Bins 996                                                 \n[LightGBM] [Info] Number of data points in the train set: 95512, number of used features: 64\n[LightGBM] [Info] [binary:BoostFromScore]: pavg=0.370760 -> initscore=-0.528959  \n[LightGBM] [Info] Start training from score -0.528959                            \n[LightGBM] [Warning] No further splits with positive gain, best gain: -inf       \n[LightGBM] [Warning] No further splits with positive gain, best gain: -inf       \n[LightGBM] [Warning] No further splits with positive gain, best gain: -inf       \n[LightGBM] [Warning] No further splits with positive gain, best gain: -inf       \n[LightGBM] [Warning] No further splits with positive gain, best gain: -inf       \n[LightGBM] [Warning] No further splits with positive gain, best gain: -inf       \n[LightGBM] [Warning] No further splits with positive gain, best gain: -inf       \n[LightGBM] [Warning] No further splits with positive gain, best gain: -inf       \n[LightGBM] [Warning] No further splits with positive gain, best gain: -inf       \n[LightGBM] [Warning] No further splits with positive gain, best gain: -inf       \n[LightGBM] [Warning] No further splits with positive gain, best gain: -inf       \n[LightGBM] [Warning] No further splits with positive gain, best gain: -inf       \n[LightGBM] [Warning] No further splits with positive gain, best gain: -inf       \n[LightGBM] [Warning] No further splits with positive gain, best gain: -inf       \n[LightGBM] [Warning] No further splits with positive gain, best gain: -inf       \n[LightGBM] [Warning] No further splits with positive gain, best gain: -inf       \n[LightGBM] [Warning] No further splits with positive gain, best gain: -inf       \n[LightGBM] [Warning] No further splits with positive gain, best gain: -inf       \n[LightGBM] [Warning] No further splits with positive gain, best gain: -inf       \n[LightGBM] [Warning] No further splits with positive gain, best gain: -inf       \n[LightGBM] [Warning] No further splits with positive gain, best gain: -inf       \n[LightGBM] [Warning] No further splits with positive gain, best gain: -inf       \n[LightGBM] [Warning] No further splits with positive gain, best gain: -inf       \n[LightGBM] [Warning] No further splits with positive gain, best gain: -inf       \n[LightGBM] [Warning] No further splits with positive gain, best gain: -inf       \n[LightGBM] [Warning] No further splits with positive gain, best gain: -inf       \n[LightGBM] [Warning] No further splits with positive gain, best gain: -inf       \n[LightGBM] [Warning] No further splits with positive gain, best gain: -inf       \n[LightGBM] [Warning] No further splits with positive gain, best gain: -inf       \n[LightGBM] [Warning] No further splits with positive gain, best gain: -inf       \n[LightGBM] [Warning] No further splits with positive gain, best gain: -inf       \n[LightGBM] [Warning] No further splits with positive gain, best gain: -inf       \n[LightGBM] [Warning] No further splits with positive gain, best gain: -inf       \n[LightGBM] [Warning] No further splits with positive gain, best gain: -inf       \n[LightGBM] [Warning] No further splits with positive gain, best gain: -inf       \n[LightGBM] [Warning] No further splits with positive gain, best gain: -inf       \n[LightGBM] [Warning] No further splits with positive gain, best gain: -inf       \n[LightGBM] [Warning] No further splits with positive gain, best gain: -inf       \n[LightGBM] [Warning] No further splits with positive gain, best gain: -inf       \n[LightGBM] [Warning] No further splits with positive gain, best gain: -inf       \n[LightGBM] [Warning] No further splits with positive gain, best gain: -inf       \n[LightGBM] [Warning] No further splits with positive gain, best gain: -inf       \n[LightGBM] [Warning] No further splits with positive gain, best gain: -inf       \n[LightGBM] [Warning] No further splits with positive gain, best gain: -inf       \n[LightGBM] [Warning] No further splits with positive gain, best gain: -inf       \n[LightGBM] [Warning] No further splits with positive gain, best gain: -inf       \n[LightGBM] [Warning] No further splits with positive gain, best gain: -inf       \n[LightGBM] [Warning] No further splits with positive gain, best gain: -inf       \n[LightGBM] [Warning] No further splits with positive gain, best gain: -inf       \n[LightGBM] [Warning] No further splits with positive gain, best gain: -inf       \n[LightGBM] [Warning] No further splits with positive gain, best gain: -inf       \n[LightGBM] [Warning] No further splits with positive gain, best gain: -inf       \n[LightGBM] [Warning] No further splits with positive gain, best gain: -inf       \n[LightGBM] [Warning] No further splits with positive gain, best gain: -inf       \n[LightGBM] [Warning] No further splits with positive gain, best gain: -inf       \n[LightGBM] [Warning] No further splits with positive gain, best gain: -inf       \n[LightGBM] [Warning] No further splits with positive gain, best gain: -inf       \n[LightGBM] [Warning] No further splits with positive gain, best gain: -inf       \n[LightGBM] [Warning] No further splits with positive gain, best gain: -inf       \n[LightGBM] [Warning] No further splits with positive gain, best gain: -inf       \n[LightGBM] [Warning] No further splits with positive gain, best gain: -inf       \n[LightGBM] [Warning] No further splits with positive gain, best gain: -inf       \n[LightGBM] [Warning] No further splits with positive gain, best gain: -inf       \n[LightGBM] [Warning] No further splits with positive gain, best gain: -inf       \n[LightGBM] [Warning] No further splits with positive gain, best gain: -inf       \n[LightGBM] [Warning] No further splits with positive gain, best gain: -inf       \n[LightGBM] [Warning] No further splits with positive gain, best gain: -inf       \n[LightGBM] [Warning] No further splits with positive gain, best gain: -inf       \n[LightGBM] [Warning] No further splits with positive gain, best gain: -inf       \n[LightGBM] [Warning] No further splits with positive gain, best gain: -inf       \n[LightGBM] [Warning] No further splits with positive gain, best gain: -inf       \n[LightGBM] [Warning] No further splits with positive gain, best gain: -inf       \n[LightGBM] [Warning] No further splits with positive gain, best gain: -inf       \n[LightGBM] [Warning] No further splits with positive gain, best gain: -inf       \n[LightGBM] [Warning] No further splits with positive gain, best gain: -inf       \n[LightGBM] [Warning] No further splits with positive gain, best gain: -inf       \n[LightGBM] [Warning] No further splits with positive gain, best gain: -inf       \n[LightGBM] [Warning] No further splits with positive gain, best gain: -inf       \n[LightGBM] [Warning] No further splits with positive gain, best gain: -inf       \n[LightGBM] [Warning] No further splits with positive gain, best gain: -inf       \n[LightGBM] [Warning] No further splits with positive gain, best gain: -inf       \n[LightGBM] [Warning] No further splits with positive gain, best gain: -inf       \n[LightGBM] [Warning] No further splits with positive gain, best gain: -inf       \n[LightGBM] [Warning] No further splits with positive gain, best gain: -inf       \n[LightGBM] [Warning] No further splits with positive gain, best gain: -inf       \n[LightGBM] [Warning] No further splits with positive gain, best gain: -inf       \n[LightGBM] [Warning] No further splits with positive gain, best gain: -inf       \n[LightGBM] [Warning] No further splits with positive gain, best gain: -inf       \n[LightGBM] [Warning] No further splits with positive gain, best gain: -inf       \n[LightGBM] [Warning] No further splits with positive gain, best gain: -inf       \n[LightGBM] [Warning] No further splits with positive gain, best gain: -inf       \n[LightGBM] [Warning] No further splits with positive gain, best gain: -inf       \n[LightGBM] [Warning] No further splits with positive gain, best gain: -inf       \n[LightGBM] [Warning] No further splits with positive gain, best gain: -inf       \n[LightGBM] [Warning] No further splits with positive gain, best gain: -inf       \n[LightGBM] [Warning] No further splits with positive gain, best gain: -inf       \n[LightGBM] [Warning] No further splits with positive gain, best gain: -inf       \n[LightGBM] [Warning] No further splits with positive gain, best gain: -inf       \n[LightGBM] [Warning] No further splits with positive gain, best gain: -inf       \n[LightGBM] [Warning] No further splits with positive gain, best gain: -inf       \n[LightGBM] [Info] Number of positive: 35412, number of negative: 60100           \n[LightGBM] [Info] Auto-choosing row-wise multi-threading, the overhead of testing was 0.058037 seconds.\nYou can set `force_row_wise=true` to remove the overhead.\nAnd if memory is not enough, you can set `force_col_wise=true`.\n[LightGBM] [Info] Total Bins 996                                                 \n[LightGBM] [Info] Number of data points in the train set: 95512, number of used features: 64\n[LightGBM] [Info] [binary:BoostFromScore]: pavg=0.370760 -> initscore=-0.528959  \n[LightGBM] [Info] Start training from score -0.528959                            \n[LightGBM] [Info] Number of positive: 35412, number of negative: 60100           \n[LightGBM] [Info] Auto-choosing row-wise multi-threading, the overhead of testing was 0.057947 seconds.\nYou can set `force_row_wise=true` to remove the overhead.\nAnd if memory is not enough, you can set `force_col_wise=true`.\n[LightGBM] [Info] Total Bins 996                                                 \n[LightGBM] [Info] Number of data points in the train set: 95512, number of used features: 64\n[LightGBM] [Info] [binary:BoostFromScore]: pavg=0.370760 -> initscore=-0.528959  \n[LightGBM] [Info] Start training from score -0.528959                            \n[LightGBM] [Warning] No further splits with positive gain, best gain: -inf       \n[LightGBM] [Warning] No further splits with positive gain, best gain: -inf       \n[LightGBM] [Warning] No further splits with positive gain, best gain: -inf       \n[LightGBM] [Warning] No further splits with positive gain, best gain: -inf       \n[LightGBM] [Warning] No further splits with positive gain, best gain: -inf       \n[LightGBM] [Warning] No further splits with positive gain, best gain: -inf       \n[LightGBM] [Warning] No further splits with positive gain, best gain: -inf       \n[LightGBM] [Warning] No further splits with positive gain, best gain: -inf       \n[LightGBM] [Warning] No further splits with positive gain, best gain: -inf       \n[LightGBM] [Warning] No further splits with positive gain, best gain: -inf       \n[LightGBM] [Warning] No further splits with positive gain, best gain: -inf       \n[LightGBM] [Warning] No further splits with positive gain, best gain: -inf       \n[LightGBM] [Warning] No further splits with positive gain, best gain: -inf       \n[LightGBM] [Warning] No further splits with positive gain, best gain: -inf       \n[LightGBM] [Warning] No further splits with positive gain, best gain: -inf       \n[LightGBM] [Warning] No further splits with positive gain, best gain: -inf       \n[LightGBM] [Warning] No further splits with positive gain, best gain: -inf       \n[LightGBM] [Warning] No further splits with positive gain, best gain: -inf       \n[LightGBM] [Warning] No further splits with positive gain, best gain: -inf       \n[LightGBM] [Warning] No further splits with positive gain, best gain: -inf       \n[LightGBM] [Warning] No further splits with positive gain, best gain: -inf       \n[LightGBM] [Warning] No further splits with positive gain, best gain: -inf       \n[LightGBM] [Warning] No further splits with positive gain, best gain: -inf       \n[LightGBM] [Warning] No further splits with positive gain, best gain: -inf       \n[LightGBM] [Warning] No further splits with positive gain, best gain: -inf       \n[LightGBM] [Warning] No further splits with positive gain, best gain: -inf       \n[LightGBM] [Warning] No further splits with positive gain, best gain: -inf       \n[LightGBM] [Warning] No further splits with positive gain, best gain: -inf       \n[LightGBM] [Warning] No further splits with positive gain, best gain: -inf       \n[LightGBM] [Warning] No further splits with positive gain, best gain: -inf       \n[LightGBM] [Warning] No further splits with positive gain, best gain: -inf       \n[LightGBM] [Warning] No further splits with positive gain, best gain: -inf       \n[LightGBM] [Warning] No further splits with positive gain, best gain: -inf       \n[LightGBM] [Warning] No further splits with positive gain, best gain: -inf       \n[LightGBM] [Warning] No further splits with positive gain, best gain: -inf       \n[LightGBM] [Warning] No further splits with positive gain, best gain: -inf       \n[LightGBM] [Warning] No further splits with positive gain, best gain: -inf       \n[LightGBM] [Warning] No further splits with positive gain, best gain: -inf       \n[LightGBM] [Warning] No further splits with positive gain, best gain: -inf       \n[LightGBM] [Warning] No further splits with positive gain, best gain: -inf       \n[LightGBM] [Warning] No further splits with positive gain, best gain: -inf       \n[LightGBM] [Warning] No further splits with positive gain, best gain: -inf       \n[LightGBM] [Warning] No further splits with positive gain, best gain: -inf       \n[LightGBM] [Warning] No further splits with positive gain, best gain: -inf       \n[LightGBM] [Warning] No further splits with positive gain, best gain: -inf       \n[LightGBM] [Warning] No further splits with positive gain, best gain: -inf       \n[LightGBM] [Warning] No further splits with positive gain, best gain: -inf       \n[LightGBM] [Warning] No further splits with positive gain, best gain: -inf       \n[LightGBM] [Warning] No further splits with positive gain, best gain: -inf       \n[LightGBM] [Warning] No further splits with positive gain, best gain: -inf       \n[LightGBM] [Warning] No further splits with positive gain, best gain: -inf       \n[LightGBM] [Warning] No further splits with positive gain, best gain: -inf       \n[LightGBM] [Warning] No further splits with positive gain, best gain: -inf       \n[LightGBM] [Warning] No further splits with positive gain, best gain: -inf       \n[LightGBM] [Warning] No further splits with positive gain, best gain: -inf       \n[LightGBM] [Warning] No further splits with positive gain, best gain: -inf       \n[LightGBM] [Warning] No further splits with positive gain, best gain: -inf       \n[LightGBM] [Warning] No further splits with positive gain, best gain: -inf       \n[LightGBM] [Warning] No further splits with positive gain, best gain: -inf       \n[LightGBM] [Warning] No further splits with positive gain, best gain: -inf       \n[LightGBM] [Warning] No further splits with positive gain, best gain: -inf       \n[LightGBM] [Warning] No further splits with positive gain, best gain: -inf       \n[LightGBM] [Warning] No further splits with positive gain, best gain: -inf       \n[LightGBM] [Warning] No further splits with positive gain, best gain: -inf       \n[LightGBM] [Warning] No further splits with positive gain, best gain: -inf       \n[LightGBM] [Warning] No further splits with positive gain, best gain: -inf       \n[LightGBM] [Warning] No further splits with positive gain, best gain: -inf       \n[LightGBM] [Warning] No further splits with positive gain, best gain: -inf       \n[LightGBM] [Warning] No further splits with positive gain, best gain: -inf       \n[LightGBM] [Warning] No further splits with positive gain, best gain: -inf       \n[LightGBM] [Warning] No further splits with positive gain, best gain: -inf       \n[LightGBM] [Warning] No further splits with positive gain, best gain: -inf       \n[LightGBM] [Warning] No further splits with positive gain, best gain: -inf       \n[LightGBM] [Warning] No further splits with positive gain, best gain: -inf       \n[LightGBM] [Warning] No further splits with positive gain, best gain: -inf       \n[LightGBM] [Warning] No further splits with positive gain, best gain: -inf       \n[LightGBM] [Warning] No further splits with positive gain, best gain: -inf       \n[LightGBM] [Warning] No further splits with positive gain, best gain: -inf       \n[LightGBM] [Warning] No further splits with positive gain, best gain: -inf       \n[LightGBM] [Warning] No further splits with positive gain, best gain: -inf       \n[LightGBM] [Warning] No further splits with positive gain, best gain: -inf       \n[LightGBM] [Warning] No further splits with positive gain, best gain: -inf       \n[LightGBM] [Warning] No further splits with positive gain, best gain: -inf       \n[LightGBM] [Warning] No further splits with positive gain, best gain: -inf       \n[LightGBM] [Warning] No further splits with positive gain, best gain: -inf       \n[LightGBM] [Warning] No further splits with positive gain, best gain: -inf       \n[LightGBM] [Warning] No further splits with positive gain, best gain: -inf       \n[LightGBM] [Warning] No further splits with positive gain, best gain: -inf       \n[LightGBM] [Warning] No further splits with positive gain, best gain: -inf       \n[LightGBM] [Warning] No further splits with positive gain, best gain: -inf       \n[LightGBM] [Warning] No further splits with positive gain, best gain: -inf       \n[LightGBM] [Warning] No further splits with positive gain, best gain: -inf       \n[LightGBM] [Warning] No further splits with positive gain, best gain: -inf       \n[LightGBM] [Warning] No further splits with positive gain, best gain: -inf       \n[LightGBM] [Warning] No further splits with positive gain, best gain: -inf       \n[LightGBM] [Warning] No further splits with positive gain, best gain: -inf       \n[LightGBM] [Warning] No further splits with positive gain, best gain: -inf       \n[LightGBM] [Warning] No further splits with positive gain, best gain: -inf       \n[LightGBM] [Warning] No further splits with positive gain, best gain: -inf       \n[LightGBM] [Warning] No further splits with positive gain, best gain: -inf       \n100%|██████████| 10/10 [06:28<00:00, 38.86s/trial, best loss: -0.8424072367870006]\n"
        },
        {
          "output_type": "stream",
          "name": "stderr",
          "text": "2024/09/26 02:29:52 INFO mlflow.utils.autologging_utils: Created MLflow autologging run with ID 'e84ef5fc-ac20-4632-b2eb-72605287cd38', which will track hyperparameters, performance metrics, model artifacts, and lineage information for the current sklearn workflow\n\n2024/09/26 02:30:16 INFO mlflow.tracking._tracking_service.client: 🏃 View run cyan_feast_cd0dwdqc at: https://eastus.api.azureml.ms/mlflow/v2.0/subscriptions/0f61d6bf-ab3d-4df7-a666-edaf42eff57c/resourceGroups/aml-course-dp100-2024/providers/Microsoft.MachineLearningServices/workspaces/dsrp-aml-dp100/#/experiments/198d9690-6de9-4f7f-bde2-99cc70cb1836/runs/e84ef5fc-ac20-4632-b2eb-72605287cd38.\n\n2024/09/26 02:30:16 INFO mlflow.tracking._tracking_service.client: 🧪 View experiment at: https://eastus.api.azureml.ms/mlflow/v2.0/subscriptions/0f61d6bf-ab3d-4df7-a666-edaf42eff57c/resourceGroups/aml-course-dp100-2024/providers/Microsoft.MachineLearningServices/workspaces/dsrp-aml-dp100/#/experiments/198d9690-6de9-4f7f-bde2-99cc70cb1836.\n\n2024/09/26 02:30:18 WARNING mlflow.sklearn: Failed to log evaluation dataset information to MLflow Tracking. Reason: BAD_REQUEST: Response: {'Error': {'Code': 'UserError', 'Severity': None, 'Message': 'Cannot log the same dataset with different context', 'MessageFormat': None, 'MessageParameters': None, 'ReferenceCode': None, 'DetailsUri': None, 'Target': None, 'Details': [], 'InnerError': None, 'DebugInfo': None, 'AdditionalInfo': None}, 'Correlation': {'operation': 'e05b0036d8464fd1b34404fd52c30d1c', 'request': 'b8b0a529251fd437'}, 'Environment': 'eastus', 'Location': 'eastus', 'Time': '2024-09-26T02:30:18.9923269+00:00', 'ComponentName': 'mlflow', 'statusCode': 400, 'error_code': 'BAD_REQUEST'}\n\n2024/09/26 02:30:19 INFO mlflow.utils.autologging_utils: Created MLflow autologging run with ID 'c7cc1b91-c629-43e1-90a1-a096ba46fbbf', which will track hyperparameters, performance metrics, model artifacts, and lineage information for the current sklearn workflow\n\n2024/09/26 02:30:43 INFO mlflow.tracking._tracking_service.client: 🏃 View run nice_stem_pwgnb3f5 at: https://eastus.api.azureml.ms/mlflow/v2.0/subscriptions/0f61d6bf-ab3d-4df7-a666-edaf42eff57c/resourceGroups/aml-course-dp100-2024/providers/Microsoft.MachineLearningServices/workspaces/dsrp-aml-dp100/#/experiments/198d9690-6de9-4f7f-bde2-99cc70cb1836/runs/c7cc1b91-c629-43e1-90a1-a096ba46fbbf.\n\n2024/09/26 02:30:43 INFO mlflow.tracking._tracking_service.client: 🧪 View experiment at: https://eastus.api.azureml.ms/mlflow/v2.0/subscriptions/0f61d6bf-ab3d-4df7-a666-edaf42eff57c/resourceGroups/aml-course-dp100-2024/providers/Microsoft.MachineLearningServices/workspaces/dsrp-aml-dp100/#/experiments/198d9690-6de9-4f7f-bde2-99cc70cb1836.\n\n2024/09/26 02:30:46 WARNING mlflow.sklearn: Failed to log evaluation dataset information to MLflow Tracking. Reason: BAD_REQUEST: Response: {'Error': {'Code': 'UserError', 'Severity': None, 'Message': 'Cannot log the same dataset with different context', 'MessageFormat': None, 'MessageParameters': None, 'ReferenceCode': None, 'DetailsUri': None, 'Target': None, 'Details': [], 'InnerError': None, 'DebugInfo': None, 'AdditionalInfo': None}, 'Correlation': {'operation': '02cc80350e72cbb14c21f4ba531241fb', 'request': '1765a0c4d55e2709'}, 'Environment': 'eastus', 'Location': 'eastus', 'Time': '2024-09-26T02:30:46.4315933+00:00', 'ComponentName': 'mlflow', 'statusCode': 400, 'error_code': 'BAD_REQUEST'}\n\n2024/09/26 02:30:47 INFO mlflow.utils.autologging_utils: Created MLflow autologging run with ID '064a83b1-f510-4f24-8fad-20e7277c317e', which will track hyperparameters, performance metrics, model artifacts, and lineage information for the current sklearn workflow\n\n2024/09/26 02:31:09 INFO mlflow.tracking._tracking_service.client: 🏃 View run dynamic_dog_8fnknybj at: https://eastus.api.azureml.ms/mlflow/v2.0/subscriptions/0f61d6bf-ab3d-4df7-a666-edaf42eff57c/resourceGroups/aml-course-dp100-2024/providers/Microsoft.MachineLearningServices/workspaces/dsrp-aml-dp100/#/experiments/198d9690-6de9-4f7f-bde2-99cc70cb1836/runs/064a83b1-f510-4f24-8fad-20e7277c317e.\n\n2024/09/26 02:31:09 INFO mlflow.tracking._tracking_service.client: 🧪 View experiment at: https://eastus.api.azureml.ms/mlflow/v2.0/subscriptions/0f61d6bf-ab3d-4df7-a666-edaf42eff57c/resourceGroups/aml-course-dp100-2024/providers/Microsoft.MachineLearningServices/workspaces/dsrp-aml-dp100/#/experiments/198d9690-6de9-4f7f-bde2-99cc70cb1836.\n\n2024/09/26 02:31:12 WARNING mlflow.sklearn: Failed to log evaluation dataset information to MLflow Tracking. Reason: BAD_REQUEST: Response: {'Error': {'Code': 'UserError', 'Severity': None, 'Message': 'Cannot log the same dataset with different context', 'MessageFormat': None, 'MessageParameters': None, 'ReferenceCode': None, 'DetailsUri': None, 'Target': None, 'Details': [], 'InnerError': None, 'DebugInfo': None, 'AdditionalInfo': None}, 'Correlation': {'operation': 'e92ae79b26546b02867f50a54798e4b2', 'request': 'bff75d8a33a4ca82'}, 'Environment': 'eastus', 'Location': 'eastus', 'Time': '2024-09-26T02:31:11.9783411+00:00', 'ComponentName': 'mlflow', 'statusCode': 400, 'error_code': 'BAD_REQUEST'}\n\n2024/09/26 02:31:12 INFO mlflow.utils.autologging_utils: Created MLflow autologging run with ID 'dbbcc66f-f153-4e59-b714-c38f7eedbc53', which will track hyperparameters, performance metrics, model artifacts, and lineage information for the current sklearn workflow\n\n2024/09/26 02:31:36 INFO mlflow.tracking._tracking_service.client: 🏃 View run plum_vase_lnj3q6n5 at: https://eastus.api.azureml.ms/mlflow/v2.0/subscriptions/0f61d6bf-ab3d-4df7-a666-edaf42eff57c/resourceGroups/aml-course-dp100-2024/providers/Microsoft.MachineLearningServices/workspaces/dsrp-aml-dp100/#/experiments/198d9690-6de9-4f7f-bde2-99cc70cb1836/runs/dbbcc66f-f153-4e59-b714-c38f7eedbc53.\n\n2024/09/26 02:31:36 INFO mlflow.tracking._tracking_service.client: 🧪 View experiment at: https://eastus.api.azureml.ms/mlflow/v2.0/subscriptions/0f61d6bf-ab3d-4df7-a666-edaf42eff57c/resourceGroups/aml-course-dp100-2024/providers/Microsoft.MachineLearningServices/workspaces/dsrp-aml-dp100/#/experiments/198d9690-6de9-4f7f-bde2-99cc70cb1836.\n\n2024/09/26 02:31:39 WARNING mlflow.sklearn: Failed to log evaluation dataset information to MLflow Tracking. Reason: BAD_REQUEST: Response: {'Error': {'Code': 'UserError', 'Severity': None, 'Message': 'Cannot log the same dataset with different context', 'MessageFormat': None, 'MessageParameters': None, 'ReferenceCode': None, 'DetailsUri': None, 'Target': None, 'Details': [], 'InnerError': None, 'DebugInfo': None, 'AdditionalInfo': None}, 'Correlation': {'operation': '42a14032b8b5d7798ae7b0873423fa8f', 'request': '758c588e596134cf'}, 'Environment': 'eastus', 'Location': 'eastus', 'Time': '2024-09-26T02:31:39.1772386+00:00', 'ComponentName': 'mlflow', 'statusCode': 400, 'error_code': 'BAD_REQUEST'}\n\n2024/09/26 02:31:40 INFO mlflow.utils.autologging_utils: Created MLflow autologging run with ID 'f07a1d43-a4d5-4f9e-bece-474a5c070bec', which will track hyperparameters, performance metrics, model artifacts, and lineage information for the current sklearn workflow\n\n2024/09/26 02:32:03 INFO mlflow.tracking._tracking_service.client: 🏃 View run green_carpet_gc9w1x9h at: https://eastus.api.azureml.ms/mlflow/v2.0/subscriptions/0f61d6bf-ab3d-4df7-a666-edaf42eff57c/resourceGroups/aml-course-dp100-2024/providers/Microsoft.MachineLearningServices/workspaces/dsrp-aml-dp100/#/experiments/198d9690-6de9-4f7f-bde2-99cc70cb1836/runs/f07a1d43-a4d5-4f9e-bece-474a5c070bec.\n\n2024/09/26 02:32:03 INFO mlflow.tracking._tracking_service.client: 🧪 View experiment at: https://eastus.api.azureml.ms/mlflow/v2.0/subscriptions/0f61d6bf-ab3d-4df7-a666-edaf42eff57c/resourceGroups/aml-course-dp100-2024/providers/Microsoft.MachineLearningServices/workspaces/dsrp-aml-dp100/#/experiments/198d9690-6de9-4f7f-bde2-99cc70cb1836.\n\n2024/09/26 02:32:06 WARNING mlflow.sklearn: Failed to log evaluation dataset information to MLflow Tracking. Reason: BAD_REQUEST: Response: {'Error': {'Code': 'UserError', 'Severity': None, 'Message': 'Cannot log the same dataset with different context', 'MessageFormat': None, 'MessageParameters': None, 'ReferenceCode': None, 'DetailsUri': None, 'Target': None, 'Details': [], 'InnerError': None, 'DebugInfo': None, 'AdditionalInfo': None}, 'Correlation': {'operation': '4088545f8cc6a513b418c031e79552ec', 'request': '72fd69f7e897d099'}, 'Environment': 'eastus', 'Location': 'eastus', 'Time': '2024-09-26T02:32:06.5894257+00:00', 'ComponentName': 'mlflow', 'statusCode': 400, 'error_code': 'BAD_REQUEST'}\n\n2024/09/26 02:32:07 INFO mlflow.utils.autologging_utils: Created MLflow autologging run with ID 'fcd56565-7949-4eef-bcf0-3853b5809bd7', which will track hyperparameters, performance metrics, model artifacts, and lineage information for the current sklearn workflow\n\n2024/09/26 02:32:29 INFO mlflow.tracking._tracking_service.client: 🏃 View run tidy_stone_96kk1str at: https://eastus.api.azureml.ms/mlflow/v2.0/subscriptions/0f61d6bf-ab3d-4df7-a666-edaf42eff57c/resourceGroups/aml-course-dp100-2024/providers/Microsoft.MachineLearningServices/workspaces/dsrp-aml-dp100/#/experiments/198d9690-6de9-4f7f-bde2-99cc70cb1836/runs/fcd56565-7949-4eef-bcf0-3853b5809bd7.\n\n2024/09/26 02:32:29 INFO mlflow.tracking._tracking_service.client: 🧪 View experiment at: https://eastus.api.azureml.ms/mlflow/v2.0/subscriptions/0f61d6bf-ab3d-4df7-a666-edaf42eff57c/resourceGroups/aml-course-dp100-2024/providers/Microsoft.MachineLearningServices/workspaces/dsrp-aml-dp100/#/experiments/198d9690-6de9-4f7f-bde2-99cc70cb1836.\n\n2024/09/26 02:32:32 WARNING mlflow.sklearn: Failed to log evaluation dataset information to MLflow Tracking. Reason: BAD_REQUEST: Response: {'Error': {'Code': 'UserError', 'Severity': None, 'Message': 'Cannot log the same dataset with different context', 'MessageFormat': None, 'MessageParameters': None, 'ReferenceCode': None, 'DetailsUri': None, 'Target': None, 'Details': [], 'InnerError': None, 'DebugInfo': None, 'AdditionalInfo': None}, 'Correlation': {'operation': 'f84f332643747cef4984db6902033da2', 'request': 'cb41e8dab7dc2ffa'}, 'Environment': 'eastus', 'Location': 'eastus', 'Time': '2024-09-26T02:32:32.1940779+00:00', 'ComponentName': 'mlflow', 'statusCode': 400, 'error_code': 'BAD_REQUEST'}\n\n2024/09/26 02:32:33 INFO mlflow.utils.autologging_utils: Created MLflow autologging run with ID '2007b0e4-7c4b-4df0-ba53-0e5e6d98eb77', which will track hyperparameters, performance metrics, model artifacts, and lineage information for the current sklearn workflow\n\n2024/09/26 02:32:57 INFO mlflow.tracking._tracking_service.client: 🏃 View run heroic_ship_9d3flcrv at: https://eastus.api.azureml.ms/mlflow/v2.0/subscriptions/0f61d6bf-ab3d-4df7-a666-edaf42eff57c/resourceGroups/aml-course-dp100-2024/providers/Microsoft.MachineLearningServices/workspaces/dsrp-aml-dp100/#/experiments/198d9690-6de9-4f7f-bde2-99cc70cb1836/runs/2007b0e4-7c4b-4df0-ba53-0e5e6d98eb77.\n\n2024/09/26 02:32:57 INFO mlflow.tracking._tracking_service.client: 🧪 View experiment at: https://eastus.api.azureml.ms/mlflow/v2.0/subscriptions/0f61d6bf-ab3d-4df7-a666-edaf42eff57c/resourceGroups/aml-course-dp100-2024/providers/Microsoft.MachineLearningServices/workspaces/dsrp-aml-dp100/#/experiments/198d9690-6de9-4f7f-bde2-99cc70cb1836.\n\n2024/09/26 02:33:00 WARNING mlflow.sklearn: Failed to log evaluation dataset information to MLflow Tracking. Reason: BAD_REQUEST: Response: {'Error': {'Code': 'UserError', 'Severity': None, 'Message': 'Cannot log the same dataset with different context', 'MessageFormat': None, 'MessageParameters': None, 'ReferenceCode': None, 'DetailsUri': None, 'Target': None, 'Details': [], 'InnerError': None, 'DebugInfo': None, 'AdditionalInfo': None}, 'Correlation': {'operation': '3ddd786950a59d4f7e142f0f7a81264a', 'request': 'b326a980527519b5'}, 'Environment': 'eastus', 'Location': 'eastus', 'Time': '2024-09-26T02:33:00.8123428+00:00', 'ComponentName': 'mlflow', 'statusCode': 400, 'error_code': 'BAD_REQUEST'}\n\n2024/09/26 02:33:01 INFO mlflow.utils.autologging_utils: Created MLflow autologging run with ID '70efca2e-8ad6-4945-9ffe-65cdbc0f6e8c', which will track hyperparameters, performance metrics, model artifacts, and lineage information for the current sklearn workflow\n\n2024/09/26 02:33:22 INFO mlflow.tracking._tracking_service.client: 🏃 View run lucid_lime_j24rg0px at: https://eastus.api.azureml.ms/mlflow/v2.0/subscriptions/0f61d6bf-ab3d-4df7-a666-edaf42eff57c/resourceGroups/aml-course-dp100-2024/providers/Microsoft.MachineLearningServices/workspaces/dsrp-aml-dp100/#/experiments/198d9690-6de9-4f7f-bde2-99cc70cb1836/runs/70efca2e-8ad6-4945-9ffe-65cdbc0f6e8c.\n\n2024/09/26 02:33:22 INFO mlflow.tracking._tracking_service.client: 🧪 View experiment at: https://eastus.api.azureml.ms/mlflow/v2.0/subscriptions/0f61d6bf-ab3d-4df7-a666-edaf42eff57c/resourceGroups/aml-course-dp100-2024/providers/Microsoft.MachineLearningServices/workspaces/dsrp-aml-dp100/#/experiments/198d9690-6de9-4f7f-bde2-99cc70cb1836.\n\n2024/09/26 02:33:25 WARNING mlflow.sklearn: Failed to log evaluation dataset information to MLflow Tracking. Reason: BAD_REQUEST: Response: {'Error': {'Code': 'UserError', 'Severity': None, 'Message': 'Cannot log the same dataset with different context', 'MessageFormat': None, 'MessageParameters': None, 'ReferenceCode': None, 'DetailsUri': None, 'Target': None, 'Details': [], 'InnerError': None, 'DebugInfo': None, 'AdditionalInfo': None}, 'Correlation': {'operation': 'c2315c233d6198deb5cd67179f4e93bf', 'request': '6e317c414ea9cfc7'}, 'Environment': 'eastus', 'Location': 'eastus', 'Time': '2024-09-26T02:33:25.3799317+00:00', 'ComponentName': 'mlflow', 'statusCode': 400, 'error_code': 'BAD_REQUEST'}\n\n2024/09/26 02:33:26 INFO mlflow.utils.autologging_utils: Created MLflow autologging run with ID '99230ec9-3aa7-4978-a14e-247e5565a8cb', which will track hyperparameters, performance metrics, model artifacts, and lineage information for the current sklearn workflow\n\n2024/09/26 02:33:50 INFO mlflow.tracking._tracking_service.client: 🏃 View run silver_truck_n06nlbx1 at: https://eastus.api.azureml.ms/mlflow/v2.0/subscriptions/0f61d6bf-ab3d-4df7-a666-edaf42eff57c/resourceGroups/aml-course-dp100-2024/providers/Microsoft.MachineLearningServices/workspaces/dsrp-aml-dp100/#/experiments/198d9690-6de9-4f7f-bde2-99cc70cb1836/runs/99230ec9-3aa7-4978-a14e-247e5565a8cb.\n\n2024/09/26 02:33:50 INFO mlflow.tracking._tracking_service.client: 🧪 View experiment at: https://eastus.api.azureml.ms/mlflow/v2.0/subscriptions/0f61d6bf-ab3d-4df7-a666-edaf42eff57c/resourceGroups/aml-course-dp100-2024/providers/Microsoft.MachineLearningServices/workspaces/dsrp-aml-dp100/#/experiments/198d9690-6de9-4f7f-bde2-99cc70cb1836.\n\n2024/09/26 02:33:53 WARNING mlflow.sklearn: Failed to log evaluation dataset information to MLflow Tracking. Reason: BAD_REQUEST: Response: {'Error': {'Code': 'UserError', 'Severity': None, 'Message': 'Cannot log the same dataset with different context', 'MessageFormat': None, 'MessageParameters': None, 'ReferenceCode': None, 'DetailsUri': None, 'Target': None, 'Details': [], 'InnerError': None, 'DebugInfo': None, 'AdditionalInfo': None}, 'Correlation': {'operation': 'b4c0a5b58144f09f0ed4a8abbed777e2', 'request': 'e403353c561566f3'}, 'Environment': 'eastus', 'Location': 'eastus', 'Time': '2024-09-26T02:33:53.2288099+00:00', 'ComponentName': 'mlflow', 'statusCode': 400, 'error_code': 'BAD_REQUEST'}\n\n2024/09/26 02:33:54 INFO mlflow.utils.autologging_utils: Created MLflow autologging run with ID '5a99339d-c3d2-4af4-b199-ac2d37d69192', which will track hyperparameters, performance metrics, model artifacts, and lineage information for the current sklearn workflow\n\n2024/09/26 02:34:16 INFO mlflow.tracking._tracking_service.client: 🏃 View run polite_fox_w4z0nzsy at: https://eastus.api.azureml.ms/mlflow/v2.0/subscriptions/0f61d6bf-ab3d-4df7-a666-edaf42eff57c/resourceGroups/aml-course-dp100-2024/providers/Microsoft.MachineLearningServices/workspaces/dsrp-aml-dp100/#/experiments/198d9690-6de9-4f7f-bde2-99cc70cb1836/runs/5a99339d-c3d2-4af4-b199-ac2d37d69192.\n\n2024/09/26 02:34:16 INFO mlflow.tracking._tracking_service.client: 🧪 View experiment at: https://eastus.api.azureml.ms/mlflow/v2.0/subscriptions/0f61d6bf-ab3d-4df7-a666-edaf42eff57c/resourceGroups/aml-course-dp100-2024/providers/Microsoft.MachineLearningServices/workspaces/dsrp-aml-dp100/#/experiments/198d9690-6de9-4f7f-bde2-99cc70cb1836.\n\n2024/09/26 02:34:19 WARNING mlflow.sklearn: Failed to log evaluation dataset information to MLflow Tracking. Reason: BAD_REQUEST: Response: {'Error': {'Code': 'UserError', 'Severity': None, 'Message': 'Cannot log the same dataset with different context', 'MessageFormat': None, 'MessageParameters': None, 'ReferenceCode': None, 'DetailsUri': None, 'Target': None, 'Details': [], 'InnerError': None, 'DebugInfo': None, 'AdditionalInfo': None}, 'Correlation': {'operation': '06cd2eba7a1706eec2c426bd1c599e1b', 'request': 'eb0200cc7597deeb'}, 'Environment': 'eastus', 'Location': 'eastus', 'Time': '2024-09-26T02:34:19.707301+00:00', 'ComponentName': 'mlflow', 'statusCode': 400, 'error_code': 'BAD_REQUEST'}\n\n"
        },
        {
          "output_type": "execute_result",
          "execution_count": 60,
          "data": {
            "text/plain": "{'max_depth': 9}"
          },
          "metadata": {}
        }
      ],
      "execution_count": 60,
      "metadata": {
        "jupyter": {
          "source_hidden": false,
          "outputs_hidden": false
        },
        "nteract": {
          "transient": {
            "deleting": false
          }
        },
        "gather": {
          "logged": 1727318061840
        }
      }
    },
    {
      "cell_type": "code",
      "source": [
        "lgbm_ml_processor.train(\n",
        "    params={'max_depth': 9}\n",
        ")"
      ],
      "outputs": [
        {
          "output_type": "stream",
          "name": "stderr",
          "text": "2024/09/26 02:34:55 INFO mlflow.tracking.fluent: Autologging successfully enabled for lightgbm.\n2024/09/26 02:34:55 INFO mlflow.tracking.fluent: Autologging successfully enabled for xgboost.\n2024/09/26 02:34:55 WARNING mlflow.utils.autologging_utils: MLflow sklearn autologging is known to be compatible with 0.24.1 <= scikit-learn <= 1.5.1, but the installed version is 1.5.2. If you encounter errors during autologging, try upgrading / downgrading scikit-learn to a compatible version, or try upgrading MLflow.\n2024/09/26 02:34:56 INFO mlflow.tracking.fluent: Autologging successfully enabled for sklearn.\n2024/09/26 02:35:23 WARNING mlflow.sklearn: Failed to log evaluation dataset information to MLflow Tracking. Reason: BAD_REQUEST: Response: {'Error': {'Code': 'UserError', 'Severity': None, 'Message': 'Cannot log the same dataset with different context', 'MessageFormat': None, 'MessageParameters': None, 'ReferenceCode': None, 'DetailsUri': None, 'Target': None, 'Details': [], 'InnerError': None, 'DebugInfo': None, 'AdditionalInfo': None}, 'Correlation': {'operation': '0d1d26aa9d601f5bd794714c74efc2b0', 'request': 'cc032fc768796879'}, 'Environment': 'eastus', 'Location': 'eastus', 'Time': '2024-09-26T02:35:23.4652084+00:00', 'ComponentName': 'mlflow', 'statusCode': 400, 'error_code': 'BAD_REQUEST'}\n2024/09/26 02:35:24 WARNING mlflow.utils.autologging_utils: Encountered unexpected error during sklearn autologging: UserError: Resource Conflict: ArtifactId ExperimentRun/dcid.703b637a-a6ae-4a4a-b2b5-875755961da2/metric_info.json already exists.\n2024/09/26 02:35:25 WARNING mlflow.utils.autologging_utils: Encountered unexpected error during sklearn autologging: UserError: Resource Conflict: ArtifactId ExperimentRun/dcid.703b637a-a6ae-4a4a-b2b5-875755961da2/metric_info.json already exists.\n2024/09/26 02:35:25 WARNING mlflow.utils.autologging_utils: Encountered unexpected error during sklearn autologging: UserError: Resource Conflict: ArtifactId ExperimentRun/dcid.703b637a-a6ae-4a4a-b2b5-875755961da2/metric_info.json already exists.\n\u001b[32m2024-09-26 02:35:25.975\u001b[0m | \u001b[1mINFO    \u001b[0m | \u001b[36m__main__\u001b[0m:\u001b[36mtrain\u001b[0m:\u001b[36m121\u001b[0m - \u001b[1m LGBM Classifier with MachineLearningProcessor OPTIMIZED Accuracy: 0.8424072367870006\u001b[0m\n\u001b[32m2024-09-26 02:35:25.977\u001b[0m | \u001b[1mINFO    \u001b[0m | \u001b[36m__main__\u001b[0m:\u001b[36mtrain\u001b[0m:\u001b[36m122\u001b[0m - \u001b[1m LGBM Classifier with MachineLearningProcessor OPTIMIZED Recall: 0.6929187471629596\u001b[0m\n\u001b[32m2024-09-26 02:35:25.978\u001b[0m | \u001b[1mINFO    \u001b[0m | \u001b[36m__main__\u001b[0m:\u001b[36mtrain\u001b[0m:\u001b[36m123\u001b[0m - \u001b[1m LGBM Classifier with MachineLearningProcessor OPTIMIZED Precision: 0.8524361301130811\u001b[0m\n\u001b[32m2024-09-26 02:35:25.980\u001b[0m | \u001b[1mINFO    \u001b[0m | \u001b[36m__main__\u001b[0m:\u001b[36mtrain\u001b[0m:\u001b[36m124\u001b[0m - \u001b[1m LGBM Classifier with MachineLearningProcessor OPTIMIZED F1-Score: 0.7644444444444445\u001b[0m\n2024/09/26 02:35:26 INFO mlflow.tracking._tracking_service.client: 🏃 View run LGBM Classifier with MachineLearningProcessor OPTIMIZED at: https://eastus.api.azureml.ms/mlflow/v2.0/subscriptions/0f61d6bf-ab3d-4df7-a666-edaf42eff57c/resourceGroups/aml-course-dp100-2024/providers/Microsoft.MachineLearningServices/workspaces/dsrp-aml-dp100/#/experiments/198d9690-6de9-4f7f-bde2-99cc70cb1836/runs/703b637a-a6ae-4a4a-b2b5-875755961da2.\n2024/09/26 02:35:26 INFO mlflow.tracking._tracking_service.client: 🧪 View experiment at: https://eastus.api.azureml.ms/mlflow/v2.0/subscriptions/0f61d6bf-ab3d-4df7-a666-edaf42eff57c/resourceGroups/aml-course-dp100-2024/providers/Microsoft.MachineLearningServices/workspaces/dsrp-aml-dp100/#/experiments/198d9690-6de9-4f7f-bde2-99cc70cb1836.\n"
        },
        {
          "output_type": "stream",
          "name": "stdout",
          "text": "[LightGBM] [Info] Number of positive: 35412, number of negative: 60100\n[LightGBM] [Info] Auto-choosing row-wise multi-threading, the overhead of testing was 0.056439 seconds.\nYou can set `force_row_wise=true` to remove the overhead.\nAnd if memory is not enough, you can set `force_col_wise=true`.\n[LightGBM] [Info] Total Bins 996\n[LightGBM] [Info] Number of data points in the train set: 95512, number of used features: 64\n[LightGBM] [Info] [binary:BoostFromScore]: pavg=0.370760 -> initscore=-0.528959\n[LightGBM] [Info] Start training from score -0.528959\n[[14009  1057]\n [ 2706  6106]]\n              precision    recall  f1-score   support\n\n         0.0       0.84      0.93      0.88     15066\n         1.0       0.85      0.69      0.76      8812\n\n    accuracy                           0.84     23878\n   macro avg       0.85      0.81      0.82     23878\nweighted avg       0.84      0.84      0.84     23878\n\n"
        }
      ],
      "execution_count": 61,
      "metadata": {
        "jupyter": {
          "source_hidden": false,
          "outputs_hidden": false
        },
        "nteract": {
          "transient": {
            "deleting": false
          }
        },
        "gather": {
          "logged": 1727318127918
        }
      }
    },
    {
      "cell_type": "markdown",
      "source": [
        "#"
      ],
      "metadata": {
        "nteract": {
          "transient": {
            "deleting": false
          }
        }
      }
    }
  ],
  "metadata": {
    "kernelspec": {
      "name": "dsrp-mlmodeling",
      "language": "python",
      "display_name": "Python Machine Learning Workloads DSRP"
    },
    "language_info": {
      "name": "python",
      "version": "3.9.19",
      "mimetype": "text/x-python",
      "codemirror_mode": {
        "name": "ipython",
        "version": 3
      },
      "pygments_lexer": "ipython3",
      "nbconvert_exporter": "python",
      "file_extension": ".py"
    },
    "microsoft": {
      "ms_spell_check": {
        "ms_spell_check_language": "en"
      },
      "host": {
        "AzureML": {
          "notebookHasBeenCompleted": true
        }
      }
    },
    "kernel_info": {
      "name": "dsrp-mlmodeling"
    },
    "nteract": {
      "version": "nteract-front-end@1.0.0"
    }
  },
  "nbformat": 4,
  "nbformat_minor": 2
}