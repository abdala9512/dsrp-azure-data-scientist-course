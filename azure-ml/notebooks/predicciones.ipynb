{
  "cells": [
    {
      "cell_type": "markdown",
      "source": [
        "\n",
        "# Clase 12: Predicciones\n",
        "## DP-100 Azure Data Scientist / DSRP\n",
        "## Clase 2 Octubre\n",
        "\n",
        "### Dataset Utilizado: Hotel Booking\n",
        "\n",
        "https://www.kaggle.com/code/touba7/hotel-booking"
      ],
      "metadata": {
        "nteract": {
          "transient": {
            "deleting": false
          }
        }
      }
    },
    {
      "cell_type": "code",
      "source": [
        "from azure.ai.ml import MLClient, Input\n",
        "from azure.identity import DefaultAzureCredential\n",
        "from azure.ai.ml.entities import Model\n",
        "from azure.ai.ml.constants import AssetTypes\n",
        "\n",
        "MODEL_NAME = \"dsrp-booking-model\"\n",
        "\n",
        "ml_client = MLClient.from_config(credential=DefaultAzureCredential())\n",
        "\n",
        "model = ml_client.models.get(name=MODEL_NAME, label=\"latest\")\n",
        "model"
      ],
      "outputs": [
        {
          "output_type": "stream",
          "name": "stderr",
          "text": "Found the config file in: /config.json\n"
        },
        {
          "output_type": "execute_result",
          "execution_count": 1,
          "data": {
            "text/plain": "Model({'job_name': 'dsrp-machine-learning-job-6', 'intellectual_property': None, 'is_anonymous': False, 'auto_increment_version': False, 'auto_delete_setting': None, 'name': 'dsrp-booking-model', 'description': None, 'tags': {'alias': 'CHAMPION'}, 'properties': {}, 'print_as_yaml': False, 'id': '/subscriptions/0f61d6bf-ab3d-4df7-a666-edaf42eff57c/resourceGroups/aml-course-dp100-2024/providers/Microsoft.MachineLearningServices/workspaces/dsrp-aml-dp100/models/dsrp-booking-model/versions/2', 'Resource__source_path': '', 'base_path': '/mnt/batch/tasks/shared/LS_root/mounts/clusters/test1-dsrp-compute/code/Users/miguel.arquez12/dsrp-azure-data-scientist-course/notebooks', 'creation_context': <azure.ai.ml.entities._system_data.SystemData object at 0x7f1ac1251570>, 'serialize': <msrest.serialization.Serializer object at 0x7f1ac1251cf0>, 'version': '2', 'latest_version': None, 'path': 'azureml://subscriptions/0f61d6bf-ab3d-4df7-a666-edaf42eff57c/resourceGroups/aml-course-dp100-2024/workspaces/dsrp-aml-dp100/datastores/workspaceartifactstore/paths/ExperimentRun/dcid.dsrp-machine-learning-job-6/model', 'datastore': None, 'utc_time_created': None, 'flavors': {'python_function': {'model_path': 'model.pkl', 'predict_fn': 'predict', 'loader_module': 'mlflow.sklearn', 'python_version': '3.10.14', 'env': '{\\n  \"conda\": \"conda.yaml\",\\n  \"virtualenv\": \"python_env.yaml\"\\n}'}, 'sklearn': {'pickled_model': 'model.pkl', 'sklearn_version': '1.5.2', 'serialization_format': 'cloudpickle', 'code': ''}}, 'arm_type': 'model_version', 'type': 'mlflow_model', 'stage': 'Development'})"
          },
          "metadata": {}
        }
      ],
      "execution_count": 1,
      "metadata": {
        "gather": {
          "logged": 1729724483581
        }
      }
    },
    {
      "cell_type": "markdown",
      "source": [
        "# 1. Batch Deployment"
      ],
      "metadata": {
        "nteract": {
          "transient": {
            "deleting": false
          }
        }
      }
    },
    {
      "cell_type": "code",
      "source": [
        "import uuid\n",
        "\n",
        "from azure.ai.ml.entities import (\n",
        "    BatchEndpoint,\n",
        "    ModelBatchDeployment,\n",
        "    ModelBatchDeploymentSettings,\n",
        "    Model,\n",
        "    AmlCompute,\n",
        "    Data,\n",
        "    BatchRetrySettings,\n",
        "    CodeConfiguration,\n",
        "    Environment,\n",
        ")\n",
        "from azure.ai.ml.constants import AssetTypes, BatchDeploymentOutputAction\n",
        "\n",
        "\n",
        "batch_endpoint_name = f\"b-booking-endpoint-\" + str(uuid.uuid4())[:8]\n",
        "endpoint = BatchEndpoint(\n",
        "    name=batch_endpoint_name,\n",
        "    description=\"Modelo de prediccion de cancelaciones\",\n",
        ")\n",
        "\n",
        "ml_client.batch_endpoints.begin_create_or_update(endpoint).result()"
      ],
      "outputs": [
        {
          "output_type": "execute_result",
          "execution_count": 2,
          "data": {
            "text/plain": "BatchEndpoint({'scoring_uri': 'https://b-booking-endpoint-6ae02bd4.eastus.inference.ml.azure.com/jobs', 'openapi_uri': None, 'provisioning_state': 'Succeeded', 'name': 'b-booking-endpoint-6ae02bd4', 'description': 'Modelo de prediccion de cancelaciones', 'tags': {}, 'properties': {'BatchEndpointCreationApiVersion': '2023-10-01', 'azureml.onlineendpointid': '/subscriptions/0f61d6bf-ab3d-4df7-a666-edaf42eff57c/resourceGroups/aml-course-dp100-2024/providers/Microsoft.MachineLearningServices/workspaces/dsrp-aml-dp100/batchEndpoints/b-booking-endpoint-6ae02bd4'}, 'print_as_yaml': False, 'id': '/subscriptions/0f61d6bf-ab3d-4df7-a666-edaf42eff57c/resourceGroups/aml-course-dp100-2024/providers/Microsoft.MachineLearningServices/workspaces/dsrp-aml-dp100/batchEndpoints/b-booking-endpoint-6ae02bd4', 'Resource__source_path': '', 'base_path': '/mnt/batch/tasks/shared/LS_root/mounts/clusters/test1-dsrp-compute/code/Users/miguel.arquez12/dsrp-azure-data-scientist-course/notebooks', 'creation_context': None, 'serialize': <msrest.serialization.Serializer object at 0x7f1ac12868c0>, 'auth_mode': 'aad_token', 'location': 'eastus', 'defaults': <azure.ai.ml._restclient.v2023_10_01.models._models_py3.BatchEndpointDefaults object at 0x7f1ac1286500>})"
          },
          "metadata": {}
        }
      ],
      "execution_count": 2,
      "metadata": {
        "jupyter": {
          "source_hidden": false,
          "outputs_hidden": false
        },
        "nteract": {
          "transient": {
            "deleting": false
          }
        },
        "gather": {
          "logged": 1729724515300
        }
      }
    },
    {
      "cell_type": "markdown",
      "source": [
        "### Compute cluster"
      ],
      "metadata": {
        "nteract": {
          "transient": {
            "deleting": false
          }
        }
      }
    },
    {
      "cell_type": "code",
      "source": [
        "compute_name = \"dsrp-cluster\"\n",
        "if not any(filter(lambda m: m.name == compute_name, ml_client.compute.list())):\n",
        "    compute_cluster = AmlCompute( \n",
        "        name=compute_name, description=\"amlcompute para despliegues de modelos\", min_instances=0, max_instances=1,\n",
        "        size=\"Standard_D1\"\n",
        "    )\n",
        "    ml_client.begin_create_or_update(compute_cluster).result()"
      ],
      "outputs": [],
      "execution_count": 3,
      "metadata": {
        "jupyter": {
          "source_hidden": false,
          "outputs_hidden": false
        },
        "nteract": {
          "transient": {
            "deleting": false
          }
        },
        "gather": {
          "logged": 1729724546283
        }
      }
    },
    {
      "cell_type": "markdown",
      "source": [
        "### Deployment"
      ],
      "metadata": {
        "nteract": {
          "transient": {
            "deleting": false
          }
        }
      }
    },
    {
      "cell_type": "code",
      "source": [
        "deployment = ModelBatchDeployment(\n",
        "    name=\"booking-dsp\",\n",
        "    description=\"DSRP predicciones de cancelaciones de hoteles\",\n",
        "    endpoint_name=endpoint.name,\n",
        "    model=model,\n",
        "    compute=compute_name,\n",
        "    settings=ModelBatchDeploymentSettings(\n",
        "        instance_count=1,\n",
        "        max_concurrency_per_instance=2,\n",
        "        mini_batch_size=10,\n",
        "        output_action=BatchDeploymentOutputAction.APPEND_ROW,\n",
        "        output_file_name=\"predictions.csv\",\n",
        "        retry_settings=BatchRetrySettings(max_retries=3, timeout=300),\n",
        "        logging_level=\"info\",\n",
        "    ),\n",
        ")\n",
        "\n",
        "ml_client.batch_deployments.begin_create_or_update(deployment).result()"
      ],
      "outputs": [
        {
          "output_type": "stream",
          "name": "stderr",
          "text": "Class ModelBatchDeploymentSettings: This is an experimental class, and may change at any time. Please see https://aka.ms/azuremlexperimental for more information.\nClass ModelBatchDeployment: This is an experimental class, and may change at any time. Please see https://aka.ms/azuremlexperimental for more information.\n"
        },
        {
          "output_type": "execute_result",
          "execution_count": 4,
          "data": {
            "text/plain": "BatchDeployment({'provisioning_state': 'Succeeded', 'endpoint_name': 'b-booking-endpoint-6ae02bd4', 'type': None, 'name': 'booking-dsp', 'description': 'DSRP predicciones de cancelaciones de hoteles', 'tags': {}, 'properties': {}, 'print_as_yaml': False, 'id': '/subscriptions/0f61d6bf-ab3d-4df7-a666-edaf42eff57c/resourceGroups/aml-course-dp100-2024/providers/Microsoft.MachineLearningServices/workspaces/dsrp-aml-dp100/batchEndpoints/b-booking-endpoint-6ae02bd4/deployments/booking-dsp', 'Resource__source_path': '', 'base_path': '/mnt/batch/tasks/shared/LS_root/mounts/clusters/test1-dsrp-compute/code/Users/miguel.arquez12/dsrp-azure-data-scientist-course/notebooks', 'creation_context': <azure.ai.ml.entities._system_data.SystemData object at 0x7f1ac1286980>, 'serialize': <msrest.serialization.Serializer object at 0x7f1ac1286800>, 'model': '/subscriptions/0f61d6bf-ab3d-4df7-a666-edaf42eff57c/resourceGroups/aml-course-dp100-2024/providers/Microsoft.MachineLearningServices/workspaces/dsrp-aml-dp100/models/dsrp-booking-model/versions/2', 'code_configuration': None, 'environment': None, 'environment_variables': {}, 'compute': '/subscriptions/0f61d6bf-ab3d-4df7-a666-edaf42eff57c/resourceGroups/aml-course-dp100-2024/providers/Microsoft.MachineLearningServices/workspaces/dsrp-aml-dp100/computes/dsrp-cluster', 'resources': {'instance_count': 1, 'properties': {}}, 'output_action': 'append_row', 'output_file_name': 'predictions.csv', 'error_threshold': -1, 'retry_settings': <azure.ai.ml.entities._deployment.deployment_settings.BatchRetrySettings object at 0x7f1ac1285a50>, 'logging_level': 'Info', 'mini_batch_size': 10, 'max_concurrency_per_instance': 2})"
          },
          "metadata": {}
        }
      ],
      "execution_count": 4,
      "metadata": {
        "jupyter": {
          "source_hidden": false,
          "outputs_hidden": false
        },
        "nteract": {
          "transient": {
            "deleting": false
          }
        },
        "gather": {
          "logged": 1729724608733
        }
      }
    },
    {
      "cell_type": "markdown",
      "source": [
        "### Prueba de Batch deployment"
      ],
      "metadata": {
        "nteract": {
          "transient": {
            "deleting": false
          }
        }
      }
    },
    {
      "cell_type": "code",
      "source": [
        "ml_client.data"
      ],
      "outputs": [
        {
          "output_type": "execute_result",
          "execution_count": 6,
          "data": {
            "text/plain": "<azure.ai.ml.operations._data_operations.DataOperations at 0x7f1ac1252ef0>"
          },
          "metadata": {}
        }
      ],
      "execution_count": 6,
      "metadata": {
        "jupyter": {
          "source_hidden": false,
          "outputs_hidden": false
        },
        "nteract": {
          "transient": {
            "deleting": false
          }
        },
        "gather": {
          "logged": 1729729345417
        }
      }
    },
    {
      "cell_type": "code",
      "source": [
        "data_asset = ml_client.data.get(\"gold-dsrp-booking-prod\", version=\"2\")\n",
        "data_asset"
      ],
      "outputs": [
        {
          "output_type": "execute_result",
          "execution_count": 7,
          "data": {
            "text/plain": "Data({'path': 'azureml://subscriptions/0f61d6bf-ab3d-4df7-a666-edaf42eff57c/resourcegroups/aml-course-dp100-2024/workspaces/dsrp-aml-dp100/datastores/workspaceblobstore/paths/UI/2024-10-23_233720_UTC/', 'skip_validation': False, 'mltable_schema_url': None, 'referenced_uris': None, 'type': 'uri_folder', 'is_anonymous': False, 'auto_increment_version': False, 'auto_delete_setting': None, 'name': 'gold-dsrp-booking-prod', 'description': None, 'tags': {}, 'properties': {}, 'print_as_yaml': False, 'id': '/subscriptions/0f61d6bf-ab3d-4df7-a666-edaf42eff57c/resourceGroups/aml-course-dp100-2024/providers/Microsoft.MachineLearningServices/workspaces/dsrp-aml-dp100/data/gold-dsrp-booking-prod/versions/2', 'Resource__source_path': '', 'base_path': '/mnt/batch/tasks/shared/LS_root/mounts/clusters/test1-dsrp-compute/code/Users/miguel.arquez12/dsrp-azure-data-scientist-course/notebooks', 'creation_context': <azure.ai.ml.entities._system_data.SystemData object at 0x7f1acbf1bdf0>, 'serialize': <msrest.serialization.Serializer object at 0x7f1acbf1be50>, 'version': '2', 'latest_version': None, 'datastore': None})"
          },
          "metadata": {}
        }
      ],
      "execution_count": 7,
      "metadata": {
        "jupyter": {
          "source_hidden": false,
          "outputs_hidden": false
        },
        "nteract": {
          "transient": {
            "deleting": false
          }
        },
        "gather": {
          "logged": 1729729364057
        }
      }
    },
    {
      "cell_type": "code",
      "source": [
        "input = Input(type=AssetTypes.URI_FOLDER, path=data_asset.id)\n",
        "job = ml_client.batch_endpoints.invoke(\n",
        "    deployment_name=deployment.name, endpoint_name=endpoint.name, input=input\n",
        ")"
      ],
      "outputs": [],
      "execution_count": 8,
      "metadata": {
        "jupyter": {
          "source_hidden": false,
          "outputs_hidden": false
        },
        "nteract": {
          "transient": {
            "deleting": false
          }
        },
        "gather": {
          "logged": 1729729378557
        }
      }
    },
    {
      "cell_type": "code",
      "source": [
        "scoring_job = list(ml_client.jobs.list(parent_job_name=job.name))[0]\n",
        "scoring_job"
      ],
      "outputs": [
        {
          "output_type": "execute_result",
          "execution_count": 10,
          "data": {
            "text/plain": "_BaseJob({'type': 'base', 'status': 'Queued', 'log_files': None, 'name': '9a56211c-80c0-4bb5-8cc8-a4fa70f282e8', 'description': None, 'tags': {'azureml.nodeid': '7df31b81', 'azureml.pipeline': 'batchjob-9191587a-d590-4401-8778-856e49c1969b', '_aml_system_ComputeTargetStatus': '{\"AllocationState\":\"steady\",\"PreparingNodeCount\":0,\"RunningNodeCount\":0,\"CurrentNodeCount\":0}'}, 'properties': {'azureml.deploymentname': 'booking-dsp', 'azureml.endpointname': 'b-booking-endpoint-6ae02bd4', 'azureml.pipelineid': '1c4b0960-116a-4244-85e5-cd9b8676b1a5', 'ContentSnapshotId': '1154de40-a7d5-41fc-9e27-6f1cc9c3c5fc', 'StepType': 'PythonScriptStep', 'ComputeTargetType': 'AmlCompute', 'azureml.moduleid': '7df31b81-e1b8-40d4-b357-35228b9dbb7f', 'azureml.moduleFamilyId': '5d9c2f86-1435-4d34-a73c-d93de51e2cc4', 'azureml.moduleName': 'BatchScoring', 'azureml.runsource': 'azureml.StepRun', 'azureml.nodeid': '7df31b81', 'azureml.pipelinerunid': 'batchjob-9191587a-d590-4401-8778-856e49c1969b', 'azureml.pipeline': 'batchjob-9191587a-d590-4401-8778-856e49c1969b', 'azureml.rootpipelinerunid': 'batchjob-9191587a-d590-4401-8778-856e49c1969b', 'azureml.pipelineComponent': 'masterescloud', 'azureml.prsdriver.version': 'v1', 'azureml.prsdriver.snapshotcreator': 'collie', 'azureml.parallelrunstep': 'true', 'azureml.prs.passcollie': 'true', 'azureml.collieComponent': 'collie-eastus', 'CollieRunType': 'Collie.ParentRun', 'azureml.collieJobType': 'Legacy', '_azureml.ComputeTargetType': 'amlctrain', '_azureml.ClusterName': 'dsrp-cluster', 'ProcessInfoFile': 'azureml-logs/process_info.json', 'ProcessStatusFile': 'azureml-logs/process_status.json'}, 'print_as_yaml': False, 'id': '/subscriptions/0f61d6bf-ab3d-4df7-a666-edaf42eff57c/resourceGroups/aml-course-dp100-2024/providers/Microsoft.MachineLearningServices/workspaces/dsrp-aml-dp100/jobs/9a56211c-80c0-4bb5-8cc8-a4fa70f282e8', 'Resource__source_path': '', 'base_path': '/mnt/batch/tasks/shared/LS_root/mounts/clusters/test1-dsrp-compute/code/Users/miguel.arquez12/dsrp-azure-data-scientist-course/notebooks', 'creation_context': <azure.ai.ml.entities._system_data.SystemData object at 0x7f1aa9bafe20>, 'serialize': <msrest.serialization.Serializer object at 0x7f1aa9baf640>, 'display_name': 'frosty_longan_qw9tsjd2', 'experiment_name': '05ad49f6-2042-4a26-81a5-cc58fb74cfed', 'compute': 'dsrp-cluster', 'services': {}})",
            "text/html": "<table style=\"width:100%\"><tr><th>Experiment</th><th>Name</th><th>Type</th><th>Status</th><th>Details Page</th></tr><tr><td>05ad49f6-2042-4a26-81a5-cc58fb74cfed</td><td>9a56211c-80c0-4bb5-8cc8-a4fa70f282e8</td><td>base</td><td>Queued</td><td><a href=\"https://ml.azure.com/runs/9a56211c-80c0-4bb5-8cc8-a4fa70f282e8?wsid=/subscriptions/0f61d6bf-ab3d-4df7-a666-edaf42eff57c/resourcegroups/aml-course-dp100-2024/workspaces/dsrp-aml-dp100\" target=\"_blank\" rel=\"noopener\">Link to Azure Machine Learning studio</a></td></tr></table>"
          },
          "metadata": {}
        }
      ],
      "execution_count": 10,
      "metadata": {
        "jupyter": {
          "source_hidden": false,
          "outputs_hidden": false
        },
        "nteract": {
          "transient": {
            "deleting": false
          }
        },
        "gather": {
          "logged": 1729729558624
        }
      }
    },
    {
      "cell_type": "code",
      "source": [
        "ml_client.jobs.download(name=scoring_job.name, download_path=\".\", output_name=\"score\")"
      ],
      "outputs": [
        {
          "output_type": "stream",
          "name": "stderr",
          "text": "Downloading artifact azureml://datastores/workspaceblobstore/paths/azureml/c571c0dd-333b-43fd-9045-6875853d127a/score/ to named-outputs/score\n"
        }
      ],
      "execution_count": 10,
      "metadata": {
        "jupyter": {
          "source_hidden": false,
          "outputs_hidden": false
        },
        "nteract": {
          "transient": {
            "deleting": false
          }
        },
        "gather": {
          "logged": 1729129337841
        }
      }
    },
    {
      "cell_type": "code",
      "source": [
        "import pandas as pd\n",
        "\n",
        "score = pd.read_csv(\n",
        "    \"named-outputs/score/predictions.csv\", names=[\"row\", \"prediction\", \"file\"]\n",
        ")\n",
        "score"
      ],
      "outputs": [
        {
          "output_type": "execute_result",
          "execution_count": 11,
          "data": {
            "text/plain": "           row  prediction                                    file\n0            0           1  feature_engineering_data_PROCESSED.csv\n1            1           1  feature_engineering_data_PROCESSED.csv\n2            2           0  feature_engineering_data_PROCESSED.csv\n3            3           1  feature_engineering_data_PROCESSED.csv\n4            4           1  feature_engineering_data_PROCESSED.csv\n...        ...         ...                                     ...\n119385  119385           1  feature_engineering_data_PROCESSED.csv\n119386  119386           1  feature_engineering_data_PROCESSED.csv\n119387  119387           0  feature_engineering_data_PROCESSED.csv\n119388  119388           1  feature_engineering_data_PROCESSED.csv\n119389  119389           1  feature_engineering_data_PROCESSED.csv\n\n[119390 rows x 3 columns]",
            "text/html": "<div>\n<style scoped>\n    .dataframe tbody tr th:only-of-type {\n        vertical-align: middle;\n    }\n\n    .dataframe tbody tr th {\n        vertical-align: top;\n    }\n\n    .dataframe thead th {\n        text-align: right;\n    }\n</style>\n<table border=\"1\" class=\"dataframe\">\n  <thead>\n    <tr style=\"text-align: right;\">\n      <th></th>\n      <th>row</th>\n      <th>prediction</th>\n      <th>file</th>\n    </tr>\n  </thead>\n  <tbody>\n    <tr>\n      <th>0</th>\n      <td>0</td>\n      <td>1</td>\n      <td>feature_engineering_data_PROCESSED.csv</td>\n    </tr>\n    <tr>\n      <th>1</th>\n      <td>1</td>\n      <td>1</td>\n      <td>feature_engineering_data_PROCESSED.csv</td>\n    </tr>\n    <tr>\n      <th>2</th>\n      <td>2</td>\n      <td>0</td>\n      <td>feature_engineering_data_PROCESSED.csv</td>\n    </tr>\n    <tr>\n      <th>3</th>\n      <td>3</td>\n      <td>1</td>\n      <td>feature_engineering_data_PROCESSED.csv</td>\n    </tr>\n    <tr>\n      <th>4</th>\n      <td>4</td>\n      <td>1</td>\n      <td>feature_engineering_data_PROCESSED.csv</td>\n    </tr>\n    <tr>\n      <th>...</th>\n      <td>...</td>\n      <td>...</td>\n      <td>...</td>\n    </tr>\n    <tr>\n      <th>119385</th>\n      <td>119385</td>\n      <td>1</td>\n      <td>feature_engineering_data_PROCESSED.csv</td>\n    </tr>\n    <tr>\n      <th>119386</th>\n      <td>119386</td>\n      <td>1</td>\n      <td>feature_engineering_data_PROCESSED.csv</td>\n    </tr>\n    <tr>\n      <th>119387</th>\n      <td>119387</td>\n      <td>0</td>\n      <td>feature_engineering_data_PROCESSED.csv</td>\n    </tr>\n    <tr>\n      <th>119388</th>\n      <td>119388</td>\n      <td>1</td>\n      <td>feature_engineering_data_PROCESSED.csv</td>\n    </tr>\n    <tr>\n      <th>119389</th>\n      <td>119389</td>\n      <td>1</td>\n      <td>feature_engineering_data_PROCESSED.csv</td>\n    </tr>\n  </tbody>\n</table>\n<p>119390 rows × 3 columns</p>\n</div>"
          },
          "metadata": {}
        }
      ],
      "execution_count": 11,
      "metadata": {
        "jupyter": {
          "source_hidden": false,
          "outputs_hidden": false
        },
        "nteract": {
          "transient": {
            "deleting": false
          }
        },
        "gather": {
          "logged": 1729129352174
        }
      }
    },
    {
      "cell_type": "markdown",
      "source": [
        "# 2. Online Deployment"
      ],
      "metadata": {
        "nteract": {
          "transient": {
            "deleting": false
          }
        }
      }
    },
    {
      "cell_type": "code",
      "source": [
        "# import required libraries\n",
        "from azure.ai.ml import MLClient\n",
        "from azure.ai.ml.entities import (\n",
        "    ManagedOnlineEndpoint,\n",
        "    ManagedOnlineDeployment,\n",
        "    Model,\n",
        ")\n"
      ],
      "outputs": [],
      "execution_count": 13,
      "metadata": {
        "jupyter": {
          "source_hidden": false,
          "outputs_hidden": false
        },
        "nteract": {
          "transient": {
            "deleting": false
          }
        },
        "gather": {
          "logged": 1729129384385
        }
      }
    },
    {
      "cell_type": "code",
      "source": [
        "# Creating a unique endpoint name with current datetime to avoid conflicts\n",
        "import datetime\n",
        "\n",
        "online_endpoint_name = \"endpoint-\" + datetime.datetime.now().strftime(\"%m%d%H%M%f\")\n",
        "\n",
        "# create an online endpoint\n",
        "endpoint = ManagedOnlineEndpoint(\n",
        "    name=online_endpoint_name,\n",
        "    description=\"DSRP DESPLIEGUE ONLINE\",\n",
        "    auth_mode=\"key\",\n",
        "    tags={\"MODEL\": \"CHAMPION\"},\n",
        ")\n",
        "ml_client.begin_create_or_update(endpoint).result()\n"
      ],
      "outputs": [
        {
          "output_type": "execute_result",
          "execution_count": 14,
          "data": {
            "text/plain": "ManagedOnlineEndpoint({'public_network_access': 'Enabled', 'provisioning_state': 'Succeeded', 'scoring_uri': 'https://endpoint-10170143609221.eastus.inference.ml.azure.com/score', 'openapi_uri': 'https://endpoint-10170143609221.eastus.inference.ml.azure.com/swagger.json', 'name': 'endpoint-10170143609221', 'description': 'DSRP DESPLIEGUE ONLINE', 'tags': {'MODEL': 'CHAMPION'}, 'properties': {'createdBy': 'miguel arquez abdala', 'createdAt': '2024-10-17T01:43:07.111919+0000', 'lastModifiedAt': '2024-10-17T01:43:07.111919+0000', 'azureml.onlineendpointid': '/subscriptions/0f61d6bf-ab3d-4df7-a666-edaf42eff57c/resourcegroups/aml-course-dp100-2024/providers/microsoft.machinelearningservices/workspaces/dsrp-aml-dp100/onlineendpoints/endpoint-10170143609221', 'AzureAsyncOperationUri': 'https://management.azure.com/subscriptions/0f61d6bf-ab3d-4df7-a666-edaf42eff57c/providers/Microsoft.MachineLearningServices/locations/eastus/mfeOperationsStatus/oeidp:4b014ae2-0df9-417b-a95d-74c60a07cf6a:dcdf182a-060b-44d0-81c5-2ae4dfea27a4?api-version=2022-02-01-preview'}, 'print_as_yaml': False, 'id': '/subscriptions/0f61d6bf-ab3d-4df7-a666-edaf42eff57c/resourceGroups/aml-course-dp100-2024/providers/Microsoft.MachineLearningServices/workspaces/dsrp-aml-dp100/onlineEndpoints/endpoint-10170143609221', 'Resource__source_path': '', 'base_path': '/mnt/batch/tasks/shared/LS_root/mounts/clusters/test1-dsrp-compute/code/Users/miguel.arquez12/dsrp-azure-data-scientist-course/notebooks', 'creation_context': None, 'serialize': <msrest.serialization.Serializer object at 0x7f46cebefcd0>, 'auth_mode': 'key', 'location': 'eastus', 'identity': <azure.ai.ml.entities._credentials.IdentityConfiguration object at 0x7f46cebeebf0>, 'traffic': {}, 'mirror_traffic': {}, 'kind': 'Managed'})"
          },
          "metadata": {}
        }
      ],
      "execution_count": 14,
      "metadata": {
        "jupyter": {
          "source_hidden": false,
          "outputs_hidden": false
        },
        "nteract": {
          "transient": {
            "deleting": false
          }
        },
        "gather": {
          "logged": 1729129478867
        }
      }
    },
    {
      "cell_type": "code",
      "source": [
        "blue_deployment = ManagedOnlineDeployment(\n",
        "    name=\"blue\",\n",
        "    endpoint_name=online_endpoint_name,\n",
        "    model=model,\n",
        "    instance_type=\"Standard_F4s_v2\",\n",
        "    instance_count=1,\n",
        ")\n",
        "ml_client.online_deployments.begin_create_or_update(blue_deployment).result()"
      ],
      "outputs": [
        {
          "output_type": "stream",
          "name": "stderr",
          "text": "Check: endpoint endpoint-10170143609221 exists\n"
        },
        {
          "output_type": "stream",
          "name": "stdout",
          "text": "....................................................................................................."
        },
        {
          "output_type": "execute_result",
          "execution_count": 15,
          "data": {
            "text/plain": "ManagedOnlineDeployment({'private_network_connection': None, 'package_model': False, 'provisioning_state': 'Succeeded', 'endpoint_name': 'endpoint-10170143609221', 'type': 'Managed', 'name': 'blue', 'description': None, 'tags': {}, 'properties': {'AzureAsyncOperationUri': 'https://management.azure.com/subscriptions/0f61d6bf-ab3d-4df7-a666-edaf42eff57c/providers/Microsoft.MachineLearningServices/locations/eastus/mfeOperationsStatus/odidp:4b014ae2-0df9-417b-a95d-74c60a07cf6a:0675a150-f04d-44f9-b14d-5fbadeb737a8?api-version=2023-04-01-preview'}, 'print_as_yaml': False, 'id': '/subscriptions/0f61d6bf-ab3d-4df7-a666-edaf42eff57c/resourceGroups/aml-course-dp100-2024/providers/Microsoft.MachineLearningServices/workspaces/dsrp-aml-dp100/onlineEndpoints/endpoint-10170143609221/deployments/blue', 'Resource__source_path': '', 'base_path': '/mnt/batch/tasks/shared/LS_root/mounts/clusters/test1-dsrp-compute/code/Users/miguel.arquez12/dsrp-azure-data-scientist-course/notebooks', 'creation_context': None, 'serialize': <msrest.serialization.Serializer object at 0x7f46cebef9d0>, 'model': '/subscriptions/0f61d6bf-ab3d-4df7-a666-edaf42eff57c/resourceGroups/aml-course-dp100-2024/providers/Microsoft.MachineLearningServices/workspaces/dsrp-aml-dp100/models/dsrp-booking-model/versions/2', 'code_configuration': None, 'environment': '/subscriptions/0f61d6bf-ab3d-4df7-a666-edaf42eff57c/resourceGroups/aml-course-dp100-2024/providers/Microsoft.MachineLearningServices/workspaces/dsrp-aml-dp100/environments/DefaultNcdEnv-mlflow-ubuntu20-04-py38-cpu-inference/versions/20240805v1', 'environment_variables': {'MLFLOW_MODEL_FOLDER': 'model', 'AZUREML_EXTRA_CONDA_YAML_ABS_PATH': '/var/azureml-app/azureml-models/dsrp-booking-model/2/model/conda.yaml', 'AZUREML_MODEL_DIR': '/var/azureml-app/azureml-models/dsrp-booking-model/2'}, 'app_insights_enabled': False, 'scale_settings': <azure.ai.ml.entities._deployment.scale_settings.DefaultScaleSettings object at 0x7f46cebef730>, 'request_settings': <azure.ai.ml.entities._deployment.deployment_settings.OnlineRequestSettings object at 0x7f46cebeec80>, 'liveness_probe': <azure.ai.ml.entities._deployment.deployment_settings.ProbeSettings object at 0x7f46cebee2f0>, 'readiness_probe': <azure.ai.ml.entities._deployment.deployment_settings.ProbeSettings object at 0x7f46cebef8e0>, 'instance_count': 1, 'arm_type': 'online_deployment', 'model_mount_path': None, 'instance_type': 'Standard_F4s_v2', 'data_collector': None, 'egress_public_network_access': 'Enabled'})"
          },
          "metadata": {}
        }
      ],
      "execution_count": 15,
      "metadata": {
        "jupyter": {
          "source_hidden": false,
          "outputs_hidden": false
        },
        "nteract": {
          "transient": {
            "deleting": false
          }
        },
        "gather": {
          "logged": 1729130111789
        }
      }
    },
    {
      "cell_type": "markdown",
      "source": [
        "## Test online deployment"
      ],
      "metadata": {
        "nteract": {
          "transient": {
            "deleting": false
          }
        }
      }
    },
    {
      "cell_type": "code",
      "source": [
        "import json\n",
        "import pandas as pd\n",
        "\n",
        "INDEX_TEST = 901\n",
        "\n",
        "\n",
        "data_asset = ml_client.data.get(\"gold-booking-dsrp\", version=\"5\")\n",
        "modeling_dataframe = pd.read_csv(data_asset.path)\n",
        "modeling_dataframe.head()\n",
        "\n",
        "_input_file = {\n",
        "  \"input_data\": {\n",
        "    \"columns\": modeling_dataframe.drop(\"is_canceled\", axis=1).columns.to_list(),\n",
        "    \"data\": [\n",
        "      modeling_dataframe.drop(\"is_canceled\", axis=1).iloc[INDEX_TEST].to_list()\n",
        "    ],\n",
        "    \"index\": [INDEX_TEST]\n",
        "  }\n",
        "}\n",
        "\n",
        "with open('online-deployment-dsrp.json', 'w') as f:\n",
        "    json.dump(_input_file, f)"
      ],
      "outputs": [],
      "execution_count": 30,
      "metadata": {
        "jupyter": {
          "source_hidden": false,
          "outputs_hidden": false
        },
        "nteract": {
          "transient": {
            "deleting": false
          }
        },
        "gather": {
          "logged": 1729130882226
        }
      }
    },
    {
      "cell_type": "code",
      "source": [
        "# test the blue deployment with some sample data\n",
        "ml_client.online_endpoints.invoke(\n",
        "    endpoint_name=online_endpoint_name,\n",
        "    deployment_name=\"blue\",\n",
        "    request_file=\"online-deployment-dsrp.json\",\n",
        ")"
      ],
      "outputs": [
        {
          "output_type": "execute_result",
          "execution_count": 31,
          "data": {
            "text/plain": "'[0]'"
          },
          "metadata": {}
        }
      ],
      "execution_count": 31,
      "metadata": {
        "jupyter": {
          "source_hidden": false,
          "outputs_hidden": false
        },
        "nteract": {
          "transient": {
            "deleting": false
          }
        },
        "gather": {
          "logged": 1729130882872
        }
      }
    },
    {
      "cell_type": "code",
      "source": [
        "import urllib.request\n",
        "import json\n",
        "import os\n",
        "import ssl\n",
        "\n",
        "def allowSelfSignedHttps(allowed):\n",
        "    # bypass the server certificate verification on client side\n",
        "    if allowed and not os.environ.get('PYTHONHTTPSVERIFY', '') and getattr(ssl, '_create_unverified_context', None):\n",
        "        ssl._create_default_https_context = ssl._create_unverified_context\n",
        "\n",
        "allowSelfSignedHttps(True) # this line is needed if you use self-signed certificate in your scoring service.\n",
        "\n",
        "# Request data goes here\n",
        "# The example below assumes JSON formatting which may be updated\n",
        "# depending on the format your endpoint expects.\n",
        "# More information can be found here:\n",
        "# https://docs.microsoft.com/azure/machine-learning/how-to-deploy-advanced-entry-script\n",
        "data = _input_file\n",
        "\n",
        "body = str.encode(json.dumps(data))\n",
        "\n",
        "url = 'https://endpoint-10170143609221.eastus.inference.ml.azure.com/score'\n",
        "# Replace this with the primary/secondary key, AMLToken, or Microsoft Entra ID token for the endpoint\n",
        "api_key = 'lXI4WsUyXhWla59vahCDfCFv4o7TyNea'\n",
        "if not api_key:\n",
        "    raise Exception(\"A key should be provided to invoke the endpoint\")\n",
        "\n",
        "\n",
        "headers = {'Content-Type':'application/json', 'Authorization':('Bearer '+ api_key)}\n",
        "\n",
        "req = urllib.request.Request(url, body, headers)\n",
        "\n",
        "try:\n",
        "    response = urllib.request.urlopen(req)\n",
        "\n",
        "    result = response.read()\n",
        "    print(result)\n",
        "except urllib.error.HTTPError as error:\n",
        "    print(\"The request failed with status code: \" + str(error.code))\n",
        "\n",
        "    # Print the headers - they include the requert ID and the timestamp, which are useful for debugging the failure\n",
        "    print(error.info())\n",
        "    print(error.read().decode(\"utf8\", 'ignore'))"
      ],
      "outputs": [
        {
          "output_type": "stream",
          "name": "stdout",
          "text": "The request failed with status code: 404\ncontent-type: text/plain\ncontent-length: 506\ndate: Thu, 17 Oct 2024 02:08:06 GMT\nserver: azureml-frontdoor\nx-request-id: 8cb25be5-bdf4-4e7a-ba7f-fd40389f46b7\nconnection: close\n\n\nNo valid deployments to route to. Please check that the endpoint has at least one deployment with positive weight values or use a deployment specific header to route. [https://docs.microsoft.com/en-us/azure/machine-learning/how-to-safely-rollout-managed-endpoints#deploy-a-new-model-but-send-it-no-traffic-yet]\nPlease check this guide to understand why this error code might have been returned \nhttps://docs.microsoft.com/en-us/azure/machine-learning/how-to-troubleshoot-online-endpoints#http-status-codes\n\n"
        }
      ],
      "execution_count": 32,
      "metadata": {
        "jupyter": {
          "source_hidden": false,
          "outputs_hidden": false
        },
        "nteract": {
          "transient": {
            "deleting": false
          }
        },
        "gather": {
          "logged": 1729130887910
        }
      }
    },
    {
      "cell_type": "code",
      "source": [
        "urllib.request.urlopen(req)"
      ],
      "outputs": [
        {
          "output_type": "error",
          "ename": "HTTPError",
          "evalue": "HTTP Error 404: Not Found",
          "traceback": [
            "\u001b[0;31m---------------------------------------------------------------------------\u001b[0m",
            "\u001b[0;31mHTTPError\u001b[0m                                 Traceback (most recent call last)",
            "Cell \u001b[0;32mIn[27], line 1\u001b[0m\n\u001b[0;32m----> 1\u001b[0m \u001b[43murllib\u001b[49m\u001b[38;5;241;43m.\u001b[39;49m\u001b[43mrequest\u001b[49m\u001b[38;5;241;43m.\u001b[39;49m\u001b[43murlopen\u001b[49m\u001b[43m(\u001b[49m\u001b[43mreq\u001b[49m\u001b[43m)\u001b[49m\n",
            "File \u001b[0;32m/anaconda/envs/azureml_py310_sdkv2/lib/python3.10/urllib/request.py:216\u001b[0m, in \u001b[0;36murlopen\u001b[0;34m(url, data, timeout, cafile, capath, cadefault, context)\u001b[0m\n\u001b[1;32m    214\u001b[0m \u001b[38;5;28;01melse\u001b[39;00m:\n\u001b[1;32m    215\u001b[0m     opener \u001b[38;5;241m=\u001b[39m _opener\n\u001b[0;32m--> 216\u001b[0m \u001b[38;5;28;01mreturn\u001b[39;00m \u001b[43mopener\u001b[49m\u001b[38;5;241;43m.\u001b[39;49m\u001b[43mopen\u001b[49m\u001b[43m(\u001b[49m\u001b[43murl\u001b[49m\u001b[43m,\u001b[49m\u001b[43m \u001b[49m\u001b[43mdata\u001b[49m\u001b[43m,\u001b[49m\u001b[43m \u001b[49m\u001b[43mtimeout\u001b[49m\u001b[43m)\u001b[49m\n",
            "File \u001b[0;32m/anaconda/envs/azureml_py310_sdkv2/lib/python3.10/urllib/request.py:525\u001b[0m, in \u001b[0;36mOpenerDirector.open\u001b[0;34m(self, fullurl, data, timeout)\u001b[0m\n\u001b[1;32m    523\u001b[0m \u001b[38;5;28;01mfor\u001b[39;00m processor \u001b[38;5;129;01min\u001b[39;00m \u001b[38;5;28mself\u001b[39m\u001b[38;5;241m.\u001b[39mprocess_response\u001b[38;5;241m.\u001b[39mget(protocol, []):\n\u001b[1;32m    524\u001b[0m     meth \u001b[38;5;241m=\u001b[39m \u001b[38;5;28mgetattr\u001b[39m(processor, meth_name)\n\u001b[0;32m--> 525\u001b[0m     response \u001b[38;5;241m=\u001b[39m \u001b[43mmeth\u001b[49m\u001b[43m(\u001b[49m\u001b[43mreq\u001b[49m\u001b[43m,\u001b[49m\u001b[43m \u001b[49m\u001b[43mresponse\u001b[49m\u001b[43m)\u001b[49m\n\u001b[1;32m    527\u001b[0m \u001b[38;5;28;01mreturn\u001b[39;00m response\n",
            "File \u001b[0;32m/anaconda/envs/azureml_py310_sdkv2/lib/python3.10/urllib/request.py:634\u001b[0m, in \u001b[0;36mHTTPErrorProcessor.http_response\u001b[0;34m(self, request, response)\u001b[0m\n\u001b[1;32m    631\u001b[0m \u001b[38;5;66;03m# According to RFC 2616, \"2xx\" code indicates that the client's\u001b[39;00m\n\u001b[1;32m    632\u001b[0m \u001b[38;5;66;03m# request was successfully received, understood, and accepted.\u001b[39;00m\n\u001b[1;32m    633\u001b[0m \u001b[38;5;28;01mif\u001b[39;00m \u001b[38;5;129;01mnot\u001b[39;00m (\u001b[38;5;241m200\u001b[39m \u001b[38;5;241m<\u001b[39m\u001b[38;5;241m=\u001b[39m code \u001b[38;5;241m<\u001b[39m \u001b[38;5;241m300\u001b[39m):\n\u001b[0;32m--> 634\u001b[0m     response \u001b[38;5;241m=\u001b[39m \u001b[38;5;28;43mself\u001b[39;49m\u001b[38;5;241;43m.\u001b[39;49m\u001b[43mparent\u001b[49m\u001b[38;5;241;43m.\u001b[39;49m\u001b[43merror\u001b[49m\u001b[43m(\u001b[49m\n\u001b[1;32m    635\u001b[0m \u001b[43m        \u001b[49m\u001b[38;5;124;43m'\u001b[39;49m\u001b[38;5;124;43mhttp\u001b[39;49m\u001b[38;5;124;43m'\u001b[39;49m\u001b[43m,\u001b[49m\u001b[43m \u001b[49m\u001b[43mrequest\u001b[49m\u001b[43m,\u001b[49m\u001b[43m \u001b[49m\u001b[43mresponse\u001b[49m\u001b[43m,\u001b[49m\u001b[43m \u001b[49m\u001b[43mcode\u001b[49m\u001b[43m,\u001b[49m\u001b[43m \u001b[49m\u001b[43mmsg\u001b[49m\u001b[43m,\u001b[49m\u001b[43m \u001b[49m\u001b[43mhdrs\u001b[49m\u001b[43m)\u001b[49m\n\u001b[1;32m    637\u001b[0m \u001b[38;5;28;01mreturn\u001b[39;00m response\n",
            "File \u001b[0;32m/anaconda/envs/azureml_py310_sdkv2/lib/python3.10/urllib/request.py:563\u001b[0m, in \u001b[0;36mOpenerDirector.error\u001b[0;34m(self, proto, *args)\u001b[0m\n\u001b[1;32m    561\u001b[0m \u001b[38;5;28;01mif\u001b[39;00m http_err:\n\u001b[1;32m    562\u001b[0m     args \u001b[38;5;241m=\u001b[39m (\u001b[38;5;28mdict\u001b[39m, \u001b[38;5;124m'\u001b[39m\u001b[38;5;124mdefault\u001b[39m\u001b[38;5;124m'\u001b[39m, \u001b[38;5;124m'\u001b[39m\u001b[38;5;124mhttp_error_default\u001b[39m\u001b[38;5;124m'\u001b[39m) \u001b[38;5;241m+\u001b[39m orig_args\n\u001b[0;32m--> 563\u001b[0m     \u001b[38;5;28;01mreturn\u001b[39;00m \u001b[38;5;28;43mself\u001b[39;49m\u001b[38;5;241;43m.\u001b[39;49m\u001b[43m_call_chain\u001b[49m\u001b[43m(\u001b[49m\u001b[38;5;241;43m*\u001b[39;49m\u001b[43margs\u001b[49m\u001b[43m)\u001b[49m\n",
            "File \u001b[0;32m/anaconda/envs/azureml_py310_sdkv2/lib/python3.10/urllib/request.py:496\u001b[0m, in \u001b[0;36mOpenerDirector._call_chain\u001b[0;34m(self, chain, kind, meth_name, *args)\u001b[0m\n\u001b[1;32m    494\u001b[0m \u001b[38;5;28;01mfor\u001b[39;00m handler \u001b[38;5;129;01min\u001b[39;00m handlers:\n\u001b[1;32m    495\u001b[0m     func \u001b[38;5;241m=\u001b[39m \u001b[38;5;28mgetattr\u001b[39m(handler, meth_name)\n\u001b[0;32m--> 496\u001b[0m     result \u001b[38;5;241m=\u001b[39m \u001b[43mfunc\u001b[49m\u001b[43m(\u001b[49m\u001b[38;5;241;43m*\u001b[39;49m\u001b[43margs\u001b[49m\u001b[43m)\u001b[49m\n\u001b[1;32m    497\u001b[0m     \u001b[38;5;28;01mif\u001b[39;00m result \u001b[38;5;129;01mis\u001b[39;00m \u001b[38;5;129;01mnot\u001b[39;00m \u001b[38;5;28;01mNone\u001b[39;00m:\n\u001b[1;32m    498\u001b[0m         \u001b[38;5;28;01mreturn\u001b[39;00m result\n",
            "File \u001b[0;32m/anaconda/envs/azureml_py310_sdkv2/lib/python3.10/urllib/request.py:643\u001b[0m, in \u001b[0;36mHTTPDefaultErrorHandler.http_error_default\u001b[0;34m(self, req, fp, code, msg, hdrs)\u001b[0m\n\u001b[1;32m    642\u001b[0m \u001b[38;5;28;01mdef\u001b[39;00m \u001b[38;5;21mhttp_error_default\u001b[39m(\u001b[38;5;28mself\u001b[39m, req, fp, code, msg, hdrs):\n\u001b[0;32m--> 643\u001b[0m     \u001b[38;5;28;01mraise\u001b[39;00m HTTPError(req\u001b[38;5;241m.\u001b[39mfull_url, code, msg, hdrs, fp)\n",
            "\u001b[0;31mHTTPError\u001b[0m: HTTP Error 404: Not Found"
          ]
        }
      ],
      "execution_count": 27,
      "metadata": {
        "jupyter": {
          "source_hidden": false,
          "outputs_hidden": false
        },
        "nteract": {
          "transient": {
            "deleting": false
          }
        },
        "gather": {
          "logged": 1729130772965
        }
      }
    },
    {
      "cell_type": "code",
      "source": [],
      "outputs": [],
      "execution_count": null,
      "metadata": {
        "jupyter": {
          "source_hidden": false,
          "outputs_hidden": false
        },
        "nteract": {
          "transient": {
            "deleting": false
          }
        }
      }
    }
  ],
  "metadata": {
    "kernelspec": {
      "name": "python310-sdkv2",
      "language": "python",
      "display_name": "Python 3.10 - SDK v2"
    },
    "language_info": {
      "name": "python",
      "version": "3.10.14",
      "mimetype": "text/x-python",
      "codemirror_mode": {
        "name": "ipython",
        "version": 3
      },
      "pygments_lexer": "ipython3",
      "nbconvert_exporter": "python",
      "file_extension": ".py"
    },
    "microsoft": {
      "ms_spell_check": {
        "ms_spell_check_language": "en"
      },
      "host": {
        "AzureML": {
          "notebookHasBeenCompleted": true
        }
      }
    },
    "kernel_info": {
      "name": "python310-sdkv2"
    },
    "nteract": {
      "version": "nteract-front-end@1.0.0"
    }
  },
  "nbformat": 4,
  "nbformat_minor": 2
}