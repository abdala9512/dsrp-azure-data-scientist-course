{
  "cells": [
    {
      "cell_type": "markdown",
      "source": [
        "# Clase 9 Septiembre - Azure Data Scientist DSRP\n",
        "## Preparación de datos I\n",
        "\n",
        "### Dataset Utilizado: Hotel Booking\n",
        "\n",
        "https://www.kaggle.com/code/touba7/hotel-booking"
      ],
      "metadata": {
        "nteract": {
          "transient": {
            "deleting": false
          }
        }
      }
    },
    {
      "cell_type": "markdown",
      "source": [
        "### Conexión Data Asset"
      ],
      "metadata": {
        "nteract": {
          "transient": {
            "deleting": false
          }
        }
      }
    },
    {
      "cell_type": "code",
      "source": [
        "import pandas as pd\n",
        "import matplotlib.pyplot as plt\n",
        "import seaborn as sns\n",
        "from azure.ai.ml import MLClient\n",
        "from azure.identity import DefaultAzureCredential\n",
        "from sklearn.feature_selection import VarianceThreshold\n",
        "\n",
        "# CREDENCIALES AZURE\n",
        "ml_client = MLClient.from_config(credential=DefaultAzureCredential())\n",
        "# METADATA ASSET\n",
        "data_asset = ml_client.data.get(\"booking-dsrp\", version=\"1\")\n",
        "\n",
        "\n",
        "class DataProcessor:\n",
        "\n",
        "    def __init__(self, data: pd.DataFrame):\n",
        "        self.data = data\n",
        "\n",
        "    def process_numeric(self):\n",
        "\n",
        "       num_data = self.data.select_dtypes(include=\"numeric\")\n",
        "\n",
        "       selector = VarianceThreshold(threshold=0.1)\n",
        "       selector.fit(num_data)\n",
        "       return num_data\n"
      ],
      "outputs": [
        {
          "output_type": "stream",
          "name": "stderr",
          "text": "Found the config file in: /config.json\n"
        }
      ],
      "execution_count": 1,
      "metadata": {
        "jupyter": {
          "source_hidden": false,
          "outputs_hidden": false
        },
        "nteract": {
          "transient": {
            "deleting": false
          }
        },
        "gather": {
          "logged": 1726530261397
        }
      }
    },
    {
      "cell_type": "code",
      "source": [
        "# LEER DATA ASSET\n",
        "dataframe_reservas_hotel_raw = pd.read_csv(data_asset.path)\n",
        "dataframe_reservas_hotel_raw.head()"
      ],
      "outputs": [
        {
          "output_type": "execute_result",
          "execution_count": 2,
          "data": {
            "text/plain": "          hotel  is_canceled  lead_time  arrival_date_year arrival_date_month   \n0  Resort Hotel            0        342               2015               July  \\\n1  Resort Hotel            0        737               2015               July   \n2  Resort Hotel            0          7               2015               July   \n3  Resort Hotel            0         13               2015               July   \n4  Resort Hotel            0         14               2015               July   \n\n   arrival_date_week_number  arrival_date_day_of_month   \n0                        27                          1  \\\n1                        27                          1   \n2                        27                          1   \n3                        27                          1   \n4                        27                          1   \n\n   stays_in_weekend_nights  stays_in_week_nights  adults  ...  customer_type   \n0                        0                     0       2  ...      Transient  \\\n1                        0                     0       2  ...      Transient   \n2                        0                     1       1  ...      Transient   \n3                        0                     1       1  ...      Transient   \n4                        0                     2       2  ...      Transient   \n\n    adr required_car_parking_spaces total_of_special_requests   \n0   0.0                           0                         0  \\\n1   0.0                           0                         0   \n2  75.0                           0                         0   \n3  75.0                           0                         0   \n4  98.0                           0                         1   \n\n  reservation_status reservation_status_date            name   \n0          Check-Out              2015-07-01   Ernest Barnes  \\\n1          Check-Out              2015-07-01    Andrea Baker   \n2          Check-Out              2015-07-02  Rebecca Parker   \n3          Check-Out              2015-07-02    Laura Murray   \n4          Check-Out              2015-07-03     Linda Hines   \n\n                         email  phone-number       credit_card  \n0  Ernest.Barnes31@outlook.com  669-792-1661  ************4322  \n1       Andrea_Baker94@aol.com  858-637-6955  ************9157  \n2   Rebecca_Parker@comcast.net  652-885-2745  ************3734  \n3            Laura_M@gmail.com  364-656-8427  ************5677  \n4           LHines@verizon.com  713-226-5883  ************5498  \n\n[5 rows x 36 columns]",
            "text/html": "<div>\n<style scoped>\n    .dataframe tbody tr th:only-of-type {\n        vertical-align: middle;\n    }\n\n    .dataframe tbody tr th {\n        vertical-align: top;\n    }\n\n    .dataframe thead th {\n        text-align: right;\n    }\n</style>\n<table border=\"1\" class=\"dataframe\">\n  <thead>\n    <tr style=\"text-align: right;\">\n      <th></th>\n      <th>hotel</th>\n      <th>is_canceled</th>\n      <th>lead_time</th>\n      <th>arrival_date_year</th>\n      <th>arrival_date_month</th>\n      <th>arrival_date_week_number</th>\n      <th>arrival_date_day_of_month</th>\n      <th>stays_in_weekend_nights</th>\n      <th>stays_in_week_nights</th>\n      <th>adults</th>\n      <th>...</th>\n      <th>customer_type</th>\n      <th>adr</th>\n      <th>required_car_parking_spaces</th>\n      <th>total_of_special_requests</th>\n      <th>reservation_status</th>\n      <th>reservation_status_date</th>\n      <th>name</th>\n      <th>email</th>\n      <th>phone-number</th>\n      <th>credit_card</th>\n    </tr>\n  </thead>\n  <tbody>\n    <tr>\n      <th>0</th>\n      <td>Resort Hotel</td>\n      <td>0</td>\n      <td>342</td>\n      <td>2015</td>\n      <td>July</td>\n      <td>27</td>\n      <td>1</td>\n      <td>0</td>\n      <td>0</td>\n      <td>2</td>\n      <td>...</td>\n      <td>Transient</td>\n      <td>0.0</td>\n      <td>0</td>\n      <td>0</td>\n      <td>Check-Out</td>\n      <td>2015-07-01</td>\n      <td>Ernest Barnes</td>\n      <td>Ernest.Barnes31@outlook.com</td>\n      <td>669-792-1661</td>\n      <td>************4322</td>\n    </tr>\n    <tr>\n      <th>1</th>\n      <td>Resort Hotel</td>\n      <td>0</td>\n      <td>737</td>\n      <td>2015</td>\n      <td>July</td>\n      <td>27</td>\n      <td>1</td>\n      <td>0</td>\n      <td>0</td>\n      <td>2</td>\n      <td>...</td>\n      <td>Transient</td>\n      <td>0.0</td>\n      <td>0</td>\n      <td>0</td>\n      <td>Check-Out</td>\n      <td>2015-07-01</td>\n      <td>Andrea Baker</td>\n      <td>Andrea_Baker94@aol.com</td>\n      <td>858-637-6955</td>\n      <td>************9157</td>\n    </tr>\n    <tr>\n      <th>2</th>\n      <td>Resort Hotel</td>\n      <td>0</td>\n      <td>7</td>\n      <td>2015</td>\n      <td>July</td>\n      <td>27</td>\n      <td>1</td>\n      <td>0</td>\n      <td>1</td>\n      <td>1</td>\n      <td>...</td>\n      <td>Transient</td>\n      <td>75.0</td>\n      <td>0</td>\n      <td>0</td>\n      <td>Check-Out</td>\n      <td>2015-07-02</td>\n      <td>Rebecca Parker</td>\n      <td>Rebecca_Parker@comcast.net</td>\n      <td>652-885-2745</td>\n      <td>************3734</td>\n    </tr>\n    <tr>\n      <th>3</th>\n      <td>Resort Hotel</td>\n      <td>0</td>\n      <td>13</td>\n      <td>2015</td>\n      <td>July</td>\n      <td>27</td>\n      <td>1</td>\n      <td>0</td>\n      <td>1</td>\n      <td>1</td>\n      <td>...</td>\n      <td>Transient</td>\n      <td>75.0</td>\n      <td>0</td>\n      <td>0</td>\n      <td>Check-Out</td>\n      <td>2015-07-02</td>\n      <td>Laura Murray</td>\n      <td>Laura_M@gmail.com</td>\n      <td>364-656-8427</td>\n      <td>************5677</td>\n    </tr>\n    <tr>\n      <th>4</th>\n      <td>Resort Hotel</td>\n      <td>0</td>\n      <td>14</td>\n      <td>2015</td>\n      <td>July</td>\n      <td>27</td>\n      <td>1</td>\n      <td>0</td>\n      <td>2</td>\n      <td>2</td>\n      <td>...</td>\n      <td>Transient</td>\n      <td>98.0</td>\n      <td>0</td>\n      <td>1</td>\n      <td>Check-Out</td>\n      <td>2015-07-03</td>\n      <td>Linda Hines</td>\n      <td>LHines@verizon.com</td>\n      <td>713-226-5883</td>\n      <td>************5498</td>\n    </tr>\n  </tbody>\n</table>\n<p>5 rows × 36 columns</p>\n</div>"
          },
          "metadata": {}
        }
      ],
      "execution_count": 2,
      "metadata": {
        "jupyter": {
          "source_hidden": false,
          "outputs_hidden": false
        },
        "nteract": {
          "transient": {
            "deleting": false
          }
        },
        "gather": {
          "logged": 1726530263308
        }
      }
    },
    {
      "cell_type": "markdown",
      "source": [
        "### Metadata"
      ],
      "metadata": {
        "nteract": {
          "transient": {
            "deleting": false
          }
        }
      }
    },
    {
      "cell_type": "code",
      "source": [
        "dataframe_reservas_hotel_raw.shape"
      ],
      "outputs": [
        {
          "output_type": "execute_result",
          "execution_count": 3,
          "data": {
            "text/plain": "(119390, 36)"
          },
          "metadata": {}
        }
      ],
      "execution_count": 3,
      "metadata": {
        "jupyter": {
          "source_hidden": false,
          "outputs_hidden": false
        },
        "nteract": {
          "transient": {
            "deleting": false
          }
        },
        "gather": {
          "logged": 1726530266048
        }
      }
    },
    {
      "cell_type": "code",
      "source": [
        "dataframe_reservas_hotel_raw.info()"
      ],
      "outputs": [
        {
          "output_type": "stream",
          "name": "stdout",
          "text": "<class 'pandas.core.frame.DataFrame'>\nRangeIndex: 119390 entries, 0 to 119389\nData columns (total 36 columns):\n #   Column                          Non-Null Count   Dtype  \n---  ------                          --------------   -----  \n 0   hotel                           119390 non-null  object \n 1   is_canceled                     119390 non-null  int64  \n 2   lead_time                       119390 non-null  int64  \n 3   arrival_date_year               119390 non-null  int64  \n 4   arrival_date_month              119390 non-null  object \n 5   arrival_date_week_number        119390 non-null  int64  \n 6   arrival_date_day_of_month       119390 non-null  int64  \n 7   stays_in_weekend_nights         119390 non-null  int64  \n 8   stays_in_week_nights            119390 non-null  int64  \n 9   adults                          119390 non-null  int64  \n 10  children                        119386 non-null  float64\n 11  babies                          119390 non-null  int64  \n 12  meal                            119390 non-null  object \n 13  country                         118902 non-null  object \n 14  market_segment                  119390 non-null  object \n 15  distribution_channel            119390 non-null  object \n 16  is_repeated_guest               119390 non-null  int64  \n 17  previous_cancellations          119390 non-null  int64  \n 18  previous_bookings_not_canceled  119390 non-null  int64  \n 19  reserved_room_type              119390 non-null  object \n 20  assigned_room_type              119390 non-null  object \n 21  booking_changes                 119390 non-null  int64  \n 22  deposit_type                    119390 non-null  object \n 23  agent                           103050 non-null  float64\n 24  company                         6797 non-null    float64\n 25  days_in_waiting_list            119390 non-null  int64  \n 26  customer_type                   119390 non-null  object \n 27  adr                             119390 non-null  float64\n 28  required_car_parking_spaces     119390 non-null  int64  \n 29  total_of_special_requests       119390 non-null  int64  \n 30  reservation_status              119390 non-null  object \n 31  reservation_status_date         119390 non-null  object \n 32  name                            119390 non-null  object \n 33  email                           119390 non-null  object \n 34  phone-number                    119390 non-null  object \n 35  credit_card                     119390 non-null  object \ndtypes: float64(4), int64(16), object(16)\nmemory usage: 32.8+ MB\n"
        }
      ],
      "execution_count": 4,
      "metadata": {
        "jupyter": {
          "source_hidden": false,
          "outputs_hidden": false
        },
        "nteract": {
          "transient": {
            "deleting": false
          }
        },
        "gather": {
          "logged": 1726530266395
        }
      }
    },
    {
      "cell_type": "markdown",
      "source": [
        "## Exploración Inicial"
      ],
      "metadata": {
        "nteract": {
          "transient": {
            "deleting": false
          }
        }
      }
    },
    {
      "cell_type": "code",
      "source": [
        "dataframe_reservas_hotel_raw.describe(include=\"object\")"
      ],
      "outputs": [
        {
          "output_type": "execute_result",
          "execution_count": 7,
          "data": {
            "text/plain": "             hotel arrival_date_month    meal country market_segment  \\\ncount       119390             119390  119390  118902         119390   \nunique           2                 12       5     177              8   \ntop     City Hotel             August      BB     PRT      Online TA   \nfreq         79330              13877   92310   48590          56477   \n\n       distribution_channel reserved_room_type assigned_room_type  \\\ncount                119390             119390             119390   \nunique                    5                 10                 12   \ntop                   TA/TO                  A                  A   \nfreq                  97870              85994              74053   \n\n       deposit_type customer_type reservation_status reservation_status_date  \\\ncount        119390        119390             119390                  119390   \nunique            3             4                  3                     926   \ntop      No Deposit     Transient          Check-Out              2015-10-21   \nfreq         104641         89613              75166                    1461   \n\n                   name                email  phone-number       credit_card  \ncount            119390               119390        119390            119390  \nunique            81503               115889        119390              9000  \ntop     Michael Johnson  Michael.C@gmail.com  669-792-1661  ************4923  \nfreq                 48                    6             1                28  ",
            "text/html": "<div>\n<style scoped>\n    .dataframe tbody tr th:only-of-type {\n        vertical-align: middle;\n    }\n\n    .dataframe tbody tr th {\n        vertical-align: top;\n    }\n\n    .dataframe thead th {\n        text-align: right;\n    }\n</style>\n<table border=\"1\" class=\"dataframe\">\n  <thead>\n    <tr style=\"text-align: right;\">\n      <th></th>\n      <th>hotel</th>\n      <th>arrival_date_month</th>\n      <th>meal</th>\n      <th>country</th>\n      <th>market_segment</th>\n      <th>distribution_channel</th>\n      <th>reserved_room_type</th>\n      <th>assigned_room_type</th>\n      <th>deposit_type</th>\n      <th>customer_type</th>\n      <th>reservation_status</th>\n      <th>reservation_status_date</th>\n      <th>name</th>\n      <th>email</th>\n      <th>phone-number</th>\n      <th>credit_card</th>\n    </tr>\n  </thead>\n  <tbody>\n    <tr>\n      <th>count</th>\n      <td>119390</td>\n      <td>119390</td>\n      <td>119390</td>\n      <td>118902</td>\n      <td>119390</td>\n      <td>119390</td>\n      <td>119390</td>\n      <td>119390</td>\n      <td>119390</td>\n      <td>119390</td>\n      <td>119390</td>\n      <td>119390</td>\n      <td>119390</td>\n      <td>119390</td>\n      <td>119390</td>\n      <td>119390</td>\n    </tr>\n    <tr>\n      <th>unique</th>\n      <td>2</td>\n      <td>12</td>\n      <td>5</td>\n      <td>177</td>\n      <td>8</td>\n      <td>5</td>\n      <td>10</td>\n      <td>12</td>\n      <td>3</td>\n      <td>4</td>\n      <td>3</td>\n      <td>926</td>\n      <td>81503</td>\n      <td>115889</td>\n      <td>119390</td>\n      <td>9000</td>\n    </tr>\n    <tr>\n      <th>top</th>\n      <td>City Hotel</td>\n      <td>August</td>\n      <td>BB</td>\n      <td>PRT</td>\n      <td>Online TA</td>\n      <td>TA/TO</td>\n      <td>A</td>\n      <td>A</td>\n      <td>No Deposit</td>\n      <td>Transient</td>\n      <td>Check-Out</td>\n      <td>2015-10-21</td>\n      <td>Michael Johnson</td>\n      <td>Michael.C@gmail.com</td>\n      <td>669-792-1661</td>\n      <td>************4923</td>\n    </tr>\n    <tr>\n      <th>freq</th>\n      <td>79330</td>\n      <td>13877</td>\n      <td>92310</td>\n      <td>48590</td>\n      <td>56477</td>\n      <td>97870</td>\n      <td>85994</td>\n      <td>74053</td>\n      <td>104641</td>\n      <td>89613</td>\n      <td>75166</td>\n      <td>1461</td>\n      <td>48</td>\n      <td>6</td>\n      <td>1</td>\n      <td>28</td>\n    </tr>\n  </tbody>\n</table>\n</div>"
          },
          "metadata": {}
        }
      ],
      "execution_count": 7,
      "metadata": {
        "jupyter": {
          "source_hidden": false,
          "outputs_hidden": false
        },
        "nteract": {
          "transient": {
            "deleting": false
          }
        },
        "gather": {
          "logged": 1725933004634
        }
      }
    },
    {
      "cell_type": "code",
      "source": [
        "dataframe_reservas_hotel_raw[\"hotel\"].value_counts()"
      ],
      "outputs": [
        {
          "output_type": "execute_result",
          "execution_count": 8,
          "data": {
            "text/plain": "hotel\nCity Hotel      79330\nResort Hotel    40060\nName: count, dtype: int64"
          },
          "metadata": {}
        }
      ],
      "execution_count": 8,
      "metadata": {
        "jupyter": {
          "source_hidden": false,
          "outputs_hidden": false
        },
        "nteract": {
          "transient": {
            "deleting": false
          }
        },
        "gather": {
          "logged": 1725933004805
        }
      }
    },
    {
      "cell_type": "code",
      "source": [
        "dataframe_reservas_hotel_raw[\"distribution_channel\"].value_counts()"
      ],
      "outputs": [
        {
          "output_type": "execute_result",
          "execution_count": 9,
          "data": {
            "text/plain": "distribution_channel\nTA/TO        97870\nDirect       14645\nCorporate     6677\nGDS            193\nUndefined        5\nName: count, dtype: int64"
          },
          "metadata": {}
        }
      ],
      "execution_count": 9,
      "metadata": {
        "jupyter": {
          "source_hidden": false,
          "outputs_hidden": false
        },
        "nteract": {
          "transient": {
            "deleting": false
          }
        },
        "gather": {
          "logged": 1725933004962
        }
      }
    },
    {
      "cell_type": "code",
      "source": [
        "dataframe_reservas_hotel_raw[\"customer_type\"].value_counts()"
      ],
      "outputs": [
        {
          "output_type": "execute_result",
          "execution_count": 10,
          "data": {
            "text/plain": "customer_type\nTransient          89613\nTransient-Party    25124\nContract            4076\nGroup                577\nName: count, dtype: int64"
          },
          "metadata": {}
        }
      ],
      "execution_count": 10,
      "metadata": {
        "jupyter": {
          "source_hidden": false,
          "outputs_hidden": false
        },
        "nteract": {
          "transient": {
            "deleting": false
          }
        },
        "gather": {
          "logged": 1725933005278
        }
      }
    },
    {
      "cell_type": "code",
      "source": [
        "dataframe_reservas_hotel_raw[\"is_canceled\"].value_counts()"
      ],
      "outputs": [
        {
          "output_type": "execute_result",
          "execution_count": 25,
          "data": {
            "text/plain": "is_canceled\n0    75166\n1    44224\nName: count, dtype: int64"
          },
          "metadata": {}
        }
      ],
      "execution_count": 25,
      "metadata": {
        "jupyter": {
          "source_hidden": false,
          "outputs_hidden": false
        },
        "nteract": {
          "transient": {
            "deleting": false
          }
        },
        "gather": {
          "logged": 1725933320415
        }
      }
    },
    {
      "cell_type": "code",
      "source": [
        "dataframe_reservas_hotel_raw[\"reservation_status\"].value_counts()"
      ],
      "outputs": [
        {
          "output_type": "execute_result",
          "execution_count": 24,
          "data": {
            "text/plain": "reservation_status\nCheck-Out    75166\nCanceled     43017\nNo-Show       1207\nName: count, dtype: int64"
          },
          "metadata": {}
        }
      ],
      "execution_count": 24,
      "metadata": {
        "jupyter": {
          "source_hidden": false,
          "outputs_hidden": false
        },
        "nteract": {
          "transient": {
            "deleting": false
          }
        },
        "gather": {
          "logged": 1725933304049
        }
      }
    },
    {
      "cell_type": "code",
      "source": [
        "dataframe_reservas_hotel_raw.describe(include=\"int64\")"
      ],
      "outputs": [
        {
          "output_type": "execute_result",
          "execution_count": 11,
          "data": {
            "text/plain": "         is_canceled      lead_time  arrival_date_year  \\\ncount  119390.000000  119390.000000      119390.000000   \nmean        0.370416     104.011416        2016.156554   \nstd         0.482918     106.863097           0.707476   \nmin         0.000000       0.000000        2015.000000   \n25%         0.000000      18.000000        2016.000000   \n50%         0.000000      69.000000        2016.000000   \n75%         1.000000     160.000000        2017.000000   \nmax         1.000000     737.000000        2017.000000   \n\n       arrival_date_week_number  arrival_date_day_of_month  \\\ncount             119390.000000              119390.000000   \nmean                  27.165173                  15.798241   \nstd                   13.605138                   8.780829   \nmin                    1.000000                   1.000000   \n25%                   16.000000                   8.000000   \n50%                   28.000000                  16.000000   \n75%                   38.000000                  23.000000   \nmax                   53.000000                  31.000000   \n\n       stays_in_weekend_nights  stays_in_week_nights         adults  \\\ncount            119390.000000         119390.000000  119390.000000   \nmean                  0.927599              2.500302       1.856403   \nstd                   0.998613              1.908286       0.579261   \nmin                   0.000000              0.000000       0.000000   \n25%                   0.000000              1.000000       2.000000   \n50%                   1.000000              2.000000       2.000000   \n75%                   2.000000              3.000000       2.000000   \nmax                  19.000000             50.000000      55.000000   \n\n              babies  is_repeated_guest  previous_cancellations  \\\ncount  119390.000000      119390.000000           119390.000000   \nmean        0.007949           0.031912                0.087118   \nstd         0.097436           0.175767                0.844336   \nmin         0.000000           0.000000                0.000000   \n25%         0.000000           0.000000                0.000000   \n50%         0.000000           0.000000                0.000000   \n75%         0.000000           0.000000                0.000000   \nmax        10.000000           1.000000               26.000000   \n\n       previous_bookings_not_canceled  booking_changes  days_in_waiting_list  \\\ncount                   119390.000000    119390.000000         119390.000000   \nmean                         0.137097         0.221124              2.321149   \nstd                          1.497437         0.652306             17.594721   \nmin                          0.000000         0.000000              0.000000   \n25%                          0.000000         0.000000              0.000000   \n50%                          0.000000         0.000000              0.000000   \n75%                          0.000000         0.000000              0.000000   \nmax                         72.000000        21.000000            391.000000   \n\n       required_car_parking_spaces  total_of_special_requests  \ncount                119390.000000              119390.000000  \nmean                      0.062518                   0.571363  \nstd                       0.245291                   0.792798  \nmin                       0.000000                   0.000000  \n25%                       0.000000                   0.000000  \n50%                       0.000000                   0.000000  \n75%                       0.000000                   1.000000  \nmax                       8.000000                   5.000000  ",
            "text/html": "<div>\n<style scoped>\n    .dataframe tbody tr th:only-of-type {\n        vertical-align: middle;\n    }\n\n    .dataframe tbody tr th {\n        vertical-align: top;\n    }\n\n    .dataframe thead th {\n        text-align: right;\n    }\n</style>\n<table border=\"1\" class=\"dataframe\">\n  <thead>\n    <tr style=\"text-align: right;\">\n      <th></th>\n      <th>is_canceled</th>\n      <th>lead_time</th>\n      <th>arrival_date_year</th>\n      <th>arrival_date_week_number</th>\n      <th>arrival_date_day_of_month</th>\n      <th>stays_in_weekend_nights</th>\n      <th>stays_in_week_nights</th>\n      <th>adults</th>\n      <th>babies</th>\n      <th>is_repeated_guest</th>\n      <th>previous_cancellations</th>\n      <th>previous_bookings_not_canceled</th>\n      <th>booking_changes</th>\n      <th>days_in_waiting_list</th>\n      <th>required_car_parking_spaces</th>\n      <th>total_of_special_requests</th>\n    </tr>\n  </thead>\n  <tbody>\n    <tr>\n      <th>count</th>\n      <td>119390.000000</td>\n      <td>119390.000000</td>\n      <td>119390.000000</td>\n      <td>119390.000000</td>\n      <td>119390.000000</td>\n      <td>119390.000000</td>\n      <td>119390.000000</td>\n      <td>119390.000000</td>\n      <td>119390.000000</td>\n      <td>119390.000000</td>\n      <td>119390.000000</td>\n      <td>119390.000000</td>\n      <td>119390.000000</td>\n      <td>119390.000000</td>\n      <td>119390.000000</td>\n      <td>119390.000000</td>\n    </tr>\n    <tr>\n      <th>mean</th>\n      <td>0.370416</td>\n      <td>104.011416</td>\n      <td>2016.156554</td>\n      <td>27.165173</td>\n      <td>15.798241</td>\n      <td>0.927599</td>\n      <td>2.500302</td>\n      <td>1.856403</td>\n      <td>0.007949</td>\n      <td>0.031912</td>\n      <td>0.087118</td>\n      <td>0.137097</td>\n      <td>0.221124</td>\n      <td>2.321149</td>\n      <td>0.062518</td>\n      <td>0.571363</td>\n    </tr>\n    <tr>\n      <th>std</th>\n      <td>0.482918</td>\n      <td>106.863097</td>\n      <td>0.707476</td>\n      <td>13.605138</td>\n      <td>8.780829</td>\n      <td>0.998613</td>\n      <td>1.908286</td>\n      <td>0.579261</td>\n      <td>0.097436</td>\n      <td>0.175767</td>\n      <td>0.844336</td>\n      <td>1.497437</td>\n      <td>0.652306</td>\n      <td>17.594721</td>\n      <td>0.245291</td>\n      <td>0.792798</td>\n    </tr>\n    <tr>\n      <th>min</th>\n      <td>0.000000</td>\n      <td>0.000000</td>\n      <td>2015.000000</td>\n      <td>1.000000</td>\n      <td>1.000000</td>\n      <td>0.000000</td>\n      <td>0.000000</td>\n      <td>0.000000</td>\n      <td>0.000000</td>\n      <td>0.000000</td>\n      <td>0.000000</td>\n      <td>0.000000</td>\n      <td>0.000000</td>\n      <td>0.000000</td>\n      <td>0.000000</td>\n      <td>0.000000</td>\n    </tr>\n    <tr>\n      <th>25%</th>\n      <td>0.000000</td>\n      <td>18.000000</td>\n      <td>2016.000000</td>\n      <td>16.000000</td>\n      <td>8.000000</td>\n      <td>0.000000</td>\n      <td>1.000000</td>\n      <td>2.000000</td>\n      <td>0.000000</td>\n      <td>0.000000</td>\n      <td>0.000000</td>\n      <td>0.000000</td>\n      <td>0.000000</td>\n      <td>0.000000</td>\n      <td>0.000000</td>\n      <td>0.000000</td>\n    </tr>\n    <tr>\n      <th>50%</th>\n      <td>0.000000</td>\n      <td>69.000000</td>\n      <td>2016.000000</td>\n      <td>28.000000</td>\n      <td>16.000000</td>\n      <td>1.000000</td>\n      <td>2.000000</td>\n      <td>2.000000</td>\n      <td>0.000000</td>\n      <td>0.000000</td>\n      <td>0.000000</td>\n      <td>0.000000</td>\n      <td>0.000000</td>\n      <td>0.000000</td>\n      <td>0.000000</td>\n      <td>0.000000</td>\n    </tr>\n    <tr>\n      <th>75%</th>\n      <td>1.000000</td>\n      <td>160.000000</td>\n      <td>2017.000000</td>\n      <td>38.000000</td>\n      <td>23.000000</td>\n      <td>2.000000</td>\n      <td>3.000000</td>\n      <td>2.000000</td>\n      <td>0.000000</td>\n      <td>0.000000</td>\n      <td>0.000000</td>\n      <td>0.000000</td>\n      <td>0.000000</td>\n      <td>0.000000</td>\n      <td>0.000000</td>\n      <td>1.000000</td>\n    </tr>\n    <tr>\n      <th>max</th>\n      <td>1.000000</td>\n      <td>737.000000</td>\n      <td>2017.000000</td>\n      <td>53.000000</td>\n      <td>31.000000</td>\n      <td>19.000000</td>\n      <td>50.000000</td>\n      <td>55.000000</td>\n      <td>10.000000</td>\n      <td>1.000000</td>\n      <td>26.000000</td>\n      <td>72.000000</td>\n      <td>21.000000</td>\n      <td>391.000000</td>\n      <td>8.000000</td>\n      <td>5.000000</td>\n    </tr>\n  </tbody>\n</table>\n</div>"
          },
          "metadata": {}
        }
      ],
      "execution_count": 11,
      "metadata": {
        "jupyter": {
          "source_hidden": false,
          "outputs_hidden": false
        },
        "nteract": {
          "transient": {
            "deleting": false
          }
        },
        "gather": {
          "logged": 1725933007170
        }
      }
    },
    {
      "cell_type": "code",
      "source": [
        "dataframe_reservas_hotel_raw.describe(include=\"float64\")"
      ],
      "outputs": [
        {
          "output_type": "execute_result",
          "execution_count": 12,
          "data": {
            "text/plain": "            children          agent      company            adr\ncount  119386.000000  103050.000000  6797.000000  119390.000000\nmean        0.103890      86.693382   189.266735     101.831122\nstd         0.398561     110.774548   131.655015      50.535790\nmin         0.000000       1.000000     6.000000      -6.380000\n25%         0.000000       9.000000    62.000000      69.290000\n50%         0.000000      14.000000   179.000000      94.575000\n75%         0.000000     229.000000   270.000000     126.000000\nmax        10.000000     535.000000   543.000000    5400.000000",
            "text/html": "<div>\n<style scoped>\n    .dataframe tbody tr th:only-of-type {\n        vertical-align: middle;\n    }\n\n    .dataframe tbody tr th {\n        vertical-align: top;\n    }\n\n    .dataframe thead th {\n        text-align: right;\n    }\n</style>\n<table border=\"1\" class=\"dataframe\">\n  <thead>\n    <tr style=\"text-align: right;\">\n      <th></th>\n      <th>children</th>\n      <th>agent</th>\n      <th>company</th>\n      <th>adr</th>\n    </tr>\n  </thead>\n  <tbody>\n    <tr>\n      <th>count</th>\n      <td>119386.000000</td>\n      <td>103050.000000</td>\n      <td>6797.000000</td>\n      <td>119390.000000</td>\n    </tr>\n    <tr>\n      <th>mean</th>\n      <td>0.103890</td>\n      <td>86.693382</td>\n      <td>189.266735</td>\n      <td>101.831122</td>\n    </tr>\n    <tr>\n      <th>std</th>\n      <td>0.398561</td>\n      <td>110.774548</td>\n      <td>131.655015</td>\n      <td>50.535790</td>\n    </tr>\n    <tr>\n      <th>min</th>\n      <td>0.000000</td>\n      <td>1.000000</td>\n      <td>6.000000</td>\n      <td>-6.380000</td>\n    </tr>\n    <tr>\n      <th>25%</th>\n      <td>0.000000</td>\n      <td>9.000000</td>\n      <td>62.000000</td>\n      <td>69.290000</td>\n    </tr>\n    <tr>\n      <th>50%</th>\n      <td>0.000000</td>\n      <td>14.000000</td>\n      <td>179.000000</td>\n      <td>94.575000</td>\n    </tr>\n    <tr>\n      <th>75%</th>\n      <td>0.000000</td>\n      <td>229.000000</td>\n      <td>270.000000</td>\n      <td>126.000000</td>\n    </tr>\n    <tr>\n      <th>max</th>\n      <td>10.000000</td>\n      <td>535.000000</td>\n      <td>543.000000</td>\n      <td>5400.000000</td>\n    </tr>\n  </tbody>\n</table>\n</div>"
          },
          "metadata": {}
        }
      ],
      "execution_count": 12,
      "metadata": {
        "jupyter": {
          "source_hidden": false,
          "outputs_hidden": false
        },
        "nteract": {
          "transient": {
            "deleting": false
          }
        },
        "gather": {
          "logged": 1725933009012
        }
      }
    },
    {
      "cell_type": "markdown",
      "source": [
        "## EDA: Explorary Data Analysis"
      ],
      "metadata": {
        "nteract": {
          "transient": {
            "deleting": false
          }
        }
      }
    },
    {
      "cell_type": "code",
      "source": [
        "dataframe_reservas_hotel_raw[\"lead_time\"].hist()"
      ],
      "outputs": [
        {
          "output_type": "execute_result",
          "execution_count": 14,
          "data": {
            "text/plain": "<Axes: >"
          },
          "metadata": {}
        },
        {
          "output_type": "display_data",
          "data": {
            "text/plain": "<Figure size 640x480 with 1 Axes>",
            "image/png": "[encoded data removed]"
          },
          "metadata": {}
        }
      ],
      "execution_count": 14,
      "metadata": {
        "jupyter": {
          "source_hidden": false,
          "outputs_hidden": false
        },
        "nteract": {
          "transient": {
            "deleting": false
          }
        },
        "gather": {
          "logged": 1725933053237
        }
      }
    },
    {
      "cell_type": "code",
      "source": [],
      "outputs": [
        {
          "output_type": "execute_result",
          "execution_count": 12,
          "data": {
            "text/plain": "               hotel  is_canceled  lead_time\n0       Resort Hotel            0        342\n1       Resort Hotel            0        737\n2       Resort Hotel            0          7\n3       Resort Hotel            0         13\n4       Resort Hotel            0         14\n...              ...          ...        ...\n119385    City Hotel            0         23\n119386    City Hotel            0        102\n119387    City Hotel            0         34\n119388    City Hotel            0        109\n119389    City Hotel            0        205\n\n[119390 rows x 3 columns]",
            "text/html": "<div>\n<style scoped>\n    .dataframe tbody tr th:only-of-type {\n        vertical-align: middle;\n    }\n\n    .dataframe tbody tr th {\n        vertical-align: top;\n    }\n\n    .dataframe thead th {\n        text-align: right;\n    }\n</style>\n<table border=\"1\" class=\"dataframe\">\n  <thead>\n    <tr style=\"text-align: right;\">\n      <th></th>\n      <th>hotel</th>\n      <th>is_canceled</th>\n      <th>lead_time</th>\n    </tr>\n  </thead>\n  <tbody>\n    <tr>\n      <th>0</th>\n      <td>Resort Hotel</td>\n      <td>0</td>\n      <td>342</td>\n    </tr>\n    <tr>\n      <th>1</th>\n      <td>Resort Hotel</td>\n      <td>0</td>\n      <td>737</td>\n    </tr>\n    <tr>\n      <th>2</th>\n      <td>Resort Hotel</td>\n      <td>0</td>\n      <td>7</td>\n    </tr>\n    <tr>\n      <th>3</th>\n      <td>Resort Hotel</td>\n      <td>0</td>\n      <td>13</td>\n    </tr>\n    <tr>\n      <th>4</th>\n      <td>Resort Hotel</td>\n      <td>0</td>\n      <td>14</td>\n    </tr>\n    <tr>\n      <th>...</th>\n      <td>...</td>\n      <td>...</td>\n      <td>...</td>\n    </tr>\n    <tr>\n      <th>119385</th>\n      <td>City Hotel</td>\n      <td>0</td>\n      <td>23</td>\n    </tr>\n    <tr>\n      <th>119386</th>\n      <td>City Hotel</td>\n      <td>0</td>\n      <td>102</td>\n    </tr>\n    <tr>\n      <th>119387</th>\n      <td>City Hotel</td>\n      <td>0</td>\n      <td>34</td>\n    </tr>\n    <tr>\n      <th>119388</th>\n      <td>City Hotel</td>\n      <td>0</td>\n      <td>109</td>\n    </tr>\n    <tr>\n      <th>119389</th>\n      <td>City Hotel</td>\n      <td>0</td>\n      <td>205</td>\n    </tr>\n  </tbody>\n</table>\n<p>119390 rows × 3 columns</p>\n</div>"
          },
          "metadata": {}
        }
      ],
      "execution_count": 12,
      "metadata": {
        "jupyter": {
          "source_hidden": false,
          "outputs_hidden": false
        },
        "nteract": {
          "transient": {
            "deleting": false
          }
        },
        "gather": {
          "logged": 1726530442198
        }
      }
    }
  ],
  "metadata": {
    "kernelspec": {
      "name": "dsrp-featureengineering",
      "language": "python",
      "display_name": "Python DSRP-Feature Engineering"
    },
    "language_info": {
      "name": "python",
      "version": "3.10.14",
      "mimetype": "text/x-python",
      "codemirror_mode": {
        "name": "ipython",
        "version": 3
      },
      "pygments_lexer": "ipython3",
      "nbconvert_exporter": "python",
      "file_extension": ".py"
    },
    "microsoft": {
      "ms_spell_check": {
        "ms_spell_check_language": "en"
      },
      "host": {
        "AzureML": {
          "notebookHasBeenCompleted": true
        }
      }
    },
    "kernel_info": {
      "name": "dsrp-featureengineering"
    },
    "nteract": {
      "version": "nteract-front-end@1.0.0"
    }
  },
  "nbformat": 4,
  "nbformat_minor": 2
}