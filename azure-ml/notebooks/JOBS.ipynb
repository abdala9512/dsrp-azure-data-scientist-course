{
  "cells": [
    {
      "cell_type": "markdown",
      "source": [
        "# Clase 11: jobs\n",
        "## DP-100 Azure Data Scientist / DSRP\n",
        "## Clase 30 Septiembre"
      ],
      "metadata": {
        "nteract": {
          "transient": {
            "deleting": false
          }
        }
      }
    },
    {
      "cell_type": "code",
      "source": [
        "from azure.ai.ml import MLClient, command, Input\n",
        "from azure.identity import DefaultAzureCredential\n",
        "import uuid\n",
        "\n",
        "\n",
        "ml_client = MLClient.from_config(credential=DefaultAzureCredential())\n",
        "\n",
        "\n",
        "COMPUTE_NAME = \"test1-dsrp-compute\"\n",
        "ml_client.compute.get(COMPUTE_NAME)"
      ],
      "outputs": [
        {
          "output_type": "stream",
          "name": "stderr",
          "text": "Found the config file in: /config.json\n"
        },
        {
          "output_type": "execute_result",
          "execution_count": 2,
          "data": {
            "text/plain": "ComputeInstance({'state': 'Running', 'last_operation': {'operation_name': 'Start', 'operation_time': '2024-10-23T22:53:52.039Z', 'operation_status': 'Succeeded', 'operation_trigger': 'User'}, 'os_image_metadata': <azure.ai.ml.entities._compute._image_metadata.ImageMetadata object at 0x7fd536a24310>, 'services': [{'display_name': 'Jupyter', 'endpoint_uri': 'https://test1-dsrp-compute.eastus.instances.azureml.ms/tree/'}, {'display_name': 'Jupyter Lab', 'endpoint_uri': 'https://test1-dsrp-compute.eastus.instances.azureml.ms/lab'}], 'type': 'computeinstance', 'created_on': '2024-09-03T01:26:22.039142+0000', 'provisioning_state': 'Succeeded', 'provisioning_errors': None, 'name': 'test1-dsrp-compute', 'description': None, 'tags': {'ambiente': 'testing'}, 'properties': {}, 'print_as_yaml': False, 'id': '/subscriptions/0f61d6bf-ab3d-4df7-a666-edaf42eff57c/resourceGroups/AML-COURSE-DP100-2024/providers/Microsoft.MachineLearningServices/workspaces/dsrp-aml-dp100/computes/test1-dsrp-compute', 'Resource__source_path': '', 'base_path': '/mnt/batch/tasks/shared/LS_root/mounts/clusters/test1-dsrp-compute/code/Users/miguel.arquez12/dsrp-azure-data-scientist-course/notebooks', 'creation_context': None, 'serialize': <msrest.serialization.Serializer object at 0x7fd536a248e0>, 'resource_id': None, 'location': 'eastus', 'size': 'Standard_D2_v3', 'ssh_public_access_enabled': False, 'create_on_behalf_of': None, 'network_settings': <azure.ai.ml.entities._compute.compute.NetworkSettings object at 0x7fd536a25300>, 'ssh_settings': <azure.ai.ml.entities._compute.compute_instance.ComputeInstanceSshSettings object at 0x7fd536a24b50>, 'schedules': None, 'identity': None, 'idle_time_before_shutdown': 'PT60M', 'idle_time_before_shutdown_minutes': 60, 'setup_scripts': None, 'enable_node_public_ip': True, 'enable_sso': True, 'enable_root_access': True, 'release_quota_on_stop': False, 'enable_os_patching': False, 'custom_applications': None, 'subnet': None})"
          },
          "metadata": {}
        }
      ],
      "execution_count": 2,
      "metadata": {
        "jupyter": {
          "source_hidden": false,
          "outputs_hidden": false
        },
        "nteract": {
          "transient": {
            "deleting": false
          }
        },
        "gather": {
          "logged": 1729726120342
        }
      }
    },
    {
      "cell_type": "markdown",
      "source": [
        "# Creación Job Feature Engineering"
      ],
      "metadata": {
        "nteract": {
          "transient": {
            "deleting": false
          }
        }
      }
    },
    {
      "cell_type": "code",
      "source": [
        "INPUT_DATA_VERSION = 1\n",
        "feature_engineering_command_job = command(\n",
        "    inputs=dict(\n",
        "        input_data_version=INPUT_DATA_VERSION\n",
        "    ),\n",
        "    name=f\"dsrp-feature-engineering-job-FULL-{uuid.uuid4().fields[0]}\",\n",
        "    code=\"../pipelines/feature_engineering\",\n",
        "    command=\"python process_data.py --input_data_version ${{inputs.input_data_version}}\",\n",
        "    environment=\"dsrp-feature-engineering-env@latest\",\n",
        "    compute=COMPUTE_NAME\n",
        ")\n",
        "fe_created_job=ml_client.jobs.create_or_update(feature_engineering_command_job)\n",
        "fe_created_job"
      ],
      "outputs": [
        {
          "output_type": "stream",
          "name": "stderr",
          "text": "Changing node name dsrp-feature-engineering-job-FULL-2917804078 to lower case: dsrp-feature-engineering-job-full-2917804078 since upper case is not allowed node name.\n\u001b[32mUploading feature_engineering (0.01 MBs): 100%|██████████| 5707/5707 [00:00<00:00, 68356.36it/s]\n\u001b[39m\n\n"
        },
        {
          "output_type": "execute_result",
          "execution_count": 9,
          "data": {
            "text/plain": "Command({'parameters': {}, 'init': False, 'name': 'dsrp-feature-engineering-job-full-2917804078', 'type': 'command', 'status': 'Starting', 'log_files': None, 'description': None, 'tags': {}, 'properties': {'mlflow.source.git.repoURL': 'git@github.com:abdala9512/dsrp-azure-data-scientist-course.git', 'mlflow.source.git.branch': 'main', 'mlflow.source.git.commit': '8a35d58f9a51c207c4dc9c8346fbd750d1d5f7f6', 'azureml.git.dirty': 'True', '_azureml.ComputeTargetType': 'amlcdsi', '_azureml.ClusterName': 'test1-dsrp-compute', 'ContentSnapshotId': '0dbd58a9-141b-4db9-a1d3-2644b68b55b5'}, 'print_as_yaml': False, 'id': '/subscriptions/0f61d6bf-ab3d-4df7-a666-edaf42eff57c/resourceGroups/aml-course-dp100-2024/providers/Microsoft.MachineLearningServices/workspaces/dsrp-aml-dp100/jobs/dsrp-feature-engineering-job-full-2917804078', 'Resource__source_path': '', 'base_path': '/mnt/batch/tasks/shared/LS_root/mounts/clusters/test1-dsrp-compute/code/Users/miguel.arquez12/dsrp-azure-data-scientist-course/notebooks', 'creation_context': <azure.ai.ml.entities._system_data.SystemData object at 0x7fd534502860>, 'serialize': <msrest.serialization.Serializer object at 0x7fd534502530>, 'allowed_keys': {}, 'key_restriction': False, 'logger': <TraceLogger attr_dict (WARNING)>, 'display_name': 'dsrp-feature-engineering-job-full-2917804078', 'experiment_name': 'notebooks', 'compute': 'test1-dsrp-compute', 'services': {'Tracking': {'endpoint': 'azureml://eastus.api.azureml.ms/mlflow/v1.0/subscriptions/0f61d6bf-ab3d-4df7-a666-edaf42eff57c/resourceGroups/aml-course-dp100-2024/providers/Microsoft.MachineLearningServices/workspaces/dsrp-aml-dp100?', 'type': 'Tracking'}, 'Studio': {'endpoint': 'https://ml.azure.com/runs/dsrp-feature-engineering-job-full-2917804078?wsid=/subscriptions/0f61d6bf-ab3d-4df7-a666-edaf42eff57c/resourcegroups/aml-course-dp100-2024/workspaces/dsrp-aml-dp100&tid=4d1dfb70-f911-467d-89a6-9fb437b617e5', 'type': 'Studio'}}, 'comment': None, 'job_inputs': {'input_data_version': '1'}, 'job_outputs': {'default': {'type': 'uri_folder', 'path': 'azureml://datastores/workspaceartifactstore/ExperimentRun/dcid.dsrp-feature-engineering-job-full-2917804078', 'mode': 'rw_mount'}}, 'inputs': {'input_data_version': <azure.ai.ml.entities._job.pipeline._io.base.NodeInput object at 0x7fd5342dcb50>}, 'outputs': {'default': <azure.ai.ml.entities._job.pipeline._io.base.NodeOutput object at 0x7fd5342de500>}, 'component': CommandComponent({'latest_version': None, 'intellectual_property': None, 'auto_increment_version': True, 'source': 'REMOTE.WORKSPACE.JOB', 'is_anonymous': False, 'auto_delete_setting': None, 'name': 'dsrp-feature-engineering-job-full-2917804078', 'description': None, 'tags': {}, 'properties': {}, 'print_as_yaml': False, 'id': None, 'Resource__source_path': None, 'base_path': '/mnt/batch/tasks/shared/LS_root/mounts/clusters/test1-dsrp-compute/code/Users/miguel.arquez12/dsrp-azure-data-scientist-course/notebooks', 'creation_context': <azure.ai.ml.entities._system_data.SystemData object at 0x7fd534502860>, 'serialize': <msrest.serialization.Serializer object at 0x7fd5345007c0>, 'command': 'python process_data.py --input_data_version ${{inputs.input_data_version}}', 'code': '/subscriptions/0f61d6bf-ab3d-4df7-a666-edaf42eff57c/resourceGroups/aml-course-dp100-2024/providers/Microsoft.MachineLearningServices/workspaces/dsrp-aml-dp100/codes/77163aee-2dba-44ba-91d2-60581920fbf2/versions/1', 'environment_variables': {}, 'environment': '/subscriptions/0f61d6bf-ab3d-4df7-a666-edaf42eff57c/resourceGroups/aml-course-dp100-2024/providers/Microsoft.MachineLearningServices/workspaces/dsrp-aml-dp100/environments/dsrp-feature-engineering-env/versions/3', 'distribution': None, 'resources': None, 'queue_settings': None, 'version': None, 'schema': None, 'type': 'command', 'display_name': 'dsrp-feature-engineering-job-full-2917804078', 'is_deterministic': True, 'inputs': {'input_data_version': {'type': 'string', 'default': '1'}}, 'outputs': {'default': {'type': 'uri_folder', 'path': 'azureml://datastores/workspaceartifactstore/ExperimentRun/dcid.dsrp-feature-engineering-job-full-2917804078', 'mode': 'rw_mount'}}, 'yaml_str': None, 'other_parameter': {'status': 'Starting', 'parameters': {}}, 'additional_includes': []}), 'referenced_control_flow_node_instance_id': None, 'kwargs': {'services': {'Tracking': {'endpoint': 'azureml://eastus.api.azureml.ms/mlflow/v1.0/subscriptions/0f61d6bf-ab3d-4df7-a666-edaf42eff57c/resourceGroups/aml-course-dp100-2024/providers/Microsoft.MachineLearningServices/workspaces/dsrp-aml-dp100?', 'type': 'Tracking'}, 'Studio': {'endpoint': 'https://ml.azure.com/runs/dsrp-feature-engineering-job-full-2917804078?wsid=/subscriptions/0f61d6bf-ab3d-4df7-a666-edaf42eff57c/resourcegroups/aml-course-dp100-2024/workspaces/dsrp-aml-dp100&tid=4d1dfb70-f911-467d-89a6-9fb437b617e5', 'type': 'Studio'}}, 'status': 'Starting', 'creation_context': <azure.ai.ml.entities._system_data.SystemData object at 0x7fd534502860>}, 'instance_id': '3280a88d-b830-42a0-85b7-3054877dd7b5', 'source': 'BUILDER', 'validate_required_input_not_provided': True, 'limits': None, 'identity': None, 'distribution': None, 'environment_variables': {}, 'environment': 'dsrp-feature-engineering-env:3', 'resources': {'instance_count': 1, 'shm_size': '2g'}, 'queue_settings': None, 'swept': False})",
            "text/html": "<table style=\"width:100%\"><tr><th>Experiment</th><th>Name</th><th>Type</th><th>Status</th><th>Details Page</th></tr><tr><td>notebooks</td><td>dsrp-feature-engineering-job-full-2917804078</td><td>command</td><td>Starting</td><td><a href=\"https://ml.azure.com/runs/dsrp-feature-engineering-job-full-2917804078?wsid=/subscriptions/0f61d6bf-ab3d-4df7-a666-edaf42eff57c/resourcegroups/aml-course-dp100-2024/workspaces/dsrp-aml-dp100&amp;tid=4d1dfb70-f911-467d-89a6-9fb437b617e5\" target=\"_blank\" rel=\"noopener\">Link to Azure Machine Learning studio</a></td></tr></table>"
          },
          "metadata": {}
        }
      ],
      "execution_count": 9,
      "metadata": {
        "jupyter": {
          "source_hidden": false,
          "outputs_hidden": false
        },
        "nteract": {
          "transient": {
            "deleting": false
          }
        },
        "gather": {
          "logged": 1729726416408
        }
      }
    },
    {
      "cell_type": "markdown",
      "source": [
        "# Creación Job Machine Learning"
      ],
      "metadata": {
        "nteract": {
          "transient": {
            "deleting": false
          }
        }
      }
    },
    {
      "cell_type": "code",
      "source": [
        "import random\n",
        "\n",
        "EXPERIMENT_NAME = \"DSRP - Booking Cancellation Prediction 2024\"\n",
        "ALGORITHM = \"xgboost\"\n",
        "ml_command_job = command(\n",
        "    experiment_name=EXPERIMENT_NAME,\n",
        "    inputs=dict(\n",
        "        algorithm=ALGORITHM,\n",
        "        input_table_version=5\n",
        "    ),\n",
        "    name=f\"dsrp-machine-learning-job-{ALGORITHM}-{random.randint(1, 10000)}\",\n",
        "    code=\"../pipelines/modeling\",\n",
        "    command=\"python train.py --algorithm ${{inputs.algorithm}} --input_table_version ${{inputs.input_table_version}}\",\n",
        "    environment=\"dsrp-machine-learning-env@latest\",\n",
        "    compute=COMPUTE_NAME\n",
        ")\n",
        "ml_created_job=ml_client.jobs.create_or_update(ml_command_job)\n",
        "ml_created_job"
      ],
      "outputs": [
        {
          "output_type": "execute_result",
          "execution_count": 18,
          "data": {
            "text/plain": "Command({'parameters': {}, 'init': False, 'name': 'dsrp-machine-learning-job-xgboost-792', 'type': 'command', 'status': 'Starting', 'log_files': None, 'description': None, 'tags': {}, 'properties': {'mlflow.source.git.repoURL': 'git@github.com:abdala9512/dsrp-azure-data-scientist-course.git', 'mlflow.source.git.branch': 'main', 'mlflow.source.git.commit': '1e571bf34a1ea1f8b9b1e1a787fe38ca23ab5d17', 'azureml.git.dirty': 'True', '_azureml.ComputeTargetType': 'amlcdsi', '_azureml.ClusterName': 'test1-dsrp-compute', 'ContentSnapshotId': '43d1d39e-4923-4c7f-ac01-deb39c55be47'}, 'print_as_yaml': False, 'id': '/subscriptions/0f61d6bf-ab3d-4df7-a666-edaf42eff57c/resourceGroups/aml-course-dp100-2024/providers/Microsoft.MachineLearningServices/workspaces/dsrp-aml-dp100/jobs/dsrp-machine-learning-job-xgboost-792', 'Resource__source_path': '', 'base_path': '/mnt/batch/tasks/shared/LS_root/mounts/clusters/test1-dsrp-compute/code/Users/miguel.arquez12/dsrp-azure-data-scientist-course/notebooks', 'creation_context': <azure.ai.ml.entities._system_data.SystemData object at 0x7fe9f97b1f30>, 'serialize': <msrest.serialization.Serializer object at 0x7fe9f97b2ce0>, 'allowed_keys': {}, 'key_restriction': False, 'logger': <TraceLogger attr_dict (WARNING)>, 'display_name': 'dsrp-machine-learning-job-xgboost-792', 'experiment_name': 'DSRP - Booking Cancellation Prediction 2024', 'compute': 'test1-dsrp-compute', 'services': {'Tracking': {'endpoint': 'azureml://eastus.api.azureml.ms/mlflow/v1.0/subscriptions/0f61d6bf-ab3d-4df7-a666-edaf42eff57c/resourceGroups/aml-course-dp100-2024/providers/Microsoft.MachineLearningServices/workspaces/dsrp-aml-dp100?', 'type': 'Tracking'}, 'Studio': {'endpoint': 'https://ml.azure.com/runs/dsrp-machine-learning-job-xgboost-792?wsid=/subscriptions/0f61d6bf-ab3d-4df7-a666-edaf42eff57c/resourcegroups/aml-course-dp100-2024/workspaces/dsrp-aml-dp100&tid=4d1dfb70-f911-467d-89a6-9fb437b617e5', 'type': 'Studio'}}, 'comment': None, 'job_inputs': {'algorithm': 'xgboost', 'input_table_version': '5'}, 'job_outputs': {'default': {'type': 'uri_folder', 'path': 'azureml://datastores/workspaceartifactstore/ExperimentRun/dcid.dsrp-machine-learning-job-xgboost-792', 'mode': 'rw_mount'}}, 'inputs': {'algorithm': <azure.ai.ml.entities._job.pipeline._io.base.NodeInput object at 0x7fe9f97b01c0>, 'input_table_version': <azure.ai.ml.entities._job.pipeline._io.base.NodeInput object at 0x7fe9f97b17b0>}, 'outputs': {'default': <azure.ai.ml.entities._job.pipeline._io.base.NodeOutput object at 0x7fe9f97b0040>}, 'component': CommandComponent({'latest_version': None, 'intellectual_property': None, 'auto_increment_version': True, 'source': 'REMOTE.WORKSPACE.JOB', 'is_anonymous': False, 'auto_delete_setting': None, 'name': 'dsrp-machine-learning-job-xgboost-792', 'description': None, 'tags': {}, 'properties': {}, 'print_as_yaml': False, 'id': None, 'Resource__source_path': None, 'base_path': '/mnt/batch/tasks/shared/LS_root/mounts/clusters/test1-dsrp-compute/code/Users/miguel.arquez12/dsrp-azure-data-scientist-course/notebooks', 'creation_context': <azure.ai.ml.entities._system_data.SystemData object at 0x7fe9f97b1f30>, 'serialize': <msrest.serialization.Serializer object at 0x7fe9f97b00a0>, 'command': 'python train.py --algorithm ${{inputs.algorithm}} --input_table_version ${{inputs.input_table_version}}', 'code': '/subscriptions/0f61d6bf-ab3d-4df7-a666-edaf42eff57c/resourceGroups/aml-course-dp100-2024/providers/Microsoft.MachineLearningServices/workspaces/dsrp-aml-dp100/codes/4bfe9598-10bb-4398-93de-77ac102858b7/versions/1', 'environment_variables': {}, 'environment': '/subscriptions/0f61d6bf-ab3d-4df7-a666-edaf42eff57c/resourceGroups/aml-course-dp100-2024/providers/Microsoft.MachineLearningServices/workspaces/dsrp-aml-dp100/environments/dsrp-machine-learning-env/versions/1', 'distribution': None, 'resources': None, 'queue_settings': None, 'version': None, 'schema': None, 'type': 'command', 'display_name': 'dsrp-machine-learning-job-xgboost-792', 'is_deterministic': True, 'inputs': {'algorithm': {'type': 'string', 'default': 'xgboost'}, 'input_table_version': {'type': 'string', 'default': '5'}}, 'outputs': {'default': {'type': 'uri_folder', 'path': 'azureml://datastores/workspaceartifactstore/ExperimentRun/dcid.dsrp-machine-learning-job-xgboost-792', 'mode': 'rw_mount'}}, 'yaml_str': None, 'other_parameter': {'status': 'Starting', 'parameters': {}}, 'additional_includes': []}), 'referenced_control_flow_node_instance_id': None, 'kwargs': {'services': {'Tracking': {'endpoint': 'azureml://eastus.api.azureml.ms/mlflow/v1.0/subscriptions/0f61d6bf-ab3d-4df7-a666-edaf42eff57c/resourceGroups/aml-course-dp100-2024/providers/Microsoft.MachineLearningServices/workspaces/dsrp-aml-dp100?', 'type': 'Tracking'}, 'Studio': {'endpoint': 'https://ml.azure.com/runs/dsrp-machine-learning-job-xgboost-792?wsid=/subscriptions/0f61d6bf-ab3d-4df7-a666-edaf42eff57c/resourcegroups/aml-course-dp100-2024/workspaces/dsrp-aml-dp100&tid=4d1dfb70-f911-467d-89a6-9fb437b617e5', 'type': 'Studio'}}, 'status': 'Starting', 'creation_context': <azure.ai.ml.entities._system_data.SystemData object at 0x7fe9f97b1f30>}, 'instance_id': 'ef490ef3-c097-49d1-8740-f8e8f8cf2787', 'source': 'BUILDER', 'validate_required_input_not_provided': True, 'limits': None, 'identity': None, 'distribution': None, 'environment_variables': {}, 'environment': 'dsrp-machine-learning-env:1', 'resources': {'instance_count': 1, 'shm_size': '2g'}, 'queue_settings': None, 'swept': False})",
            "text/html": "<table style=\"width:100%\"><tr><th>Experiment</th><th>Name</th><th>Type</th><th>Status</th><th>Details Page</th></tr><tr><td>DSRP - Booking Cancellation Prediction 2024</td><td>dsrp-machine-learning-job-xgboost-792</td><td>command</td><td>Starting</td><td><a href=\"https://ml.azure.com/runs/dsrp-machine-learning-job-xgboost-792?wsid=/subscriptions/0f61d6bf-ab3d-4df7-a666-edaf42eff57c/resourcegroups/aml-course-dp100-2024/workspaces/dsrp-aml-dp100&amp;tid=4d1dfb70-f911-467d-89a6-9fb437b617e5\" target=\"_blank\" rel=\"noopener\">Link to Azure Machine Learning studio</a></td></tr></table>"
          },
          "metadata": {}
        }
      ],
      "execution_count": 18,
      "metadata": {
        "jupyter": {
          "source_hidden": false,
          "outputs_hidden": false
        },
        "nteract": {
          "transient": {
            "deleting": false
          }
        },
        "gather": {
          "logged": 1727918835596
        }
      }
    },
    {
      "cell_type": "markdown",
      "source": [
        "\n",
        "#"
      ],
      "metadata": {
        "nteract": {
          "transient": {
            "deleting": false
          }
        }
      }
    }
  ],
  "metadata": {
    "kernelspec": {
      "name": "python310-sdkv2",
      "language": "python",
      "display_name": "Python 3.10 - SDK v2"
    },
    "language_info": {
      "name": "python",
      "version": "3.10.14",
      "mimetype": "text/x-python",
      "codemirror_mode": {
        "name": "ipython",
        "version": 3
      },
      "pygments_lexer": "ipython3",
      "nbconvert_exporter": "python",
      "file_extension": ".py"
    },
    "microsoft": {
      "ms_spell_check": {
        "ms_spell_check_language": "en"
      },
      "host": {
        "AzureML": {
          "notebookHasBeenCompleted": true
        }
      }
    },
    "kernel_info": {
      "name": "python310-sdkv2"
    },
    "nteract": {
      "version": "nteract-front-end@1.0.0"
    }
  },
  "nbformat": 4,
  "nbformat_minor": 2
}